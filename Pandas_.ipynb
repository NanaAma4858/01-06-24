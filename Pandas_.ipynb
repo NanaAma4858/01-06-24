{
 "cells": [
  {
   "cell_type": "code",
   "execution_count": 1,
   "id": "34357a0e",
   "metadata": {},
   "outputs": [
    {
     "data": {
      "text/plain": [
       "'C:\\\\Users\\\\digiCAP - LT1 01.35\\\\Desktop'"
      ]
     },
     "execution_count": 1,
     "metadata": {},
     "output_type": "execute_result"
    }
   ],
   "source": [
    "%pwd"
   ]
  },
  {
   "cell_type": "markdown",
   "id": "78dc33fd",
   "metadata": {},
   "source": [
    "# Pandas and numpy"
   ]
  },
  {
   "cell_type": "markdown",
   "id": "a5e51d94",
   "metadata": {},
   "source": [
    "#### Importing libraries"
   ]
  },
  {
   "cell_type": "code",
   "execution_count": 2,
   "id": "ff935f3d",
   "metadata": {},
   "outputs": [],
   "source": [
    "import pandas as pd\n",
    "import numpy as np\n",
    "from sklearn.datasets import load_iris\n",
    "from pandas import Series, DataFrame\n",
    "import random"
   ]
  },
  {
   "cell_type": "markdown",
   "id": "dd84317e",
   "metadata": {},
   "source": [
    "# Load Iris Dataset From Sklearn"
   ]
  },
  {
   "cell_type": "code",
   "execution_count": 3,
   "id": "c5fa3fb8",
   "metadata": {},
   "outputs": [],
   "source": [
    "# Load the iris dataset\n",
    "iris = load_iris()\n",
    "\n",
    "# Extract the data and target from the dataset\n",
    "X = iris.data\n",
    "y = iris.target\n",
    "species = iris.target_names[y]\n",
    "\n",
    "# Combine the data, species into a single array\n",
    "data = np.column_stack((X, species))\n",
    "\n",
    "## converting data into dataframe and assigning it to df1\n",
    "df1=pd.DataFrame(data)\n",
    "\n",
    "# Assigning column names \n",
    "df1.columns = ['sepal_length', 'sepal_width', 'petal_length ', 'petal_width', 'species']\n"
   ]
  },
  {
   "cell_type": "code",
   "execution_count": 4,
   "id": "ebc1c674",
   "metadata": {
    "scrolled": true
   },
   "outputs": [
    {
     "data": {
      "text/html": [
       "<div>\n",
       "<style scoped>\n",
       "    .dataframe tbody tr th:only-of-type {\n",
       "        vertical-align: middle;\n",
       "    }\n",
       "\n",
       "    .dataframe tbody tr th {\n",
       "        vertical-align: top;\n",
       "    }\n",
       "\n",
       "    .dataframe thead th {\n",
       "        text-align: right;\n",
       "    }\n",
       "</style>\n",
       "<table border=\"1\" class=\"dataframe\">\n",
       "  <thead>\n",
       "    <tr style=\"text-align: right;\">\n",
       "      <th></th>\n",
       "      <th>sepal_length</th>\n",
       "      <th>sepal_width</th>\n",
       "      <th>petal_length</th>\n",
       "      <th>petal_width</th>\n",
       "      <th>species</th>\n",
       "    </tr>\n",
       "  </thead>\n",
       "  <tbody>\n",
       "    <tr>\n",
       "      <th>0</th>\n",
       "      <td>5.1</td>\n",
       "      <td>3.5</td>\n",
       "      <td>1.4</td>\n",
       "      <td>0.2</td>\n",
       "      <td>setosa</td>\n",
       "    </tr>\n",
       "    <tr>\n",
       "      <th>1</th>\n",
       "      <td>4.9</td>\n",
       "      <td>3.0</td>\n",
       "      <td>1.4</td>\n",
       "      <td>0.2</td>\n",
       "      <td>setosa</td>\n",
       "    </tr>\n",
       "    <tr>\n",
       "      <th>2</th>\n",
       "      <td>4.7</td>\n",
       "      <td>3.2</td>\n",
       "      <td>1.3</td>\n",
       "      <td>0.2</td>\n",
       "      <td>setosa</td>\n",
       "    </tr>\n",
       "    <tr>\n",
       "      <th>3</th>\n",
       "      <td>4.6</td>\n",
       "      <td>3.1</td>\n",
       "      <td>1.5</td>\n",
       "      <td>0.2</td>\n",
       "      <td>setosa</td>\n",
       "    </tr>\n",
       "    <tr>\n",
       "      <th>4</th>\n",
       "      <td>5.0</td>\n",
       "      <td>3.6</td>\n",
       "      <td>1.4</td>\n",
       "      <td>0.2</td>\n",
       "      <td>setosa</td>\n",
       "    </tr>\n",
       "    <tr>\n",
       "      <th>...</th>\n",
       "      <td>...</td>\n",
       "      <td>...</td>\n",
       "      <td>...</td>\n",
       "      <td>...</td>\n",
       "      <td>...</td>\n",
       "    </tr>\n",
       "    <tr>\n",
       "      <th>145</th>\n",
       "      <td>6.7</td>\n",
       "      <td>3.0</td>\n",
       "      <td>5.2</td>\n",
       "      <td>2.3</td>\n",
       "      <td>virginica</td>\n",
       "    </tr>\n",
       "    <tr>\n",
       "      <th>146</th>\n",
       "      <td>6.3</td>\n",
       "      <td>2.5</td>\n",
       "      <td>5.0</td>\n",
       "      <td>1.9</td>\n",
       "      <td>virginica</td>\n",
       "    </tr>\n",
       "    <tr>\n",
       "      <th>147</th>\n",
       "      <td>6.5</td>\n",
       "      <td>3.0</td>\n",
       "      <td>5.2</td>\n",
       "      <td>2.0</td>\n",
       "      <td>virginica</td>\n",
       "    </tr>\n",
       "    <tr>\n",
       "      <th>148</th>\n",
       "      <td>6.2</td>\n",
       "      <td>3.4</td>\n",
       "      <td>5.4</td>\n",
       "      <td>2.3</td>\n",
       "      <td>virginica</td>\n",
       "    </tr>\n",
       "    <tr>\n",
       "      <th>149</th>\n",
       "      <td>5.9</td>\n",
       "      <td>3.0</td>\n",
       "      <td>5.1</td>\n",
       "      <td>1.8</td>\n",
       "      <td>virginica</td>\n",
       "    </tr>\n",
       "  </tbody>\n",
       "</table>\n",
       "<p>150 rows × 5 columns</p>\n",
       "</div>"
      ],
      "text/plain": [
       "    sepal_length sepal_width petal_length  petal_width    species\n",
       "0            5.1         3.5           1.4         0.2     setosa\n",
       "1            4.9         3.0           1.4         0.2     setosa\n",
       "2            4.7         3.2           1.3         0.2     setosa\n",
       "3            4.6         3.1           1.5         0.2     setosa\n",
       "4            5.0         3.6           1.4         0.2     setosa\n",
       "..           ...         ...           ...         ...        ...\n",
       "145          6.7         3.0           5.2         2.3  virginica\n",
       "146          6.3         2.5           5.0         1.9  virginica\n",
       "147          6.5         3.0           5.2         2.0  virginica\n",
       "148          6.2         3.4           5.4         2.3  virginica\n",
       "149          5.9         3.0           5.1         1.8  virginica\n",
       "\n",
       "[150 rows x 5 columns]"
      ]
     },
     "execution_count": 4,
     "metadata": {},
     "output_type": "execute_result"
    }
   ],
   "source": [
    "df1"
   ]
  },
  {
   "cell_type": "code",
   "execution_count": null,
   "id": "8f0aaa33",
   "metadata": {},
   "outputs": [],
   "source": [
    "### Saving df1 as \"iris\""
   ]
  },
  {
   "cell_type": "code",
   "execution_count": 5,
   "id": "a4c16c2f",
   "metadata": {},
   "outputs": [],
   "source": [
    "df1.to_csv(\"iris.csv\", index = False)  # run this cell only once"
   ]
  },
  {
   "cell_type": "code",
   "execution_count": 6,
   "id": "c2b111fe",
   "metadata": {},
   "outputs": [],
   "source": [
    "schema=np.dtype([(\"sepal_length\", np.float16),\n",
    "                 (\"sepal_width\", np.float16),\n",
    "                 (\"petal_length\", np.float16),\n",
    "                 (\"petal_width\", np.float16),\n",
    "                 (\"species\",  \"<U16\")])"
   ]
  },
  {
   "cell_type": "code",
   "execution_count": 7,
   "id": "9663473b",
   "metadata": {},
   "outputs": [],
   "source": [
    "## Loading Iris dataset using numpy"
   ]
  },
  {
   "cell_type": "code",
   "execution_count": 8,
   "id": "8092aaa0",
   "metadata": {},
   "outputs": [
    {
     "data": {
      "text/plain": [
       "array([(5.1, 3.5, 1.4, 0.2, 'setosa'), (4.9, 3. , 1.4, 0.2, 'setosa'),\n",
       "       (4.7, 3.2, 1.3, 0.2, 'setosa'), (4.6, 3.1, 1.5, 0.2, 'setosa'),\n",
       "       (5. , 3.6, 1.4, 0.2, 'setosa'), (5.4, 3.9, 1.7, 0.4, 'setosa'),\n",
       "       (4.6, 3.4, 1.4, 0.3, 'setosa'), (5. , 3.4, 1.5, 0.2, 'setosa'),\n",
       "       (4.4, 2.9, 1.4, 0.2, 'setosa'), (4.9, 3.1, 1.5, 0.1, 'setosa'),\n",
       "       (5.4, 3.7, 1.5, 0.2, 'setosa'), (4.8, 3.4, 1.6, 0.2, 'setosa'),\n",
       "       (4.8, 3. , 1.4, 0.1, 'setosa'), (4.3, 3. , 1.1, 0.1, 'setosa'),\n",
       "       (5.8, 4. , 1.2, 0.2, 'setosa'), (5.7, 4.4, 1.5, 0.4, 'setosa'),\n",
       "       (5.4, 3.9, 1.3, 0.4, 'setosa'), (5.1, 3.5, 1.4, 0.3, 'setosa'),\n",
       "       (5.7, 3.8, 1.7, 0.3, 'setosa'), (5.1, 3.8, 1.5, 0.3, 'setosa'),\n",
       "       (5.4, 3.4, 1.7, 0.2, 'setosa'), (5.1, 3.7, 1.5, 0.4, 'setosa'),\n",
       "       (4.6, 3.6, 1. , 0.2, 'setosa'), (5.1, 3.3, 1.7, 0.5, 'setosa'),\n",
       "       (4.8, 3.4, 1.9, 0.2, 'setosa'), (5. , 3. , 1.6, 0.2, 'setosa'),\n",
       "       (5. , 3.4, 1.6, 0.4, 'setosa'), (5.2, 3.5, 1.5, 0.2, 'setosa'),\n",
       "       (5.2, 3.4, 1.4, 0.2, 'setosa'), (4.7, 3.2, 1.6, 0.2, 'setosa'),\n",
       "       (4.8, 3.1, 1.6, 0.2, 'setosa'), (5.4, 3.4, 1.5, 0.4, 'setosa'),\n",
       "       (5.2, 4.1, 1.5, 0.1, 'setosa'), (5.5, 4.2, 1.4, 0.2, 'setosa'),\n",
       "       (4.9, 3.1, 1.5, 0.2, 'setosa'), (5. , 3.2, 1.2, 0.2, 'setosa'),\n",
       "       (5.5, 3.5, 1.3, 0.2, 'setosa'), (4.9, 3.6, 1.4, 0.1, 'setosa'),\n",
       "       (4.4, 3. , 1.3, 0.2, 'setosa'), (5.1, 3.4, 1.5, 0.2, 'setosa'),\n",
       "       (5. , 3.5, 1.3, 0.3, 'setosa'), (4.5, 2.3, 1.3, 0.3, 'setosa'),\n",
       "       (4.4, 3.2, 1.3, 0.2, 'setosa'), (5. , 3.5, 1.6, 0.6, 'setosa'),\n",
       "       (5.1, 3.8, 1.9, 0.4, 'setosa'), (4.8, 3. , 1.4, 0.3, 'setosa'),\n",
       "       (5.1, 3.8, 1.6, 0.2, 'setosa'), (4.6, 3.2, 1.4, 0.2, 'setosa'),\n",
       "       (5.3, 3.7, 1.5, 0.2, 'setosa'), (5. , 3.3, 1.4, 0.2, 'setosa'),\n",
       "       (7. , 3.2, 4.7, 1.4, 'versicolor'),\n",
       "       (6.4, 3.2, 4.5, 1.5, 'versicolor'),\n",
       "       (6.9, 3.1, 4.9, 1.5, 'versicolor'),\n",
       "       (5.5, 2.3, 4. , 1.3, 'versicolor'),\n",
       "       (6.5, 2.8, 4.6, 1.5, 'versicolor'),\n",
       "       (5.7, 2.8, 4.5, 1.3, 'versicolor'),\n",
       "       (6.3, 3.3, 4.7, 1.6, 'versicolor'),\n",
       "       (4.9, 2.4, 3.3, 1. , 'versicolor'),\n",
       "       (6.6, 2.9, 4.6, 1.3, 'versicolor'),\n",
       "       (5.2, 2.7, 3.9, 1.4, 'versicolor'),\n",
       "       (5. , 2. , 3.5, 1. , 'versicolor'),\n",
       "       (5.9, 3. , 4.2, 1.5, 'versicolor'),\n",
       "       (6. , 2.2, 4. , 1. , 'versicolor'),\n",
       "       (6.1, 2.9, 4.7, 1.4, 'versicolor'),\n",
       "       (5.6, 2.9, 3.6, 1.3, 'versicolor'),\n",
       "       (6.7, 3.1, 4.4, 1.4, 'versicolor'),\n",
       "       (5.6, 3. , 4.5, 1.5, 'versicolor'),\n",
       "       (5.8, 2.7, 4.1, 1. , 'versicolor'),\n",
       "       (6.2, 2.2, 4.5, 1.5, 'versicolor'),\n",
       "       (5.6, 2.5, 3.9, 1.1, 'versicolor'),\n",
       "       (5.9, 3.2, 4.8, 1.8, 'versicolor'),\n",
       "       (6.1, 2.8, 4. , 1.3, 'versicolor'),\n",
       "       (6.3, 2.5, 4.9, 1.5, 'versicolor'),\n",
       "       (6.1, 2.8, 4.7, 1.2, 'versicolor'),\n",
       "       (6.4, 2.9, 4.3, 1.3, 'versicolor'),\n",
       "       (6.6, 3. , 4.4, 1.4, 'versicolor'),\n",
       "       (6.8, 2.8, 4.8, 1.4, 'versicolor'),\n",
       "       (6.7, 3. , 5. , 1.7, 'versicolor'),\n",
       "       (6. , 2.9, 4.5, 1.5, 'versicolor'),\n",
       "       (5.7, 2.6, 3.5, 1. , 'versicolor'),\n",
       "       (5.5, 2.4, 3.8, 1.1, 'versicolor'),\n",
       "       (5.5, 2.4, 3.7, 1. , 'versicolor'),\n",
       "       (5.8, 2.7, 3.9, 1.2, 'versicolor'),\n",
       "       (6. , 2.7, 5.1, 1.6, 'versicolor'),\n",
       "       (5.4, 3. , 4.5, 1.5, 'versicolor'),\n",
       "       (6. , 3.4, 4.5, 1.6, 'versicolor'),\n",
       "       (6.7, 3.1, 4.7, 1.5, 'versicolor'),\n",
       "       (6.3, 2.3, 4.4, 1.3, 'versicolor'),\n",
       "       (5.6, 3. , 4.1, 1.3, 'versicolor'),\n",
       "       (5.5, 2.5, 4. , 1.3, 'versicolor'),\n",
       "       (5.5, 2.6, 4.4, 1.2, 'versicolor'),\n",
       "       (6.1, 3. , 4.6, 1.4, 'versicolor'),\n",
       "       (5.8, 2.6, 4. , 1.2, 'versicolor'),\n",
       "       (5. , 2.3, 3.3, 1. , 'versicolor'),\n",
       "       (5.6, 2.7, 4.2, 1.3, 'versicolor'),\n",
       "       (5.7, 3. , 4.2, 1.2, 'versicolor'),\n",
       "       (5.7, 2.9, 4.2, 1.3, 'versicolor'),\n",
       "       (6.2, 2.9, 4.3, 1.3, 'versicolor'),\n",
       "       (5.1, 2.5, 3. , 1.1, 'versicolor'),\n",
       "       (5.7, 2.8, 4.1, 1.3, 'versicolor'),\n",
       "       (6.3, 3.3, 6. , 2.5, 'virginica'),\n",
       "       (5.8, 2.7, 5.1, 1.9, 'virginica'),\n",
       "       (7.1, 3. , 5.9, 2.1, 'virginica'),\n",
       "       (6.3, 2.9, 5.6, 1.8, 'virginica'),\n",
       "       (6.5, 3. , 5.8, 2.2, 'virginica'),\n",
       "       (7.6, 3. , 6.6, 2.1, 'virginica'),\n",
       "       (4.9, 2.5, 4.5, 1.7, 'virginica'),\n",
       "       (7.3, 2.9, 6.3, 1.8, 'virginica'),\n",
       "       (6.7, 2.5, 5.8, 1.8, 'virginica'),\n",
       "       (7.2, 3.6, 6.1, 2.5, 'virginica'),\n",
       "       (6.5, 3.2, 5.1, 2. , 'virginica'),\n",
       "       (6.4, 2.7, 5.3, 1.9, 'virginica'),\n",
       "       (6.8, 3. , 5.5, 2.1, 'virginica'),\n",
       "       (5.7, 2.5, 5. , 2. , 'virginica'),\n",
       "       (5.8, 2.8, 5.1, 2.4, 'virginica'),\n",
       "       (6.4, 3.2, 5.3, 2.3, 'virginica'),\n",
       "       (6.5, 3. , 5.5, 1.8, 'virginica'),\n",
       "       (7.7, 3.8, 6.7, 2.2, 'virginica'),\n",
       "       (7.7, 2.6, 6.9, 2.3, 'virginica'),\n",
       "       (6. , 2.2, 5. , 1.5, 'virginica'),\n",
       "       (6.9, 3.2, 5.7, 2.3, 'virginica'),\n",
       "       (5.6, 2.8, 4.9, 2. , 'virginica'),\n",
       "       (7.7, 2.8, 6.7, 2. , 'virginica'),\n",
       "       (6.3, 2.7, 4.9, 1.8, 'virginica'),\n",
       "       (6.7, 3.3, 5.7, 2.1, 'virginica'),\n",
       "       (7.2, 3.2, 6. , 1.8, 'virginica'),\n",
       "       (6.2, 2.8, 4.8, 1.8, 'virginica'),\n",
       "       (6.1, 3. , 4.9, 1.8, 'virginica'),\n",
       "       (6.4, 2.8, 5.6, 2.1, 'virginica'),\n",
       "       (7.2, 3. , 5.8, 1.6, 'virginica'),\n",
       "       (7.4, 2.8, 6.1, 1.9, 'virginica'),\n",
       "       (7.9, 3.8, 6.4, 2. , 'virginica'),\n",
       "       (6.4, 2.8, 5.6, 2.2, 'virginica'),\n",
       "       (6.3, 2.8, 5.1, 1.5, 'virginica'),\n",
       "       (6.1, 2.6, 5.6, 1.4, 'virginica'),\n",
       "       (7.7, 3. , 6.1, 2.3, 'virginica'),\n",
       "       (6.3, 3.4, 5.6, 2.4, 'virginica'),\n",
       "       (6.4, 3.1, 5.5, 1.8, 'virginica'),\n",
       "       (6. , 3. , 4.8, 1.8, 'virginica'),\n",
       "       (6.9, 3.1, 5.4, 2.1, 'virginica'),\n",
       "       (6.7, 3.1, 5.6, 2.4, 'virginica'),\n",
       "       (6.9, 3.1, 5.1, 2.3, 'virginica'),\n",
       "       (5.8, 2.7, 5.1, 1.9, 'virginica'),\n",
       "       (6.8, 3.2, 5.9, 2.3, 'virginica'),\n",
       "       (6.7, 3.3, 5.7, 2.5, 'virginica'),\n",
       "       (6.7, 3. , 5.2, 2.3, 'virginica'),\n",
       "       (6.3, 2.5, 5. , 1.9, 'virginica'),\n",
       "       (6.5, 3. , 5.2, 2. , 'virginica'),\n",
       "       (6.2, 3.4, 5.4, 2.3, 'virginica'),\n",
       "       (5.9, 3. , 5.1, 1.8, 'virginica')],\n",
       "      dtype=[('sepal_length', '<f2'), ('sepal_width', '<f2'), ('petal_length', '<f2'), ('petal_width', '<f2'), ('species', '<U16')])"
      ]
     },
     "execution_count": 8,
     "metadata": {},
     "output_type": "execute_result"
    }
   ],
   "source": [
    "np_data = np.loadtxt(\"iris.csv\", skiprows=1, dtype = schema, delimiter = \",\")\n",
    "np_data"
   ]
  },
  {
   "cell_type": "code",
   "execution_count": 9,
   "id": "838a9638",
   "metadata": {},
   "outputs": [
    {
     "data": {
      "text/plain": [
       "numpy.ndarray"
      ]
     },
     "execution_count": 9,
     "metadata": {},
     "output_type": "execute_result"
    }
   ],
   "source": [
    "type(np_data)"
   ]
  },
  {
   "cell_type": "code",
   "execution_count": 10,
   "id": "d3f8a668",
   "metadata": {},
   "outputs": [
    {
     "data": {
      "text/plain": [
       "array([(5.1, 3.5, 1.4, 0.2, 'setosa'), (4.9, 3. , 1.4, 0.2, 'setosa'),\n",
       "       (4.7, 3.2, 1.3, 0.2, 'setosa'), (4.6, 3.1, 1.5, 0.2, 'setosa'),\n",
       "       (5. , 3.6, 1.4, 0.2, 'setosa')],\n",
       "      dtype=[('sepal_length', '<f2'), ('sepal_width', '<f2'), ('petal_length', '<f2'), ('petal_width', '<f2'), ('species', '<U16')])"
      ]
     },
     "execution_count": 10,
     "metadata": {},
     "output_type": "execute_result"
    }
   ],
   "source": [
    "np_data[:5]"
   ]
  },
  {
   "cell_type": "code",
   "execution_count": 11,
   "id": "c339bad8",
   "metadata": {},
   "outputs": [
    {
     "data": {
      "text/plain": [
       "array([5.1, 4.9, 4.7, 4.6, 5. ], dtype=float16)"
      ]
     },
     "execution_count": 11,
     "metadata": {},
     "output_type": "execute_result"
    }
   ],
   "source": [
    "np_data[:5]['sepal_length']"
   ]
  },
  {
   "cell_type": "code",
   "execution_count": 12,
   "id": "d54a877c",
   "metadata": {},
   "outputs": [
    {
     "data": {
      "text/plain": [
       "array([(1.4, 'setosa'), (1.4, 'setosa'), (1.3, 'setosa'), (1.5, 'setosa'),\n",
       "       (1.4, 'setosa')],\n",
       "      dtype={'names': ['petal_length', 'species'], 'formats': ['<f2', '<U16'], 'offsets': [4, 8], 'itemsize': 72})"
      ]
     },
     "execution_count": 12,
     "metadata": {},
     "output_type": "execute_result"
    }
   ],
   "source": [
    "np_data[:5][['petal_length','species']]"
   ]
  },
  {
   "cell_type": "markdown",
   "id": "ee572f47",
   "metadata": {},
   "source": [
    "# Pandas"
   ]
  },
  {
   "cell_type": "code",
   "execution_count": 13,
   "id": "ee13cade",
   "metadata": {},
   "outputs": [],
   "source": [
    "pd_data = pd.read_csv(\"iris.csv\")"
   ]
  },
  {
   "cell_type": "code",
   "execution_count": 14,
   "id": "8238e32a",
   "metadata": {},
   "outputs": [
    {
     "data": {
      "text/html": [
       "<div>\n",
       "<style scoped>\n",
       "    .dataframe tbody tr th:only-of-type {\n",
       "        vertical-align: middle;\n",
       "    }\n",
       "\n",
       "    .dataframe tbody tr th {\n",
       "        vertical-align: top;\n",
       "    }\n",
       "\n",
       "    .dataframe thead th {\n",
       "        text-align: right;\n",
       "    }\n",
       "</style>\n",
       "<table border=\"1\" class=\"dataframe\">\n",
       "  <thead>\n",
       "    <tr style=\"text-align: right;\">\n",
       "      <th></th>\n",
       "      <th>sepal_length</th>\n",
       "      <th>sepal_width</th>\n",
       "      <th>petal_length</th>\n",
       "      <th>petal_width</th>\n",
       "      <th>species</th>\n",
       "    </tr>\n",
       "  </thead>\n",
       "  <tbody>\n",
       "    <tr>\n",
       "      <th>0</th>\n",
       "      <td>5.1</td>\n",
       "      <td>3.5</td>\n",
       "      <td>1.4</td>\n",
       "      <td>0.2</td>\n",
       "      <td>setosa</td>\n",
       "    </tr>\n",
       "    <tr>\n",
       "      <th>1</th>\n",
       "      <td>4.9</td>\n",
       "      <td>3.0</td>\n",
       "      <td>1.4</td>\n",
       "      <td>0.2</td>\n",
       "      <td>setosa</td>\n",
       "    </tr>\n",
       "    <tr>\n",
       "      <th>2</th>\n",
       "      <td>4.7</td>\n",
       "      <td>3.2</td>\n",
       "      <td>1.3</td>\n",
       "      <td>0.2</td>\n",
       "      <td>setosa</td>\n",
       "    </tr>\n",
       "    <tr>\n",
       "      <th>3</th>\n",
       "      <td>4.6</td>\n",
       "      <td>3.1</td>\n",
       "      <td>1.5</td>\n",
       "      <td>0.2</td>\n",
       "      <td>setosa</td>\n",
       "    </tr>\n",
       "    <tr>\n",
       "      <th>4</th>\n",
       "      <td>5.0</td>\n",
       "      <td>3.6</td>\n",
       "      <td>1.4</td>\n",
       "      <td>0.2</td>\n",
       "      <td>setosa</td>\n",
       "    </tr>\n",
       "    <tr>\n",
       "      <th>...</th>\n",
       "      <td>...</td>\n",
       "      <td>...</td>\n",
       "      <td>...</td>\n",
       "      <td>...</td>\n",
       "      <td>...</td>\n",
       "    </tr>\n",
       "    <tr>\n",
       "      <th>145</th>\n",
       "      <td>6.7</td>\n",
       "      <td>3.0</td>\n",
       "      <td>5.2</td>\n",
       "      <td>2.3</td>\n",
       "      <td>virginica</td>\n",
       "    </tr>\n",
       "    <tr>\n",
       "      <th>146</th>\n",
       "      <td>6.3</td>\n",
       "      <td>2.5</td>\n",
       "      <td>5.0</td>\n",
       "      <td>1.9</td>\n",
       "      <td>virginica</td>\n",
       "    </tr>\n",
       "    <tr>\n",
       "      <th>147</th>\n",
       "      <td>6.5</td>\n",
       "      <td>3.0</td>\n",
       "      <td>5.2</td>\n",
       "      <td>2.0</td>\n",
       "      <td>virginica</td>\n",
       "    </tr>\n",
       "    <tr>\n",
       "      <th>148</th>\n",
       "      <td>6.2</td>\n",
       "      <td>3.4</td>\n",
       "      <td>5.4</td>\n",
       "      <td>2.3</td>\n",
       "      <td>virginica</td>\n",
       "    </tr>\n",
       "    <tr>\n",
       "      <th>149</th>\n",
       "      <td>5.9</td>\n",
       "      <td>3.0</td>\n",
       "      <td>5.1</td>\n",
       "      <td>1.8</td>\n",
       "      <td>virginica</td>\n",
       "    </tr>\n",
       "  </tbody>\n",
       "</table>\n",
       "<p>150 rows × 5 columns</p>\n",
       "</div>"
      ],
      "text/plain": [
       "     sepal_length  sepal_width  petal_length   petal_width    species\n",
       "0             5.1          3.5            1.4          0.2     setosa\n",
       "1             4.9          3.0            1.4          0.2     setosa\n",
       "2             4.7          3.2            1.3          0.2     setosa\n",
       "3             4.6          3.1            1.5          0.2     setosa\n",
       "4             5.0          3.6            1.4          0.2     setosa\n",
       "..            ...          ...            ...          ...        ...\n",
       "145           6.7          3.0            5.2          2.3  virginica\n",
       "146           6.3          2.5            5.0          1.9  virginica\n",
       "147           6.5          3.0            5.2          2.0  virginica\n",
       "148           6.2          3.4            5.4          2.3  virginica\n",
       "149           5.9          3.0            5.1          1.8  virginica\n",
       "\n",
       "[150 rows x 5 columns]"
      ]
     },
     "execution_count": 14,
     "metadata": {},
     "output_type": "execute_result"
    }
   ],
   "source": [
    "pd_data"
   ]
  },
  {
   "cell_type": "code",
   "execution_count": 15,
   "id": "9580d4b0",
   "metadata": {},
   "outputs": [
    {
     "data": {
      "text/plain": [
       "pandas.core.frame.DataFrame"
      ]
     },
     "execution_count": 15,
     "metadata": {},
     "output_type": "execute_result"
    }
   ],
   "source": [
    "type(pd_data)"
   ]
  },
  {
   "cell_type": "code",
   "execution_count": 16,
   "id": "77f3f5ab",
   "metadata": {},
   "outputs": [
    {
     "data": {
      "text/html": [
       "<div>\n",
       "<style scoped>\n",
       "    .dataframe tbody tr th:only-of-type {\n",
       "        vertical-align: middle;\n",
       "    }\n",
       "\n",
       "    .dataframe tbody tr th {\n",
       "        vertical-align: top;\n",
       "    }\n",
       "\n",
       "    .dataframe thead th {\n",
       "        text-align: right;\n",
       "    }\n",
       "</style>\n",
       "<table border=\"1\" class=\"dataframe\">\n",
       "  <thead>\n",
       "    <tr style=\"text-align: right;\">\n",
       "      <th></th>\n",
       "      <th>sepal_length</th>\n",
       "      <th>sepal_width</th>\n",
       "      <th>petal_length</th>\n",
       "      <th>petal_width</th>\n",
       "      <th>species</th>\n",
       "    </tr>\n",
       "  </thead>\n",
       "  <tbody>\n",
       "    <tr>\n",
       "      <th>0</th>\n",
       "      <td>5.1</td>\n",
       "      <td>3.5</td>\n",
       "      <td>1.4</td>\n",
       "      <td>0.2</td>\n",
       "      <td>setosa</td>\n",
       "    </tr>\n",
       "    <tr>\n",
       "      <th>1</th>\n",
       "      <td>4.9</td>\n",
       "      <td>3.0</td>\n",
       "      <td>1.4</td>\n",
       "      <td>0.2</td>\n",
       "      <td>setosa</td>\n",
       "    </tr>\n",
       "    <tr>\n",
       "      <th>2</th>\n",
       "      <td>4.7</td>\n",
       "      <td>3.2</td>\n",
       "      <td>1.3</td>\n",
       "      <td>0.2</td>\n",
       "      <td>setosa</td>\n",
       "    </tr>\n",
       "    <tr>\n",
       "      <th>3</th>\n",
       "      <td>4.6</td>\n",
       "      <td>3.1</td>\n",
       "      <td>1.5</td>\n",
       "      <td>0.2</td>\n",
       "      <td>setosa</td>\n",
       "    </tr>\n",
       "    <tr>\n",
       "      <th>4</th>\n",
       "      <td>5.0</td>\n",
       "      <td>3.6</td>\n",
       "      <td>1.4</td>\n",
       "      <td>0.2</td>\n",
       "      <td>setosa</td>\n",
       "    </tr>\n",
       "  </tbody>\n",
       "</table>\n",
       "</div>"
      ],
      "text/plain": [
       "   sepal_length  sepal_width  petal_length   petal_width species\n",
       "0           5.1          3.5            1.4          0.2  setosa\n",
       "1           4.9          3.0            1.4          0.2  setosa\n",
       "2           4.7          3.2            1.3          0.2  setosa\n",
       "3           4.6          3.1            1.5          0.2  setosa\n",
       "4           5.0          3.6            1.4          0.2  setosa"
      ]
     },
     "execution_count": 16,
     "metadata": {},
     "output_type": "execute_result"
    }
   ],
   "source": [
    "pd_data.head()"
   ]
  },
  {
   "cell_type": "code",
   "execution_count": 17,
   "id": "a1ae0b14",
   "metadata": {},
   "outputs": [
    {
     "data": {
      "text/plain": [
       "0    5.1\n",
       "1    4.9\n",
       "2    4.7\n",
       "3    4.6\n",
       "4    5.0\n",
       "Name: sepal_length, dtype: float64"
      ]
     },
     "execution_count": 17,
     "metadata": {},
     "output_type": "execute_result"
    }
   ],
   "source": [
    "pd_data.head().sepal_length"
   ]
  },
  {
   "cell_type": "code",
   "execution_count": 18,
   "id": "90ab55bf",
   "metadata": {},
   "outputs": [
    {
     "data": {
      "text/plain": [
       "Index(['sepal_length', 'sepal_width', 'petal_length ', 'petal_width',\n",
       "       'species'],\n",
       "      dtype='object')"
      ]
     },
     "execution_count": 18,
     "metadata": {},
     "output_type": "execute_result"
    }
   ],
   "source": [
    "pd_data.columns"
   ]
  },
  {
   "cell_type": "code",
   "execution_count": 19,
   "id": "97347d03",
   "metadata": {},
   "outputs": [
    {
     "data": {
      "text/html": [
       "<div>\n",
       "<style scoped>\n",
       "    .dataframe tbody tr th:only-of-type {\n",
       "        vertical-align: middle;\n",
       "    }\n",
       "\n",
       "    .dataframe tbody tr th {\n",
       "        vertical-align: top;\n",
       "    }\n",
       "\n",
       "    .dataframe thead th {\n",
       "        text-align: right;\n",
       "    }\n",
       "</style>\n",
       "<table border=\"1\" class=\"dataframe\">\n",
       "  <thead>\n",
       "    <tr style=\"text-align: right;\">\n",
       "      <th></th>\n",
       "      <th>petal_length</th>\n",
       "      <th>species</th>\n",
       "    </tr>\n",
       "  </thead>\n",
       "  <tbody>\n",
       "    <tr>\n",
       "      <th>0</th>\n",
       "      <td>1.4</td>\n",
       "      <td>setosa</td>\n",
       "    </tr>\n",
       "    <tr>\n",
       "      <th>1</th>\n",
       "      <td>1.4</td>\n",
       "      <td>setosa</td>\n",
       "    </tr>\n",
       "    <tr>\n",
       "      <th>2</th>\n",
       "      <td>1.3</td>\n",
       "      <td>setosa</td>\n",
       "    </tr>\n",
       "    <tr>\n",
       "      <th>3</th>\n",
       "      <td>1.5</td>\n",
       "      <td>setosa</td>\n",
       "    </tr>\n",
       "    <tr>\n",
       "      <th>4</th>\n",
       "      <td>1.4</td>\n",
       "      <td>setosa</td>\n",
       "    </tr>\n",
       "  </tbody>\n",
       "</table>\n",
       "</div>"
      ],
      "text/plain": [
       "   petal_length  species\n",
       "0            1.4  setosa\n",
       "1            1.4  setosa\n",
       "2            1.3  setosa\n",
       "3            1.5  setosa\n",
       "4            1.4  setosa"
      ]
     },
     "execution_count": 19,
     "metadata": {},
     "output_type": "execute_result"
    }
   ],
   "source": [
    " pd_data.head().loc[:, ['petal_length ','species']]"
   ]
  },
  {
   "cell_type": "code",
   "execution_count": 20,
   "id": "03ac687e",
   "metadata": {},
   "outputs": [
    {
     "data": {
      "text/plain": [
       "pandas.core.series.Series"
      ]
     },
     "execution_count": 20,
     "metadata": {},
     "output_type": "execute_result"
    }
   ],
   "source": [
    "type( pd_data.sepal_length)"
   ]
  },
  {
   "cell_type": "code",
   "execution_count": 21,
   "id": "9cf0e9d7",
   "metadata": {},
   "outputs": [
    {
     "data": {
      "text/plain": [
       "array([[5.1, 3.5, 1.4, 0.2, 'setosa'],\n",
       "       [4.9, 3.0, 1.4, 0.2, 'setosa'],\n",
       "       [4.7, 3.2, 1.3, 0.2, 'setosa'],\n",
       "       [4.6, 3.1, 1.5, 0.2, 'setosa'],\n",
       "       [5.0, 3.6, 1.4, 0.2, 'setosa'],\n",
       "       [5.4, 3.9, 1.7, 0.4, 'setosa'],\n",
       "       [4.6, 3.4, 1.4, 0.3, 'setosa'],\n",
       "       [5.0, 3.4, 1.5, 0.2, 'setosa'],\n",
       "       [4.4, 2.9, 1.4, 0.2, 'setosa'],\n",
       "       [4.9, 3.1, 1.5, 0.1, 'setosa'],\n",
       "       [5.4, 3.7, 1.5, 0.2, 'setosa'],\n",
       "       [4.8, 3.4, 1.6, 0.2, 'setosa'],\n",
       "       [4.8, 3.0, 1.4, 0.1, 'setosa'],\n",
       "       [4.3, 3.0, 1.1, 0.1, 'setosa'],\n",
       "       [5.8, 4.0, 1.2, 0.2, 'setosa'],\n",
       "       [5.7, 4.4, 1.5, 0.4, 'setosa'],\n",
       "       [5.4, 3.9, 1.3, 0.4, 'setosa'],\n",
       "       [5.1, 3.5, 1.4, 0.3, 'setosa'],\n",
       "       [5.7, 3.8, 1.7, 0.3, 'setosa'],\n",
       "       [5.1, 3.8, 1.5, 0.3, 'setosa'],\n",
       "       [5.4, 3.4, 1.7, 0.2, 'setosa'],\n",
       "       [5.1, 3.7, 1.5, 0.4, 'setosa'],\n",
       "       [4.6, 3.6, 1.0, 0.2, 'setosa'],\n",
       "       [5.1, 3.3, 1.7, 0.5, 'setosa'],\n",
       "       [4.8, 3.4, 1.9, 0.2, 'setosa'],\n",
       "       [5.0, 3.0, 1.6, 0.2, 'setosa'],\n",
       "       [5.0, 3.4, 1.6, 0.4, 'setosa'],\n",
       "       [5.2, 3.5, 1.5, 0.2, 'setosa'],\n",
       "       [5.2, 3.4, 1.4, 0.2, 'setosa'],\n",
       "       [4.7, 3.2, 1.6, 0.2, 'setosa'],\n",
       "       [4.8, 3.1, 1.6, 0.2, 'setosa'],\n",
       "       [5.4, 3.4, 1.5, 0.4, 'setosa'],\n",
       "       [5.2, 4.1, 1.5, 0.1, 'setosa'],\n",
       "       [5.5, 4.2, 1.4, 0.2, 'setosa'],\n",
       "       [4.9, 3.1, 1.5, 0.2, 'setosa'],\n",
       "       [5.0, 3.2, 1.2, 0.2, 'setosa'],\n",
       "       [5.5, 3.5, 1.3, 0.2, 'setosa'],\n",
       "       [4.9, 3.6, 1.4, 0.1, 'setosa'],\n",
       "       [4.4, 3.0, 1.3, 0.2, 'setosa'],\n",
       "       [5.1, 3.4, 1.5, 0.2, 'setosa'],\n",
       "       [5.0, 3.5, 1.3, 0.3, 'setosa'],\n",
       "       [4.5, 2.3, 1.3, 0.3, 'setosa'],\n",
       "       [4.4, 3.2, 1.3, 0.2, 'setosa'],\n",
       "       [5.0, 3.5, 1.6, 0.6, 'setosa'],\n",
       "       [5.1, 3.8, 1.9, 0.4, 'setosa'],\n",
       "       [4.8, 3.0, 1.4, 0.3, 'setosa'],\n",
       "       [5.1, 3.8, 1.6, 0.2, 'setosa'],\n",
       "       [4.6, 3.2, 1.4, 0.2, 'setosa'],\n",
       "       [5.3, 3.7, 1.5, 0.2, 'setosa'],\n",
       "       [5.0, 3.3, 1.4, 0.2, 'setosa'],\n",
       "       [7.0, 3.2, 4.7, 1.4, 'versicolor'],\n",
       "       [6.4, 3.2, 4.5, 1.5, 'versicolor'],\n",
       "       [6.9, 3.1, 4.9, 1.5, 'versicolor'],\n",
       "       [5.5, 2.3, 4.0, 1.3, 'versicolor'],\n",
       "       [6.5, 2.8, 4.6, 1.5, 'versicolor'],\n",
       "       [5.7, 2.8, 4.5, 1.3, 'versicolor'],\n",
       "       [6.3, 3.3, 4.7, 1.6, 'versicolor'],\n",
       "       [4.9, 2.4, 3.3, 1.0, 'versicolor'],\n",
       "       [6.6, 2.9, 4.6, 1.3, 'versicolor'],\n",
       "       [5.2, 2.7, 3.9, 1.4, 'versicolor'],\n",
       "       [5.0, 2.0, 3.5, 1.0, 'versicolor'],\n",
       "       [5.9, 3.0, 4.2, 1.5, 'versicolor'],\n",
       "       [6.0, 2.2, 4.0, 1.0, 'versicolor'],\n",
       "       [6.1, 2.9, 4.7, 1.4, 'versicolor'],\n",
       "       [5.6, 2.9, 3.6, 1.3, 'versicolor'],\n",
       "       [6.7, 3.1, 4.4, 1.4, 'versicolor'],\n",
       "       [5.6, 3.0, 4.5, 1.5, 'versicolor'],\n",
       "       [5.8, 2.7, 4.1, 1.0, 'versicolor'],\n",
       "       [6.2, 2.2, 4.5, 1.5, 'versicolor'],\n",
       "       [5.6, 2.5, 3.9, 1.1, 'versicolor'],\n",
       "       [5.9, 3.2, 4.8, 1.8, 'versicolor'],\n",
       "       [6.1, 2.8, 4.0, 1.3, 'versicolor'],\n",
       "       [6.3, 2.5, 4.9, 1.5, 'versicolor'],\n",
       "       [6.1, 2.8, 4.7, 1.2, 'versicolor'],\n",
       "       [6.4, 2.9, 4.3, 1.3, 'versicolor'],\n",
       "       [6.6, 3.0, 4.4, 1.4, 'versicolor'],\n",
       "       [6.8, 2.8, 4.8, 1.4, 'versicolor'],\n",
       "       [6.7, 3.0, 5.0, 1.7, 'versicolor'],\n",
       "       [6.0, 2.9, 4.5, 1.5, 'versicolor'],\n",
       "       [5.7, 2.6, 3.5, 1.0, 'versicolor'],\n",
       "       [5.5, 2.4, 3.8, 1.1, 'versicolor'],\n",
       "       [5.5, 2.4, 3.7, 1.0, 'versicolor'],\n",
       "       [5.8, 2.7, 3.9, 1.2, 'versicolor'],\n",
       "       [6.0, 2.7, 5.1, 1.6, 'versicolor'],\n",
       "       [5.4, 3.0, 4.5, 1.5, 'versicolor'],\n",
       "       [6.0, 3.4, 4.5, 1.6, 'versicolor'],\n",
       "       [6.7, 3.1, 4.7, 1.5, 'versicolor'],\n",
       "       [6.3, 2.3, 4.4, 1.3, 'versicolor'],\n",
       "       [5.6, 3.0, 4.1, 1.3, 'versicolor'],\n",
       "       [5.5, 2.5, 4.0, 1.3, 'versicolor'],\n",
       "       [5.5, 2.6, 4.4, 1.2, 'versicolor'],\n",
       "       [6.1, 3.0, 4.6, 1.4, 'versicolor'],\n",
       "       [5.8, 2.6, 4.0, 1.2, 'versicolor'],\n",
       "       [5.0, 2.3, 3.3, 1.0, 'versicolor'],\n",
       "       [5.6, 2.7, 4.2, 1.3, 'versicolor'],\n",
       "       [5.7, 3.0, 4.2, 1.2, 'versicolor'],\n",
       "       [5.7, 2.9, 4.2, 1.3, 'versicolor'],\n",
       "       [6.2, 2.9, 4.3, 1.3, 'versicolor'],\n",
       "       [5.1, 2.5, 3.0, 1.1, 'versicolor'],\n",
       "       [5.7, 2.8, 4.1, 1.3, 'versicolor'],\n",
       "       [6.3, 3.3, 6.0, 2.5, 'virginica'],\n",
       "       [5.8, 2.7, 5.1, 1.9, 'virginica'],\n",
       "       [7.1, 3.0, 5.9, 2.1, 'virginica'],\n",
       "       [6.3, 2.9, 5.6, 1.8, 'virginica'],\n",
       "       [6.5, 3.0, 5.8, 2.2, 'virginica'],\n",
       "       [7.6, 3.0, 6.6, 2.1, 'virginica'],\n",
       "       [4.9, 2.5, 4.5, 1.7, 'virginica'],\n",
       "       [7.3, 2.9, 6.3, 1.8, 'virginica'],\n",
       "       [6.7, 2.5, 5.8, 1.8, 'virginica'],\n",
       "       [7.2, 3.6, 6.1, 2.5, 'virginica'],\n",
       "       [6.5, 3.2, 5.1, 2.0, 'virginica'],\n",
       "       [6.4, 2.7, 5.3, 1.9, 'virginica'],\n",
       "       [6.8, 3.0, 5.5, 2.1, 'virginica'],\n",
       "       [5.7, 2.5, 5.0, 2.0, 'virginica'],\n",
       "       [5.8, 2.8, 5.1, 2.4, 'virginica'],\n",
       "       [6.4, 3.2, 5.3, 2.3, 'virginica'],\n",
       "       [6.5, 3.0, 5.5, 1.8, 'virginica'],\n",
       "       [7.7, 3.8, 6.7, 2.2, 'virginica'],\n",
       "       [7.7, 2.6, 6.9, 2.3, 'virginica'],\n",
       "       [6.0, 2.2, 5.0, 1.5, 'virginica'],\n",
       "       [6.9, 3.2, 5.7, 2.3, 'virginica'],\n",
       "       [5.6, 2.8, 4.9, 2.0, 'virginica'],\n",
       "       [7.7, 2.8, 6.7, 2.0, 'virginica'],\n",
       "       [6.3, 2.7, 4.9, 1.8, 'virginica'],\n",
       "       [6.7, 3.3, 5.7, 2.1, 'virginica'],\n",
       "       [7.2, 3.2, 6.0, 1.8, 'virginica'],\n",
       "       [6.2, 2.8, 4.8, 1.8, 'virginica'],\n",
       "       [6.1, 3.0, 4.9, 1.8, 'virginica'],\n",
       "       [6.4, 2.8, 5.6, 2.1, 'virginica'],\n",
       "       [7.2, 3.0, 5.8, 1.6, 'virginica'],\n",
       "       [7.4, 2.8, 6.1, 1.9, 'virginica'],\n",
       "       [7.9, 3.8, 6.4, 2.0, 'virginica'],\n",
       "       [6.4, 2.8, 5.6, 2.2, 'virginica'],\n",
       "       [6.3, 2.8, 5.1, 1.5, 'virginica'],\n",
       "       [6.1, 2.6, 5.6, 1.4, 'virginica'],\n",
       "       [7.7, 3.0, 6.1, 2.3, 'virginica'],\n",
       "       [6.3, 3.4, 5.6, 2.4, 'virginica'],\n",
       "       [6.4, 3.1, 5.5, 1.8, 'virginica'],\n",
       "       [6.0, 3.0, 4.8, 1.8, 'virginica'],\n",
       "       [6.9, 3.1, 5.4, 2.1, 'virginica'],\n",
       "       [6.7, 3.1, 5.6, 2.4, 'virginica'],\n",
       "       [6.9, 3.1, 5.1, 2.3, 'virginica'],\n",
       "       [5.8, 2.7, 5.1, 1.9, 'virginica'],\n",
       "       [6.8, 3.2, 5.9, 2.3, 'virginica'],\n",
       "       [6.7, 3.3, 5.7, 2.5, 'virginica'],\n",
       "       [6.7, 3.0, 5.2, 2.3, 'virginica'],\n",
       "       [6.3, 2.5, 5.0, 1.9, 'virginica'],\n",
       "       [6.5, 3.0, 5.2, 2.0, 'virginica'],\n",
       "       [6.2, 3.4, 5.4, 2.3, 'virginica'],\n",
       "       [5.9, 3.0, 5.1, 1.8, 'virginica']], dtype=object)"
      ]
     },
     "execution_count": 21,
     "metadata": {},
     "output_type": "execute_result"
    }
   ],
   "source": [
    "pd_data.values"
   ]
  },
  {
   "cell_type": "code",
   "execution_count": 22,
   "id": "63549ea7",
   "metadata": {},
   "outputs": [
    {
     "data": {
      "text/html": [
       "<div>\n",
       "<style scoped>\n",
       "    .dataframe tbody tr th:only-of-type {\n",
       "        vertical-align: middle;\n",
       "    }\n",
       "\n",
       "    .dataframe tbody tr th {\n",
       "        vertical-align: top;\n",
       "    }\n",
       "\n",
       "    .dataframe thead th {\n",
       "        text-align: right;\n",
       "    }\n",
       "</style>\n",
       "<table border=\"1\" class=\"dataframe\">\n",
       "  <thead>\n",
       "    <tr style=\"text-align: right;\">\n",
       "      <th></th>\n",
       "      <th>sepal_length</th>\n",
       "      <th>sepal_width</th>\n",
       "      <th>petal_length</th>\n",
       "      <th>petal_width</th>\n",
       "      <th>species</th>\n",
       "    </tr>\n",
       "  </thead>\n",
       "  <tbody>\n",
       "    <tr>\n",
       "      <th>0</th>\n",
       "      <td>5.101562</td>\n",
       "      <td>3.500000</td>\n",
       "      <td>1.400391</td>\n",
       "      <td>0.199951</td>\n",
       "      <td>setosa</td>\n",
       "    </tr>\n",
       "    <tr>\n",
       "      <th>1</th>\n",
       "      <td>4.898438</td>\n",
       "      <td>3.000000</td>\n",
       "      <td>1.400391</td>\n",
       "      <td>0.199951</td>\n",
       "      <td>setosa</td>\n",
       "    </tr>\n",
       "    <tr>\n",
       "      <th>2</th>\n",
       "      <td>4.699219</td>\n",
       "      <td>3.199219</td>\n",
       "      <td>1.299805</td>\n",
       "      <td>0.199951</td>\n",
       "      <td>setosa</td>\n",
       "    </tr>\n",
       "    <tr>\n",
       "      <th>3</th>\n",
       "      <td>4.601562</td>\n",
       "      <td>3.099609</td>\n",
       "      <td>1.500000</td>\n",
       "      <td>0.199951</td>\n",
       "      <td>setosa</td>\n",
       "    </tr>\n",
       "    <tr>\n",
       "      <th>4</th>\n",
       "      <td>5.000000</td>\n",
       "      <td>3.599609</td>\n",
       "      <td>1.400391</td>\n",
       "      <td>0.199951</td>\n",
       "      <td>setosa</td>\n",
       "    </tr>\n",
       "    <tr>\n",
       "      <th>...</th>\n",
       "      <td>...</td>\n",
       "      <td>...</td>\n",
       "      <td>...</td>\n",
       "      <td>...</td>\n",
       "      <td>...</td>\n",
       "    </tr>\n",
       "    <tr>\n",
       "      <th>145</th>\n",
       "      <td>6.699219</td>\n",
       "      <td>3.000000</td>\n",
       "      <td>5.199219</td>\n",
       "      <td>2.300781</td>\n",
       "      <td>virginica</td>\n",
       "    </tr>\n",
       "    <tr>\n",
       "      <th>146</th>\n",
       "      <td>6.300781</td>\n",
       "      <td>2.500000</td>\n",
       "      <td>5.000000</td>\n",
       "      <td>1.900391</td>\n",
       "      <td>virginica</td>\n",
       "    </tr>\n",
       "    <tr>\n",
       "      <th>147</th>\n",
       "      <td>6.500000</td>\n",
       "      <td>3.000000</td>\n",
       "      <td>5.199219</td>\n",
       "      <td>2.000000</td>\n",
       "      <td>virginica</td>\n",
       "    </tr>\n",
       "    <tr>\n",
       "      <th>148</th>\n",
       "      <td>6.199219</td>\n",
       "      <td>3.400391</td>\n",
       "      <td>5.398438</td>\n",
       "      <td>2.300781</td>\n",
       "      <td>virginica</td>\n",
       "    </tr>\n",
       "    <tr>\n",
       "      <th>149</th>\n",
       "      <td>5.898438</td>\n",
       "      <td>3.000000</td>\n",
       "      <td>5.101562</td>\n",
       "      <td>1.799805</td>\n",
       "      <td>virginica</td>\n",
       "    </tr>\n",
       "  </tbody>\n",
       "</table>\n",
       "<p>150 rows × 5 columns</p>\n",
       "</div>"
      ],
      "text/plain": [
       "     sepal_length  sepal_width  petal_length  petal_width    species\n",
       "0        5.101562     3.500000      1.400391     0.199951     setosa\n",
       "1        4.898438     3.000000      1.400391     0.199951     setosa\n",
       "2        4.699219     3.199219      1.299805     0.199951     setosa\n",
       "3        4.601562     3.099609      1.500000     0.199951     setosa\n",
       "4        5.000000     3.599609      1.400391     0.199951     setosa\n",
       "..            ...          ...           ...          ...        ...\n",
       "145      6.699219     3.000000      5.199219     2.300781  virginica\n",
       "146      6.300781     2.500000      5.000000     1.900391  virginica\n",
       "147      6.500000     3.000000      5.199219     2.000000  virginica\n",
       "148      6.199219     3.400391      5.398438     2.300781  virginica\n",
       "149      5.898438     3.000000      5.101562     1.799805  virginica\n",
       "\n",
       "[150 rows x 5 columns]"
      ]
     },
     "execution_count": 22,
     "metadata": {},
     "output_type": "execute_result"
    }
   ],
   "source": [
    "np_pd_data = pd.DataFrame(np_data)  #### Converting to DataFrame\n",
    "np_pd_data"
   ]
  },
  {
   "cell_type": "markdown",
   "id": "b3e60c09",
   "metadata": {},
   "source": [
    "## Creating Series"
   ]
  },
  {
   "cell_type": "code",
   "execution_count": 23,
   "id": "7bfb8738",
   "metadata": {},
   "outputs": [
    {
     "name": "stdout",
     "output_type": "stream",
     "text": [
      "0    1\n",
      "1    2\n",
      "2    3\n",
      "3    4\n",
      "dtype: int64\n",
      "0    a\n",
      "1    b\n",
      "2    c\n",
      "3    d\n",
      "dtype: object\n"
     ]
    }
   ],
   "source": [
    "ser1 = Series([1,2,3,4])\n",
    "ser2 = Series(['a','b','c','d'])\n",
    "print(ser1)\n",
    "print(ser2)"
   ]
  },
  {
   "cell_type": "code",
   "execution_count": 24,
   "id": "7fdba2ac",
   "metadata": {},
   "outputs": [
    {
     "name": "stdout",
     "output_type": "stream",
     "text": [
      "Index(['New York', 'Los Angeles', 'Chicago', 'Houston', 'Philadephia',\n",
      "       'Phoenix', 'San Antonio', 'San Diego', 'Dallas'],\n",
      "      dtype='object')\n"
     ]
    }
   ],
   "source": [
    "idx = pd.Index([\"New York\",\"Los Angeles\",\"Chicago\",\n",
    "               \"Houston\",\"Philadephia\", \"Phoenix\", \"San Antonio\",\n",
    "               \"San Diego\", \"Dallas\"])\n",
    "print(idx)"
   ]
  },
  {
   "cell_type": "code",
   "execution_count": 25,
   "id": "10e8b717",
   "metadata": {
    "scrolled": true
   },
   "outputs": [
    {
     "name": "stdout",
     "output_type": "stream",
     "text": [
      "New York       8550.0\n",
      "Los Angeles    3972.0\n",
      "Chicago        2721.0\n",
      "Houston        2296.0\n",
      "Philadephia    1567.0\n",
      "Phoenix           NaN\n",
      "San Antonio    1470.0\n",
      "San Diego      1395.0\n",
      "Dallas         1300.0\n",
      "Name: Populaion, dtype: float64\n"
     ]
    }
   ],
   "source": [
    "pops = Series([8550,3972,2721,2296,1567,np.nan,1470,1395,1300],\n",
    "             index=idx, name = \"Populaion\")\n",
    "print(pops)"
   ]
  },
  {
   "cell_type": "code",
   "execution_count": 26,
   "id": "9c232315",
   "metadata": {},
   "outputs": [
    {
     "name": "stdout",
     "output_type": "stream",
     "text": [
      "New York        New York\n",
      "Los Angeles    Califonia\n",
      "Phoenix          Arizona\n",
      "San Antonio        Texas\n",
      "San Diego      Califonia\n",
      "Dallas             Texas\n",
      "Name: State, dtype: object\n"
     ]
    }
   ],
   "source": [
    "state = Series({'New York':'New York', 'Los Angeles': 'Califonia' , \n",
    "       'Phoenix': 'Arizona', 'San Antonio': 'Texas', 'San Diego': 'Califonia', 'Dallas': 'Texas'}, name = \"State\")\n",
    "print(state)"
   ]
  },
  {
   "cell_type": "code",
   "execution_count": 27,
   "id": "415c3202",
   "metadata": {
    "scrolled": true
   },
   "outputs": [
    {
     "name": "stdout",
     "output_type": "stream",
     "text": [
      "New York       302.60\n",
      "Los Angeles    468.70\n",
      "Philadephia    134.10\n",
      "Phoenix        516.70\n",
      "Austin         322.48\n",
      "Name: Area, dtype: float64\n"
     ]
    }
   ],
   "source": [
    "area= Series({'New York':302.6, 'Los Angeles': 468.7 , \n",
    "       'Philadephia':134.1,'Phoenix':516.7,'Austin':322.48}, name = \"Area\")\n",
    "print(area)"
   ]
  },
  {
   "cell_type": "markdown",
   "id": "7c9274b6",
   "metadata": {},
   "source": [
    "## Creating Dataframe"
   ]
  },
  {
   "cell_type": "code",
   "execution_count": 28,
   "id": "ac0146ef",
   "metadata": {},
   "outputs": [
    {
     "name": "stdout",
     "output_type": "stream",
     "text": [
      "[[0 1 2]\n",
      " [3 4 5]\n",
      " [6 7 8]]\n"
     ]
    }
   ],
   "source": [
    "# From a Numpy array\n",
    "mat = np.arange(0,9).reshape(3,3)\n",
    "print(mat)"
   ]
  },
  {
   "cell_type": "code",
   "execution_count": 29,
   "id": "6e9533d5",
   "metadata": {},
   "outputs": [
    {
     "name": "stdout",
     "output_type": "stream",
     "text": [
      "   0  1  2\n",
      "0  0  1  2\n",
      "1  3  4  5\n",
      "2  6  7  8\n"
     ]
    }
   ],
   "source": [
    "print(DataFrame(mat))"
   ]
  },
  {
   "cell_type": "code",
   "execution_count": 30,
   "id": "61307dcc",
   "metadata": {},
   "outputs": [
    {
     "name": "stdout",
     "output_type": "stream",
     "text": [
      "   alpha  beta  gamma\n",
      "a      0     1      2\n",
      "b      3     4      5\n",
      "c      6     7      8\n"
     ]
    }
   ],
   "source": [
    "# Adding labels\n",
    "print(DataFrame(mat, index=['a','b','c'],columns= ['alpha','beta','gamma']))"
   ]
  },
  {
   "cell_type": "code",
   "execution_count": 31,
   "id": "6c2ba1ac",
   "metadata": {},
   "outputs": [
    {
     "name": "stdout",
     "output_type": "stream",
     "text": [
      "[(1, 'a'), (2, 'b'), (3, 'c')]\n"
     ]
    }
   ],
   "source": [
    "# What amounts to a 2D array (each tuple a row)\n",
    "arr = [(1,'a'),(2,'b'),(3,'c')]\n",
    "print(arr)"
   ]
  },
  {
   "cell_type": "code",
   "execution_count": 32,
   "id": "088cb0a9",
   "metadata": {},
   "outputs": [
    {
     "name": "stdout",
     "output_type": "stream",
     "text": [
      "   Numbers Letters\n",
      "0        1       a\n",
      "1        2       b\n",
      "2        3       c\n"
     ]
    }
   ],
   "source": [
    "print(DataFrame(arr, columns= [\"Numbers\", \"Letters\"]))"
   ]
  },
  {
   "cell_type": "code",
   "execution_count": 33,
   "id": "8de7df71",
   "metadata": {},
   "outputs": [
    {
     "name": "stdout",
     "output_type": "stream",
     "text": [
      "   Numbers Letters\n",
      "0        1       a\n",
      "1        2       b\n",
      "2        3       c\n"
     ]
    }
   ],
   "source": [
    "# Creating from a dict\n",
    "print(DataFrame({\"Numbers\": [1,2,3], \"Letters\": ['a','b','c']}))"
   ]
  },
  {
   "cell_type": "markdown",
   "id": "329ed380",
   "metadata": {},
   "source": [
    "###### NB if the value pairs dont have same length, it generates error"
   ]
  },
  {
   "cell_type": "code",
   "execution_count": 34,
   "id": "56613164",
   "metadata": {},
   "outputs": [
    {
     "data": {
      "text/html": [
       "<div>\n",
       "<style scoped>\n",
       "    .dataframe tbody tr th:only-of-type {\n",
       "        vertical-align: middle;\n",
       "    }\n",
       "\n",
       "    .dataframe tbody tr th {\n",
       "        vertical-align: top;\n",
       "    }\n",
       "\n",
       "    .dataframe thead th {\n",
       "        text-align: right;\n",
       "    }\n",
       "</style>\n",
       "<table border=\"1\" class=\"dataframe\">\n",
       "  <thead>\n",
       "    <tr style=\"text-align: right;\">\n",
       "      <th></th>\n",
       "      <th>Numbers</th>\n",
       "      <th>Letters</th>\n",
       "    </tr>\n",
       "  </thead>\n",
       "  <tbody>\n",
       "    <tr>\n",
       "      <th>0</th>\n",
       "      <td>1</td>\n",
       "      <td>a</td>\n",
       "    </tr>\n",
       "    <tr>\n",
       "      <th>1</th>\n",
       "      <td>2</td>\n",
       "      <td>b</td>\n",
       "    </tr>\n",
       "    <tr>\n",
       "      <th>2</th>\n",
       "      <td>3</td>\n",
       "      <td>c</td>\n",
       "    </tr>\n",
       "    <tr>\n",
       "      <th>3</th>\n",
       "      <td>4</td>\n",
       "      <td>d</td>\n",
       "    </tr>\n",
       "  </tbody>\n",
       "</table>\n",
       "</div>"
      ],
      "text/plain": [
       "   Numbers Letters\n",
       "0        1       a\n",
       "1        2       b\n",
       "2        3       c\n",
       "3        4       d"
      ]
     },
     "execution_count": 34,
     "metadata": {},
     "output_type": "execute_result"
    }
   ],
   "source": [
    "# Do we get an error\n",
    "DataFrame({\"Numbers\": ser1,\"Letters\":ser2})"
   ]
  },
  {
   "cell_type": "code",
   "execution_count": 35,
   "id": "70d11100",
   "metadata": {},
   "outputs": [
    {
     "name": "stdout",
     "output_type": "stream",
     "text": [
      "           New York Los Angeles  Chicago  Houston  Philadephia  Phoenix  \\\n",
      "Populaion    8550.0      3972.0   2721.0   2296.0       1567.0      NaN   \n",
      "State      New York   Califonia      NaN      NaN          NaN  Arizona   \n",
      "Area          302.6       468.7      NaN      NaN        134.1    516.7   \n",
      "\n",
      "          San Antonio  San Diego  Dallas  Austin  \n",
      "Populaion      1470.0     1395.0  1300.0     NaN  \n",
      "State           Texas  Califonia   Texas     NaN  \n",
      "Area              NaN        NaN     NaN  322.48  \n"
     ]
    }
   ],
   "source": [
    "print(DataFrame([pops,state,area]))"
   ]
  },
  {
   "cell_type": "code",
   "execution_count": 36,
   "id": "6f5b7909",
   "metadata": {},
   "outputs": [
    {
     "name": "stdout",
     "output_type": "stream",
     "text": [
      "             Population      State    Area\n",
      "Austin              NaN        NaN  322.48\n",
      "Chicago          2721.0        NaN     NaN\n",
      "Dallas           1300.0      Texas     NaN\n",
      "Houston          2296.0        NaN     NaN\n",
      "Los Angeles      3972.0  Califonia  468.70\n",
      "New York         8550.0   New York  302.60\n",
      "Philadephia      1567.0        NaN  134.10\n",
      "Phoenix             NaN    Arizona  516.70\n",
      "San Antonio      1470.0      Texas     NaN\n",
      "San Diego        1395.0  Califonia     NaN\n"
     ]
    }
   ],
   "source": [
    "print(DataFrame({'Population':pops, 'State':state, 'Area':area}))"
   ]
  },
  {
   "cell_type": "code",
   "execution_count": 37,
   "id": "0d2d7721",
   "metadata": {},
   "outputs": [
    {
     "name": "stdout",
     "output_type": "stream",
     "text": [
      "            Populaion      State    Area\n",
      "New York       8550.0   New York   302.6\n",
      "Los Angeles    3972.0  Califonia   468.7\n",
      "Chicago        2721.0        NaN     NaN\n",
      "Houston        2296.0        NaN     NaN\n",
      "Philadephia    1567.0        NaN   134.1\n",
      "Phoenix           NaN    Arizona   516.7\n",
      "San Antonio    1470.0      Texas     NaN\n",
      "San Diego      1395.0  Califonia     NaN\n",
      "Dallas         1300.0      Texas     NaN\n",
      "Austin            NaN        NaN  322.48\n"
     ]
    }
   ],
   "source": [
    "print(DataFrame([pops,state,area]).T)"
   ]
  },
  {
   "cell_type": "markdown",
   "id": "09295b0e",
   "metadata": {},
   "source": [
    "## Adding data"
   ]
  },
  {
   "cell_type": "code",
   "execution_count": 38,
   "id": "ea6a1b35",
   "metadata": {},
   "outputs": [
    {
     "name": "stderr",
     "output_type": "stream",
     "text": [
      "C:\\Users\\digiCAP - LT1 01.35\\AppData\\Local\\Temp\\ipykernel_8648\\3708587780.py:1: FutureWarning: The series.append method is deprecated and will be removed from pandas in a future version. Use pandas.concat instead.\n",
      "  pops.append(Series({'Seattle':684, 'Denver':683}))\n"
     ]
    },
    {
     "data": {
      "text/plain": [
       "New York       8550.0\n",
       "Los Angeles    3972.0\n",
       "Chicago        2721.0\n",
       "Houston        2296.0\n",
       "Philadephia    1567.0\n",
       "Phoenix           NaN\n",
       "San Antonio    1470.0\n",
       "San Diego      1395.0\n",
       "Dallas         1300.0\n",
       "Seattle         684.0\n",
       "Denver          683.0\n",
       "dtype: float64"
      ]
     },
     "execution_count": 38,
     "metadata": {},
     "output_type": "execute_result"
    }
   ],
   "source": [
    "pops.append(Series({'Seattle':684, 'Denver':683}))"
   ]
  },
  {
   "cell_type": "code",
   "execution_count": null,
   "id": "fc146044",
   "metadata": {},
   "outputs": [],
   "source": []
  },
  {
   "cell_type": "code",
   "execution_count": 39,
   "id": "07cce45c",
   "metadata": {},
   "outputs": [
    {
     "name": "stderr",
     "output_type": "stream",
     "text": [
      "C:\\Users\\digiCAP - LT1 01.35\\AppData\\Local\\Temp\\ipykernel_8648\\2650994870.py:2: FutureWarning: The frame.append method is deprecated and will be removed from pandas in a future version. Use pandas.concat instead.\n",
      "  df.append(DataFrame({'Population': Series({'Seattle': 684,'Denver':683}),\n"
     ]
    },
    {
     "data": {
      "text/html": [
       "<div>\n",
       "<style scoped>\n",
       "    .dataframe tbody tr th:only-of-type {\n",
       "        vertical-align: middle;\n",
       "    }\n",
       "\n",
       "    .dataframe tbody tr th {\n",
       "        vertical-align: top;\n",
       "    }\n",
       "\n",
       "    .dataframe thead th {\n",
       "        text-align: right;\n",
       "    }\n",
       "</style>\n",
       "<table border=\"1\" class=\"dataframe\">\n",
       "  <thead>\n",
       "    <tr style=\"text-align: right;\">\n",
       "      <th></th>\n",
       "      <th>Populaion</th>\n",
       "      <th>State</th>\n",
       "      <th>Area</th>\n",
       "      <th>Population</th>\n",
       "    </tr>\n",
       "  </thead>\n",
       "  <tbody>\n",
       "    <tr>\n",
       "      <th>New York</th>\n",
       "      <td>8550.0</td>\n",
       "      <td>New York</td>\n",
       "      <td>302.6</td>\n",
       "      <td>NaN</td>\n",
       "    </tr>\n",
       "    <tr>\n",
       "      <th>Los Angeles</th>\n",
       "      <td>3972.0</td>\n",
       "      <td>Califonia</td>\n",
       "      <td>468.7</td>\n",
       "      <td>NaN</td>\n",
       "    </tr>\n",
       "    <tr>\n",
       "      <th>Chicago</th>\n",
       "      <td>2721.0</td>\n",
       "      <td>NaN</td>\n",
       "      <td>NaN</td>\n",
       "      <td>NaN</td>\n",
       "    </tr>\n",
       "    <tr>\n",
       "      <th>Houston</th>\n",
       "      <td>2296.0</td>\n",
       "      <td>NaN</td>\n",
       "      <td>NaN</td>\n",
       "      <td>NaN</td>\n",
       "    </tr>\n",
       "    <tr>\n",
       "      <th>Philadephia</th>\n",
       "      <td>1567.0</td>\n",
       "      <td>NaN</td>\n",
       "      <td>134.1</td>\n",
       "      <td>NaN</td>\n",
       "    </tr>\n",
       "    <tr>\n",
       "      <th>Phoenix</th>\n",
       "      <td>NaN</td>\n",
       "      <td>Arizona</td>\n",
       "      <td>516.7</td>\n",
       "      <td>NaN</td>\n",
       "    </tr>\n",
       "    <tr>\n",
       "      <th>San Antonio</th>\n",
       "      <td>1470.0</td>\n",
       "      <td>Texas</td>\n",
       "      <td>NaN</td>\n",
       "      <td>NaN</td>\n",
       "    </tr>\n",
       "    <tr>\n",
       "      <th>San Diego</th>\n",
       "      <td>1395.0</td>\n",
       "      <td>Califonia</td>\n",
       "      <td>NaN</td>\n",
       "      <td>NaN</td>\n",
       "    </tr>\n",
       "    <tr>\n",
       "      <th>Dallas</th>\n",
       "      <td>1300.0</td>\n",
       "      <td>Texas</td>\n",
       "      <td>NaN</td>\n",
       "      <td>NaN</td>\n",
       "    </tr>\n",
       "    <tr>\n",
       "      <th>Austin</th>\n",
       "      <td>NaN</td>\n",
       "      <td>NaN</td>\n",
       "      <td>322.48</td>\n",
       "      <td>NaN</td>\n",
       "    </tr>\n",
       "    <tr>\n",
       "      <th>Seattle</th>\n",
       "      <td>NaN</td>\n",
       "      <td>Washington</td>\n",
       "      <td>NaN</td>\n",
       "      <td>684.0</td>\n",
       "    </tr>\n",
       "    <tr>\n",
       "      <th>Denver</th>\n",
       "      <td>NaN</td>\n",
       "      <td>Colorado</td>\n",
       "      <td>NaN</td>\n",
       "      <td>683.0</td>\n",
       "    </tr>\n",
       "  </tbody>\n",
       "</table>\n",
       "</div>"
      ],
      "text/plain": [
       "            Populaion       State    Area  Population\n",
       "New York       8550.0    New York   302.6         NaN\n",
       "Los Angeles    3972.0   Califonia   468.7         NaN\n",
       "Chicago        2721.0         NaN     NaN         NaN\n",
       "Houston        2296.0         NaN     NaN         NaN\n",
       "Philadephia    1567.0         NaN   134.1         NaN\n",
       "Phoenix           NaN     Arizona   516.7         NaN\n",
       "San Antonio    1470.0       Texas     NaN         NaN\n",
       "San Diego      1395.0   Califonia     NaN         NaN\n",
       "Dallas         1300.0       Texas     NaN         NaN\n",
       "Austin            NaN         NaN  322.48         NaN\n",
       "Seattle           NaN  Washington     NaN       684.0\n",
       "Denver            NaN    Colorado     NaN       683.0"
      ]
     },
     "execution_count": 39,
     "metadata": {},
     "output_type": "execute_result"
    }
   ],
   "source": [
    "df = DataFrame([pops,state,area]).T\n",
    "df.append(DataFrame({'Population': Series({'Seattle': 684,'Denver':683}),\n",
    "                     'State': Series({'Seattle': 'Washington' ,'Denver': 'Colorado'}),\n",
    "                     'Area': Series({'Seattle': np.nan,'Denver':np.nan})}))"
   ]
  },
  {
   "cell_type": "code",
   "execution_count": 40,
   "id": "280584ca",
   "metadata": {},
   "outputs": [
    {
     "data": {
      "text/html": [
       "<div>\n",
       "<style scoped>\n",
       "    .dataframe tbody tr th:only-of-type {\n",
       "        vertical-align: middle;\n",
       "    }\n",
       "\n",
       "    .dataframe tbody tr th {\n",
       "        vertical-align: top;\n",
       "    }\n",
       "\n",
       "    .dataframe thead th {\n",
       "        text-align: right;\n",
       "    }\n",
       "</style>\n",
       "<table border=\"1\" class=\"dataframe\">\n",
       "  <thead>\n",
       "    <tr style=\"text-align: right;\">\n",
       "      <th></th>\n",
       "      <th>Populaion</th>\n",
       "      <th>State</th>\n",
       "      <th>Area</th>\n",
       "      <th>Numbers</th>\n",
       "      <th>Letters</th>\n",
       "    </tr>\n",
       "  </thead>\n",
       "  <tbody>\n",
       "    <tr>\n",
       "      <th>New York</th>\n",
       "      <td>8550.0</td>\n",
       "      <td>New York</td>\n",
       "      <td>302.6</td>\n",
       "      <td>0.0</td>\n",
       "      <td>a</td>\n",
       "    </tr>\n",
       "    <tr>\n",
       "      <th>Los Angeles</th>\n",
       "      <td>3972.0</td>\n",
       "      <td>Califonia</td>\n",
       "      <td>468.7</td>\n",
       "      <td>1.0</td>\n",
       "      <td>c</td>\n",
       "    </tr>\n",
       "    <tr>\n",
       "      <th>Chicago</th>\n",
       "      <td>2721.0</td>\n",
       "      <td>NaN</td>\n",
       "      <td>NaN</td>\n",
       "      <td>2.0</td>\n",
       "      <td>d</td>\n",
       "    </tr>\n",
       "    <tr>\n",
       "      <th>Houston</th>\n",
       "      <td>2296.0</td>\n",
       "      <td>NaN</td>\n",
       "      <td>NaN</td>\n",
       "      <td>3.0</td>\n",
       "      <td>h</td>\n",
       "    </tr>\n",
       "    <tr>\n",
       "      <th>Philadephia</th>\n",
       "      <td>1567.0</td>\n",
       "      <td>NaN</td>\n",
       "      <td>134.1</td>\n",
       "      <td>4.0</td>\n",
       "      <td>l</td>\n",
       "    </tr>\n",
       "    <tr>\n",
       "      <th>Phoenix</th>\n",
       "      <td>NaN</td>\n",
       "      <td>Arizona</td>\n",
       "      <td>516.7</td>\n",
       "      <td>5.0</td>\n",
       "      <td>n</td>\n",
       "    </tr>\n",
       "    <tr>\n",
       "      <th>San Antonio</th>\n",
       "      <td>1470.0</td>\n",
       "      <td>Texas</td>\n",
       "      <td>NaN</td>\n",
       "      <td>6.0</td>\n",
       "      <td>p</td>\n",
       "    </tr>\n",
       "    <tr>\n",
       "      <th>San Diego</th>\n",
       "      <td>1395.0</td>\n",
       "      <td>Califonia</td>\n",
       "      <td>NaN</td>\n",
       "      <td>7.0</td>\n",
       "      <td>p</td>\n",
       "    </tr>\n",
       "    <tr>\n",
       "      <th>Dallas</th>\n",
       "      <td>1300.0</td>\n",
       "      <td>Texas</td>\n",
       "      <td>NaN</td>\n",
       "      <td>8.0</td>\n",
       "      <td>s</td>\n",
       "    </tr>\n",
       "    <tr>\n",
       "      <th>Austin</th>\n",
       "      <td>NaN</td>\n",
       "      <td>NaN</td>\n",
       "      <td>322.48</td>\n",
       "      <td>NaN</td>\n",
       "      <td>NaN</td>\n",
       "    </tr>\n",
       "  </tbody>\n",
       "</table>\n",
       "</div>"
      ],
      "text/plain": [
       "            Populaion      State    Area  Numbers Letters\n",
       "New York       8550.0   New York   302.6      0.0       a\n",
       "Los Angeles    3972.0  Califonia   468.7      1.0       c\n",
       "Chicago        2721.0        NaN     NaN      2.0       d\n",
       "Houston        2296.0        NaN     NaN      3.0       h\n",
       "Philadephia    1567.0        NaN   134.1      4.0       l\n",
       "Phoenix           NaN    Arizona   516.7      5.0       n\n",
       "San Antonio    1470.0      Texas     NaN      6.0       p\n",
       "San Diego      1395.0  Califonia     NaN      7.0       p\n",
       "Dallas         1300.0      Texas     NaN      8.0       s\n",
       "Austin            NaN        NaN  322.48      NaN     NaN"
      ]
     },
     "execution_count": 40,
     "metadata": {},
     "output_type": "execute_result"
    }
   ],
   "source": [
    "pd.concat([df,DataFrame({\"Numbers\": Series(np.arange(9), index = pops.index),\n",
    "                        \"Letters\": Series(['a','c', 'd','h','l','n','p','p','s'],index = pops.index)})],\n",
    "         axis=1)"
   ]
  },
  {
   "cell_type": "markdown",
   "id": "af5bfcc8",
   "metadata": {},
   "source": [
    "## Saving DataFrames"
   ]
  },
  {
   "cell_type": "code",
   "execution_count": 41,
   "id": "80f24de9",
   "metadata": {},
   "outputs": [],
   "source": [
    "## Run this only once"
   ]
  },
  {
   "cell_type": "code",
   "execution_count": 42,
   "id": "888ae8cb",
   "metadata": {},
   "outputs": [],
   "source": [
    "df = DataFrame([pops,state,area]).T\n",
    "# Saving data to csv file\n",
    "df.to_csv(\"cities.csv\") # run only once"
   ]
  },
  {
   "cell_type": "markdown",
   "id": "3ee59ef8",
   "metadata": {},
   "source": [
    "## Subsetting your data"
   ]
  },
  {
   "cell_type": "markdown",
   "id": "0d0c7ce5",
   "metadata": {},
   "source": [
    "###### Subsetting a series"
   ]
  },
  {
   "cell_type": "code",
   "execution_count": 43,
   "id": "8810c43f",
   "metadata": {
    "scrolled": true
   },
   "outputs": [
    {
     "data": {
      "text/plain": [
       "alpha      0\n",
       "beta       1\n",
       "gamma      2\n",
       "delta      3\n",
       "epsilon    4\n",
       "dtype: int32"
      ]
     },
     "execution_count": 43,
     "metadata": {},
     "output_type": "execute_result"
    }
   ],
   "source": [
    "srs= Series(np.arange(5),\n",
    "           index = ['alpha','beta','gamma','delta','epsilon'])\n",
    "srs"
   ]
  },
  {
   "cell_type": "code",
   "execution_count": 44,
   "id": "c71a2c99",
   "metadata": {},
   "outputs": [
    {
     "data": {
      "text/plain": [
       "alpha    0\n",
       "beta     1\n",
       "dtype: int32"
      ]
     },
     "execution_count": 44,
     "metadata": {},
     "output_type": "execute_result"
    }
   ],
   "source": [
    "srs[:2]"
   ]
  },
  {
   "cell_type": "code",
   "execution_count": 45,
   "id": "83b52ed8",
   "metadata": {},
   "outputs": [
    {
     "data": {
      "text/plain": [
       "beta     1\n",
       "delta    3\n",
       "dtype: int32"
      ]
     },
     "execution_count": 45,
     "metadata": {},
     "output_type": "execute_result"
    }
   ],
   "source": [
    "srs[['beta','delta']]"
   ]
  },
  {
   "cell_type": "code",
   "execution_count": 46,
   "id": "9ec3115c",
   "metadata": {},
   "outputs": [
    {
     "data": {
      "text/plain": [
       "beta     1\n",
       "gamma    2\n",
       "delta    3\n",
       "dtype: int32"
      ]
     },
     "execution_count": 46,
     "metadata": {},
     "output_type": "execute_result"
    }
   ],
   "source": [
    "srs[\"beta\":\"delta\"]"
   ]
  },
  {
   "cell_type": "code",
   "execution_count": 47,
   "id": "6aca629a",
   "metadata": {},
   "outputs": [
    {
     "data": {
      "text/plain": [
       "epsilon    4\n",
       "dtype: int32"
      ]
     },
     "execution_count": 47,
     "metadata": {},
     "output_type": "execute_result"
    }
   ],
   "source": [
    "srs[srs>3]"
   ]
  },
  {
   "cell_type": "code",
   "execution_count": 48,
   "id": "e508f6be",
   "metadata": {},
   "outputs": [
    {
     "data": {
      "text/plain": [
       "alpha      False\n",
       "beta       False\n",
       "gamma      False\n",
       "delta      False\n",
       "epsilon     True\n",
       "dtype: bool"
      ]
     },
     "execution_count": 48,
     "metadata": {},
     "output_type": "execute_result"
    }
   ],
   "source": [
    "srs>3"
   ]
  },
  {
   "cell_type": "code",
   "execution_count": 49,
   "id": "8a926d32",
   "metadata": {},
   "outputs": [
    {
     "data": {
      "text/plain": [
       "3     zero\n",
       "2      one\n",
       "4      two\n",
       "0    three\n",
       "1     four\n",
       "dtype: object"
      ]
     },
     "execution_count": 49,
     "metadata": {},
     "output_type": "execute_result"
    }
   ],
   "source": [
    "srs2 = Series(['zero', 'one','two','three','four'],\n",
    "             index = [3,2,4,0,1])\n",
    "srs2"
   ]
  },
  {
   "cell_type": "markdown",
   "id": "b7b3f9bf",
   "metadata": {},
   "source": [
    "## Indexing methods"
   ]
  },
  {
   "cell_type": "code",
   "execution_count": 50,
   "id": "c73b452e",
   "metadata": {},
   "outputs": [
    {
     "data": {
      "text/plain": [
       "4      two\n",
       "0    three\n",
       "dtype: object"
      ]
     },
     "execution_count": 50,
     "metadata": {},
     "output_type": "execute_result"
    }
   ],
   "source": [
    "srs2[2:4]"
   ]
  },
  {
   "cell_type": "code",
   "execution_count": 51,
   "id": "96e8b392",
   "metadata": {},
   "outputs": [
    {
     "data": {
      "text/plain": [
       "4      two\n",
       "0    three\n",
       "dtype: object"
      ]
     },
     "execution_count": 51,
     "metadata": {},
     "output_type": "execute_result"
    }
   ],
   "source": [
    "srs2.iloc[2:4]"
   ]
  },
  {
   "cell_type": "code",
   "execution_count": 52,
   "id": "9851925a",
   "metadata": {},
   "outputs": [
    {
     "data": {
      "text/plain": [
       "2    one\n",
       "4    two\n",
       "dtype: object"
      ]
     },
     "execution_count": 52,
     "metadata": {},
     "output_type": "execute_result"
    }
   ],
   "source": [
    "srs2.loc[2:4]"
   ]
  },
  {
   "cell_type": "markdown",
   "id": "9b777076",
   "metadata": {},
   "source": [
    "## Slicing a DataFrame"
   ]
  },
  {
   "cell_type": "code",
   "execution_count": 53,
   "id": "8b80c2f2",
   "metadata": {},
   "outputs": [
    {
     "data": {
      "text/html": [
       "<div>\n",
       "<style scoped>\n",
       "    .dataframe tbody tr th:only-of-type {\n",
       "        vertical-align: middle;\n",
       "    }\n",
       "\n",
       "    .dataframe tbody tr th {\n",
       "        vertical-align: top;\n",
       "    }\n",
       "\n",
       "    .dataframe thead th {\n",
       "        text-align: right;\n",
       "    }\n",
       "</style>\n",
       "<table border=\"1\" class=\"dataframe\">\n",
       "  <thead>\n",
       "    <tr style=\"text-align: right;\">\n",
       "      <th></th>\n",
       "      <th>AAA</th>\n",
       "      <th>BBB</th>\n",
       "      <th>CCC</th>\n",
       "    </tr>\n",
       "  </thead>\n",
       "  <tbody>\n",
       "    <tr>\n",
       "      <th>alpha</th>\n",
       "      <td>0</td>\n",
       "      <td>1</td>\n",
       "      <td>2</td>\n",
       "    </tr>\n",
       "    <tr>\n",
       "      <th>beta</th>\n",
       "      <td>3</td>\n",
       "      <td>4</td>\n",
       "      <td>5</td>\n",
       "    </tr>\n",
       "    <tr>\n",
       "      <th>gamma</th>\n",
       "      <td>6</td>\n",
       "      <td>7</td>\n",
       "      <td>8</td>\n",
       "    </tr>\n",
       "    <tr>\n",
       "      <th>delta</th>\n",
       "      <td>9</td>\n",
       "      <td>10</td>\n",
       "      <td>11</td>\n",
       "    </tr>\n",
       "    <tr>\n",
       "      <th>epsilon</th>\n",
       "      <td>12</td>\n",
       "      <td>13</td>\n",
       "      <td>14</td>\n",
       "    </tr>\n",
       "    <tr>\n",
       "      <th>zeta</th>\n",
       "      <td>15</td>\n",
       "      <td>16</td>\n",
       "      <td>17</td>\n",
       "    </tr>\n",
       "    <tr>\n",
       "      <th>eta</th>\n",
       "      <td>18</td>\n",
       "      <td>19</td>\n",
       "      <td>20</td>\n",
       "    </tr>\n",
       "  </tbody>\n",
       "</table>\n",
       "</div>"
      ],
      "text/plain": [
       "         AAA  BBB  CCC\n",
       "alpha      0    1    2\n",
       "beta       3    4    5\n",
       "gamma      6    7    8\n",
       "delta      9   10   11\n",
       "epsilon   12   13   14\n",
       "zeta      15   16   17\n",
       "eta       18   19   20"
      ]
     },
     "execution_count": 53,
     "metadata": {},
     "output_type": "execute_result"
    }
   ],
   "source": [
    "df = DataFrame(np.arange(21).reshape(7,3),\n",
    "              columns=['AAA','BBB','CCC'],\n",
    "              index=['alpha','beta','gamma','delta',\n",
    "                    'epsilon','zeta','eta'])\n",
    "df"
   ]
  },
  {
   "cell_type": "code",
   "execution_count": 54,
   "id": "8cb77126",
   "metadata": {},
   "outputs": [
    {
     "data": {
      "text/plain": [
       "alpha       0\n",
       "beta        3\n",
       "gamma       6\n",
       "delta       9\n",
       "epsilon    12\n",
       "zeta       15\n",
       "eta        18\n",
       "Name: AAA, dtype: int32"
      ]
     },
     "execution_count": 54,
     "metadata": {},
     "output_type": "execute_result"
    }
   ],
   "source": [
    "df.AAA"
   ]
  },
  {
   "cell_type": "code",
   "execution_count": 55,
   "id": "c4f5158a",
   "metadata": {},
   "outputs": [
    {
     "data": {
      "text/html": [
       "<div>\n",
       "<style scoped>\n",
       "    .dataframe tbody tr th:only-of-type {\n",
       "        vertical-align: middle;\n",
       "    }\n",
       "\n",
       "    .dataframe tbody tr th {\n",
       "        vertical-align: top;\n",
       "    }\n",
       "\n",
       "    .dataframe thead th {\n",
       "        text-align: right;\n",
       "    }\n",
       "</style>\n",
       "<table border=\"1\" class=\"dataframe\">\n",
       "  <thead>\n",
       "    <tr style=\"text-align: right;\">\n",
       "      <th></th>\n",
       "      <th>BBB</th>\n",
       "      <th>CCC</th>\n",
       "    </tr>\n",
       "  </thead>\n",
       "  <tbody>\n",
       "    <tr>\n",
       "      <th>alpha</th>\n",
       "      <td>1</td>\n",
       "      <td>2</td>\n",
       "    </tr>\n",
       "    <tr>\n",
       "      <th>beta</th>\n",
       "      <td>4</td>\n",
       "      <td>5</td>\n",
       "    </tr>\n",
       "    <tr>\n",
       "      <th>gamma</th>\n",
       "      <td>7</td>\n",
       "      <td>8</td>\n",
       "    </tr>\n",
       "    <tr>\n",
       "      <th>delta</th>\n",
       "      <td>10</td>\n",
       "      <td>11</td>\n",
       "    </tr>\n",
       "    <tr>\n",
       "      <th>epsilon</th>\n",
       "      <td>13</td>\n",
       "      <td>14</td>\n",
       "    </tr>\n",
       "    <tr>\n",
       "      <th>zeta</th>\n",
       "      <td>16</td>\n",
       "      <td>17</td>\n",
       "    </tr>\n",
       "    <tr>\n",
       "      <th>eta</th>\n",
       "      <td>19</td>\n",
       "      <td>20</td>\n",
       "    </tr>\n",
       "  </tbody>\n",
       "</table>\n",
       "</div>"
      ],
      "text/plain": [
       "         BBB  CCC\n",
       "alpha      1    2\n",
       "beta       4    5\n",
       "gamma      7    8\n",
       "delta     10   11\n",
       "epsilon   13   14\n",
       "zeta      16   17\n",
       "eta       19   20"
      ]
     },
     "execution_count": 55,
     "metadata": {},
     "output_type": "execute_result"
    }
   ],
   "source": [
    "df[['BBB','CCC']]"
   ]
  },
  {
   "cell_type": "code",
   "execution_count": 56,
   "id": "840f575d",
   "metadata": {},
   "outputs": [
    {
     "data": {
      "text/html": [
       "<div>\n",
       "<style scoped>\n",
       "    .dataframe tbody tr th:only-of-type {\n",
       "        vertical-align: middle;\n",
       "    }\n",
       "\n",
       "    .dataframe tbody tr th {\n",
       "        vertical-align: top;\n",
       "    }\n",
       "\n",
       "    .dataframe thead th {\n",
       "        text-align: right;\n",
       "    }\n",
       "</style>\n",
       "<table border=\"1\" class=\"dataframe\">\n",
       "  <thead>\n",
       "    <tr style=\"text-align: right;\">\n",
       "      <th></th>\n",
       "      <th>BBB</th>\n",
       "    </tr>\n",
       "  </thead>\n",
       "  <tbody>\n",
       "    <tr>\n",
       "      <th>beta</th>\n",
       "      <td>4</td>\n",
       "    </tr>\n",
       "    <tr>\n",
       "      <th>gamma</th>\n",
       "      <td>7</td>\n",
       "    </tr>\n",
       "  </tbody>\n",
       "</table>\n",
       "</div>"
      ],
      "text/plain": [
       "       BBB\n",
       "beta     4\n",
       "gamma    7"
      ]
     },
     "execution_count": 56,
     "metadata": {},
     "output_type": "execute_result"
    }
   ],
   "source": [
    "df.iloc[1:3,1:2]"
   ]
  },
  {
   "cell_type": "code",
   "execution_count": 57,
   "id": "e750e44c",
   "metadata": {},
   "outputs": [
    {
     "data": {
      "text/html": [
       "<div>\n",
       "<style scoped>\n",
       "    .dataframe tbody tr th:only-of-type {\n",
       "        vertical-align: middle;\n",
       "    }\n",
       "\n",
       "    .dataframe tbody tr th {\n",
       "        vertical-align: top;\n",
       "    }\n",
       "\n",
       "    .dataframe thead th {\n",
       "        text-align: right;\n",
       "    }\n",
       "</style>\n",
       "<table border=\"1\" class=\"dataframe\">\n",
       "  <thead>\n",
       "    <tr style=\"text-align: right;\">\n",
       "      <th></th>\n",
       "      <th>BBB</th>\n",
       "      <th>CCC</th>\n",
       "    </tr>\n",
       "  </thead>\n",
       "  <tbody>\n",
       "    <tr>\n",
       "      <th>beta</th>\n",
       "      <td>4</td>\n",
       "      <td>5</td>\n",
       "    </tr>\n",
       "    <tr>\n",
       "      <th>gamma</th>\n",
       "      <td>7</td>\n",
       "      <td>8</td>\n",
       "    </tr>\n",
       "    <tr>\n",
       "      <th>delta</th>\n",
       "      <td>10</td>\n",
       "      <td>11</td>\n",
       "    </tr>\n",
       "  </tbody>\n",
       "</table>\n",
       "</div>"
      ],
      "text/plain": [
       "       BBB  CCC\n",
       "beta     4    5\n",
       "gamma    7    8\n",
       "delta   10   11"
      ]
     },
     "execution_count": 57,
     "metadata": {},
     "output_type": "execute_result"
    }
   ],
   "source": [
    "df.loc['beta':'delta','BBB':'CCC']"
   ]
  },
  {
   "cell_type": "code",
   "execution_count": 58,
   "id": "cb47706a",
   "metadata": {},
   "outputs": [
    {
     "data": {
      "text/html": [
       "<div>\n",
       "<style scoped>\n",
       "    .dataframe tbody tr th:only-of-type {\n",
       "        vertical-align: middle;\n",
       "    }\n",
       "\n",
       "    .dataframe tbody tr th {\n",
       "        vertical-align: top;\n",
       "    }\n",
       "\n",
       "    .dataframe thead th {\n",
       "        text-align: right;\n",
       "    }\n",
       "</style>\n",
       "<table border=\"1\" class=\"dataframe\">\n",
       "  <thead>\n",
       "    <tr style=\"text-align: right;\">\n",
       "      <th></th>\n",
       "      <th>BBB</th>\n",
       "      <th>CCC</th>\n",
       "    </tr>\n",
       "  </thead>\n",
       "  <tbody>\n",
       "    <tr>\n",
       "      <th>alpha</th>\n",
       "      <td>1</td>\n",
       "      <td>2</td>\n",
       "    </tr>\n",
       "    <tr>\n",
       "      <th>beta</th>\n",
       "      <td>4</td>\n",
       "      <td>5</td>\n",
       "    </tr>\n",
       "    <tr>\n",
       "      <th>gamma</th>\n",
       "      <td>7</td>\n",
       "      <td>8</td>\n",
       "    </tr>\n",
       "    <tr>\n",
       "      <th>delta</th>\n",
       "      <td>10</td>\n",
       "      <td>11</td>\n",
       "    </tr>\n",
       "    <tr>\n",
       "      <th>epsilon</th>\n",
       "      <td>13</td>\n",
       "      <td>14</td>\n",
       "    </tr>\n",
       "    <tr>\n",
       "      <th>zeta</th>\n",
       "      <td>16</td>\n",
       "      <td>17</td>\n",
       "    </tr>\n",
       "    <tr>\n",
       "      <th>eta</th>\n",
       "      <td>19</td>\n",
       "      <td>20</td>\n",
       "    </tr>\n",
       "  </tbody>\n",
       "</table>\n",
       "</div>"
      ],
      "text/plain": [
       "         BBB  CCC\n",
       "alpha      1    2\n",
       "beta       4    5\n",
       "gamma      7    8\n",
       "delta     10   11\n",
       "epsilon   13   14\n",
       "zeta      16   17\n",
       "eta       19   20"
      ]
     },
     "execution_count": 58,
     "metadata": {},
     "output_type": "execute_result"
    }
   ],
   "source": [
    "df.iloc[:, 1:3]"
   ]
  },
  {
   "cell_type": "code",
   "execution_count": 59,
   "id": "85c3c937",
   "metadata": {},
   "outputs": [
    {
     "data": {
      "text/html": [
       "<div>\n",
       "<style scoped>\n",
       "    .dataframe tbody tr th:only-of-type {\n",
       "        vertical-align: middle;\n",
       "    }\n",
       "\n",
       "    .dataframe tbody tr th {\n",
       "        vertical-align: top;\n",
       "    }\n",
       "\n",
       "    .dataframe thead th {\n",
       "        text-align: right;\n",
       "    }\n",
       "</style>\n",
       "<table border=\"1\" class=\"dataframe\">\n",
       "  <thead>\n",
       "    <tr style=\"text-align: right;\">\n",
       "      <th></th>\n",
       "      <th>BBB</th>\n",
       "      <th>CCC</th>\n",
       "    </tr>\n",
       "  </thead>\n",
       "  <tbody>\n",
       "    <tr>\n",
       "      <th>alpha</th>\n",
       "      <td>1</td>\n",
       "      <td>2</td>\n",
       "    </tr>\n",
       "    <tr>\n",
       "      <th>gamma</th>\n",
       "      <td>7</td>\n",
       "      <td>8</td>\n",
       "    </tr>\n",
       "    <tr>\n",
       "      <th>zeta</th>\n",
       "      <td>16</td>\n",
       "      <td>17</td>\n",
       "    </tr>\n",
       "  </tbody>\n",
       "</table>\n",
       "</div>"
      ],
      "text/plain": [
       "       BBB  CCC\n",
       "alpha    1    2\n",
       "gamma    7    8\n",
       "zeta    16   17"
      ]
     },
     "execution_count": 59,
     "metadata": {},
     "output_type": "execute_result"
    }
   ],
   "source": [
    "df.iloc[:, 1:3].loc[['alpha','gamma','zeta']]"
   ]
  },
  {
   "cell_type": "code",
   "execution_count": 60,
   "id": "b9502709",
   "metadata": {},
   "outputs": [
    {
     "data": {
      "text/html": [
       "<div>\n",
       "<style scoped>\n",
       "    .dataframe tbody tr th:only-of-type {\n",
       "        vertical-align: middle;\n",
       "    }\n",
       "\n",
       "    .dataframe tbody tr th {\n",
       "        vertical-align: top;\n",
       "    }\n",
       "\n",
       "    .dataframe thead th {\n",
       "        text-align: right;\n",
       "    }\n",
       "</style>\n",
       "<table border=\"1\" class=\"dataframe\">\n",
       "  <thead>\n",
       "    <tr style=\"text-align: right;\">\n",
       "      <th></th>\n",
       "      <th>BBB</th>\n",
       "      <th>CCC</th>\n",
       "    </tr>\n",
       "  </thead>\n",
       "  <tbody>\n",
       "    <tr>\n",
       "      <th>alpha</th>\n",
       "      <td>1</td>\n",
       "      <td>2</td>\n",
       "    </tr>\n",
       "    <tr>\n",
       "      <th>gamma</th>\n",
       "      <td>7</td>\n",
       "      <td>8</td>\n",
       "    </tr>\n",
       "    <tr>\n",
       "      <th>zeta</th>\n",
       "      <td>16</td>\n",
       "      <td>17</td>\n",
       "    </tr>\n",
       "  </tbody>\n",
       "</table>\n",
       "</div>"
      ],
      "text/plain": [
       "       BBB  CCC\n",
       "alpha    1    2\n",
       "gamma    7    8\n",
       "zeta    16   17"
      ]
     },
     "execution_count": 60,
     "metadata": {},
     "output_type": "execute_result"
    }
   ],
   "source": [
    "df2 = df.iloc[:, 1:3].loc[['alpha','gamma','zeta']].copy()\n",
    "df2"
   ]
  },
  {
   "cell_type": "code",
   "execution_count": 61,
   "id": "72567f75",
   "metadata": {},
   "outputs": [
    {
     "data": {
      "text/html": [
       "<div>\n",
       "<style scoped>\n",
       "    .dataframe tbody tr th:only-of-type {\n",
       "        vertical-align: middle;\n",
       "    }\n",
       "\n",
       "    .dataframe tbody tr th {\n",
       "        vertical-align: top;\n",
       "    }\n",
       "\n",
       "    .dataframe thead th {\n",
       "        text-align: right;\n",
       "    }\n",
       "</style>\n",
       "<table border=\"1\" class=\"dataframe\">\n",
       "  <thead>\n",
       "    <tr style=\"text-align: right;\">\n",
       "      <th></th>\n",
       "      <th>BBB</th>\n",
       "      <th>CCC</th>\n",
       "    </tr>\n",
       "  </thead>\n",
       "  <tbody>\n",
       "    <tr>\n",
       "      <th>alpha</th>\n",
       "      <td>1</td>\n",
       "      <td>11</td>\n",
       "    </tr>\n",
       "    <tr>\n",
       "      <th>gamma</th>\n",
       "      <td>7</td>\n",
       "      <td>18</td>\n",
       "    </tr>\n",
       "    <tr>\n",
       "      <th>zeta</th>\n",
       "      <td>16</td>\n",
       "      <td>5</td>\n",
       "    </tr>\n",
       "  </tbody>\n",
       "</table>\n",
       "</div>"
      ],
      "text/plain": [
       "       BBB  CCC\n",
       "alpha    1   11\n",
       "gamma    7   18\n",
       "zeta    16    5"
      ]
     },
     "execution_count": 61,
     "metadata": {},
     "output_type": "execute_result"
    }
   ],
   "source": [
    "df2[\"CCC\"]= Series({'alpha':11, 'gamma':18, 'zeta':5})\n",
    "df2"
   ]
  },
  {
   "cell_type": "code",
   "execution_count": 62,
   "id": "9cd1b971",
   "metadata": {},
   "outputs": [
    {
     "data": {
      "text/html": [
       "<div>\n",
       "<style scoped>\n",
       "    .dataframe tbody tr th:only-of-type {\n",
       "        vertical-align: middle;\n",
       "    }\n",
       "\n",
       "    .dataframe tbody tr th {\n",
       "        vertical-align: top;\n",
       "    }\n",
       "\n",
       "    .dataframe thead th {\n",
       "        text-align: right;\n",
       "    }\n",
       "</style>\n",
       "<table border=\"1\" class=\"dataframe\">\n",
       "  <thead>\n",
       "    <tr style=\"text-align: right;\">\n",
       "      <th></th>\n",
       "      <th>BBB</th>\n",
       "      <th>CCC</th>\n",
       "    </tr>\n",
       "  </thead>\n",
       "  <tbody>\n",
       "    <tr>\n",
       "      <th>alpha</th>\n",
       "      <td>1</td>\n",
       "      <td>11</td>\n",
       "    </tr>\n",
       "    <tr>\n",
       "      <th>gamma</th>\n",
       "      <td>7</td>\n",
       "      <td>2</td>\n",
       "    </tr>\n",
       "    <tr>\n",
       "      <th>zeta</th>\n",
       "      <td>16</td>\n",
       "      <td>5</td>\n",
       "    </tr>\n",
       "  </tbody>\n",
       "</table>\n",
       "</div>"
      ],
      "text/plain": [
       "       BBB  CCC\n",
       "alpha    1   11\n",
       "gamma    7    2\n",
       "zeta    16    5"
      ]
     },
     "execution_count": 62,
     "metadata": {},
     "output_type": "execute_result"
    }
   ],
   "source": [
    "df2.iloc[1,1]=2\n",
    "df2"
   ]
  },
  {
   "cell_type": "markdown",
   "id": "998b6722",
   "metadata": {},
   "source": [
    "## Arithmetic"
   ]
  },
  {
   "cell_type": "code",
   "execution_count": 63,
   "id": "f9fd0718",
   "metadata": {},
   "outputs": [
    {
     "name": "stdout",
     "output_type": "stream",
     "text": [
      "0    1\n",
      "1    9\n",
      "2   -4\n",
      "3    3\n",
      "4    3\n",
      "dtype: int64\n",
      "0     2\n",
      "1     3\n",
      "2     4\n",
      "3     5\n",
      "5    10\n",
      "dtype: int64\n"
     ]
    }
   ],
   "source": [
    "srs1 = Series([1,9,-4,3,3])\n",
    "srs2 = Series([2,3,4,5,10], index = [0,1,2,3,5])\n",
    "print(srs1)\n",
    "print(srs2)"
   ]
  },
  {
   "cell_type": "code",
   "execution_count": 64,
   "id": "e8d89a79",
   "metadata": {},
   "outputs": [
    {
     "data": {
      "text/plain": [
       "0     3.0\n",
       "1    12.0\n",
       "2     0.0\n",
       "3     8.0\n",
       "4     NaN\n",
       "5     NaN\n",
       "dtype: float64"
      ]
     },
     "execution_count": 64,
     "metadata": {},
     "output_type": "execute_result"
    }
   ],
   "source": [
    "srs1+srs2"
   ]
  },
  {
   "cell_type": "code",
   "execution_count": 65,
   "id": "26b31f91",
   "metadata": {},
   "outputs": [
    {
     "data": {
      "text/plain": [
       "0     2.0\n",
       "1    27.0\n",
       "2   -16.0\n",
       "3    15.0\n",
       "4     NaN\n",
       "5     NaN\n",
       "dtype: float64"
      ]
     },
     "execution_count": 65,
     "metadata": {},
     "output_type": "execute_result"
    }
   ],
   "source": [
    "srs1*srs2"
   ]
  },
  {
   "cell_type": "code",
   "execution_count": 66,
   "id": "78028e91",
   "metadata": {},
   "outputs": [
    {
     "data": {
      "text/plain": [
       "0      1.0\n",
       "1    729.0\n",
       "2    256.0\n",
       "3    243.0\n",
       "4      NaN\n",
       "5      NaN\n",
       "dtype: float64"
      ]
     },
     "execution_count": 66,
     "metadata": {},
     "output_type": "execute_result"
    }
   ],
   "source": [
    "srs1**srs2"
   ]
  },
  {
   "cell_type": "code",
   "execution_count": 67,
   "id": "3dd89df4",
   "metadata": {},
   "outputs": [
    {
     "data": {
      "text/plain": [
       "0    1.414214\n",
       "1    1.732051\n",
       "2    2.000000\n",
       "3    2.236068\n",
       "5    3.162278\n",
       "dtype: float64"
      ]
     },
     "execution_count": 67,
     "metadata": {},
     "output_type": "execute_result"
    }
   ],
   "source": [
    "np.sqrt(srs2)"
   ]
  },
  {
   "cell_type": "code",
   "execution_count": 68,
   "id": "95c19e29",
   "metadata": {},
   "outputs": [
    {
     "data": {
      "text/plain": [
       "0    1\n",
       "1    9\n",
       "2    4\n",
       "3    3\n",
       "4    3\n",
       "dtype: int64"
      ]
     },
     "execution_count": 68,
     "metadata": {},
     "output_type": "execute_result"
    }
   ],
   "source": [
    "np.abs(srs1)"
   ]
  },
  {
   "cell_type": "code",
   "execution_count": 69,
   "id": "90819ed1",
   "metadata": {},
   "outputs": [
    {
     "data": {
      "text/plain": [
       "pandas.core.series.Series"
      ]
     },
     "execution_count": 69,
     "metadata": {},
     "output_type": "execute_result"
    }
   ],
   "source": [
    "type(np.abs(srs1))"
   ]
  },
  {
   "cell_type": "code",
   "execution_count": null,
   "id": "3cb52c06",
   "metadata": {},
   "outputs": [],
   "source": []
  },
  {
   "cell_type": "code",
   "execution_count": 70,
   "id": "c18d48ee",
   "metadata": {},
   "outputs": [
    {
     "data": {
      "text/plain": [
       "array([0, 5, 4, 0, 0])"
      ]
     },
     "execution_count": 70,
     "metadata": {},
     "output_type": "execute_result"
    }
   ],
   "source": [
    "# Define a cusom ufunc: notice the decorator notation?\n",
    "@np.vectorize\n",
    "def trunc(x):\n",
    "    return x if x > 0 else 0\n",
    "\n",
    "trunc(np.array([-1,5,4,-3,0]))"
   ]
  },
  {
   "cell_type": "code",
   "execution_count": 71,
   "id": "2bf8d3a7",
   "metadata": {},
   "outputs": [
    {
     "data": {
      "text/plain": [
       "array([1, 9, 0, 3, 3], dtype=int64)"
      ]
     },
     "execution_count": 71,
     "metadata": {},
     "output_type": "execute_result"
    }
   ],
   "source": [
    "trunc(srs1)"
   ]
  },
  {
   "cell_type": "code",
   "execution_count": 72,
   "id": "9f818749",
   "metadata": {},
   "outputs": [
    {
     "data": {
      "text/plain": [
       "2.4"
      ]
     },
     "execution_count": 72,
     "metadata": {},
     "output_type": "execute_result"
    }
   ],
   "source": [
    "srs1.mean()"
   ]
  },
  {
   "cell_type": "code",
   "execution_count": 73,
   "id": "6e81345e",
   "metadata": {},
   "outputs": [
    {
     "data": {
      "text/plain": [
       "4.669047011971501"
      ]
     },
     "execution_count": 73,
     "metadata": {},
     "output_type": "execute_result"
    }
   ],
   "source": [
    "srs1.std() ### Standard deviation"
   ]
  },
  {
   "cell_type": "code",
   "execution_count": 74,
   "id": "84dc180d",
   "metadata": {},
   "outputs": [
    {
     "data": {
      "text/plain": [
       "9"
      ]
     },
     "execution_count": 74,
     "metadata": {},
     "output_type": "execute_result"
    }
   ],
   "source": [
    "srs1.max()"
   ]
  },
  {
   "cell_type": "code",
   "execution_count": 75,
   "id": "99e31ac0",
   "metadata": {},
   "outputs": [
    {
     "data": {
      "text/plain": [
       "1"
      ]
     },
     "execution_count": 75,
     "metadata": {},
     "output_type": "execute_result"
    }
   ],
   "source": [
    "srs1.argmax()    ### Returns the index where the maximum "
   ]
  },
  {
   "cell_type": "code",
   "execution_count": 76,
   "id": "5074a764",
   "metadata": {},
   "outputs": [
    {
     "data": {
      "text/plain": [
       "0     1\n",
       "1    10\n",
       "2     6\n",
       "3     9\n",
       "4    12\n",
       "dtype: int64"
      ]
     },
     "execution_count": 76,
     "metadata": {},
     "output_type": "execute_result"
    }
   ],
   "source": [
    "srs1.cumsum()"
   ]
  },
  {
   "cell_type": "code",
   "execution_count": 77,
   "id": "e0803338",
   "metadata": {},
   "outputs": [
    {
     "data": {
      "text/plain": [
       "0    1\n",
       "1    9\n",
       "2    4\n",
       "3    3\n",
       "4    3\n",
       "dtype: int64"
      ]
     },
     "execution_count": 77,
     "metadata": {},
     "output_type": "execute_result"
    }
   ],
   "source": [
    "srs1.abs()  ## An alternative to the abs function in Numpy"
   ]
  },
  {
   "cell_type": "code",
   "execution_count": 78,
   "id": "19411930",
   "metadata": {},
   "outputs": [
    {
     "data": {
      "text/plain": [
       "0    2\n",
       "1    9\n",
       "2    2\n",
       "3    3\n",
       "4    3\n",
       "dtype: int64"
      ]
     },
     "execution_count": 78,
     "metadata": {},
     "output_type": "execute_result"
    }
   ],
   "source": [
    "srs1.apply(lambda x: x if x > 2 else 2)"
   ]
  },
  {
   "cell_type": "code",
   "execution_count": 79,
   "id": "8f6bc2ae",
   "metadata": {},
   "outputs": [
    {
     "name": "stdout",
     "output_type": "stream",
     "text": [
      "a    alpha\n",
      "b     beta\n",
      "c    gamma\n",
      "d    delta\n",
      "dtype: object\n"
     ]
    }
   ],
   "source": [
    "srs3 = Series(['alpha','beta','gamma','delta'], index = ['a','b','c','d'] )\n",
    "print(srs3)"
   ]
  },
  {
   "cell_type": "code",
   "execution_count": 80,
   "id": "99dc5e51",
   "metadata": {},
   "outputs": [
    {
     "data": {
      "text/plain": [
       "a    1\n",
       "b    2\n",
       "c   -1\n",
       "d   -3\n",
       "dtype: int64"
      ]
     },
     "execution_count": 80,
     "metadata": {},
     "output_type": "execute_result"
    }
   ],
   "source": [
    "obj = {'alpha':1,'beta':2,'gamma':-1, 'delta':-3}\n",
    "srs3.map(obj)"
   ]
  },
  {
   "cell_type": "markdown",
   "id": "18fef853",
   "metadata": {},
   "source": [
    "## Arithmetic with DataFrames"
   ]
  },
  {
   "cell_type": "markdown",
   "id": "c5f8aecb",
   "metadata": {},
   "source": [
    "#### Vectorization with DataFrames"
   ]
  },
  {
   "cell_type": "markdown",
   "id": "01118958",
   "metadata": {},
   "source": [
    "###### DataFrame function application"
   ]
  },
  {
   "cell_type": "code",
   "execution_count": 81,
   "id": "b134ff26",
   "metadata": {},
   "outputs": [
    {
     "name": "stdout",
     "output_type": "stream",
     "text": [
      "   AAA  BBB  CCC\n",
      "0    0    1    2\n",
      "1    3    4    5\n",
      "2    6    7    8\n",
      "3    9   10   11\n",
      "4   12   13   14\n"
     ]
    }
   ],
   "source": [
    "df = DataFrame(np.arange(15).reshape(5,3), columns=['AAA','BBB','CCC'])\n",
    "print(df)"
   ]
  },
  {
   "cell_type": "code",
   "execution_count": 82,
   "id": "44c91b88",
   "metadata": {},
   "outputs": [
    {
     "data": {
      "text/html": [
       "<div>\n",
       "<style scoped>\n",
       "    .dataframe tbody tr th:only-of-type {\n",
       "        vertical-align: middle;\n",
       "    }\n",
       "\n",
       "    .dataframe tbody tr th {\n",
       "        vertical-align: top;\n",
       "    }\n",
       "\n",
       "    .dataframe thead th {\n",
       "        text-align: right;\n",
       "    }\n",
       "</style>\n",
       "<table border=\"1\" class=\"dataframe\">\n",
       "  <thead>\n",
       "    <tr style=\"text-align: right;\">\n",
       "      <th></th>\n",
       "      <th>AAA</th>\n",
       "      <th>BBB</th>\n",
       "      <th>CCC</th>\n",
       "    </tr>\n",
       "  </thead>\n",
       "  <tbody>\n",
       "    <tr>\n",
       "      <th>0</th>\n",
       "      <td>0</td>\n",
       "      <td>0</td>\n",
       "      <td>NaN</td>\n",
       "    </tr>\n",
       "    <tr>\n",
       "      <th>1</th>\n",
       "      <td>0</td>\n",
       "      <td>0</td>\n",
       "      <td>NaN</td>\n",
       "    </tr>\n",
       "    <tr>\n",
       "      <th>2</th>\n",
       "      <td>0</td>\n",
       "      <td>0</td>\n",
       "      <td>NaN</td>\n",
       "    </tr>\n",
       "    <tr>\n",
       "      <th>3</th>\n",
       "      <td>0</td>\n",
       "      <td>0</td>\n",
       "      <td>NaN</td>\n",
       "    </tr>\n",
       "    <tr>\n",
       "      <th>4</th>\n",
       "      <td>0</td>\n",
       "      <td>0</td>\n",
       "      <td>NaN</td>\n",
       "    </tr>\n",
       "  </tbody>\n",
       "</table>\n",
       "</div>"
      ],
      "text/plain": [
       "   AAA  BBB  CCC\n",
       "0    0    0  NaN\n",
       "1    0    0  NaN\n",
       "2    0    0  NaN\n",
       "3    0    0  NaN\n",
       "4    0    0  NaN"
      ]
     },
     "execution_count": 82,
     "metadata": {},
     "output_type": "execute_result"
    }
   ],
   "source": [
    "# Should get 0's, and CCC gets NaN because no match\n",
    "df - df.loc[:, [\"AAA\", \"BBB\"]]"
   ]
  },
  {
   "cell_type": "code",
   "execution_count": 83,
   "id": "66316c02",
   "metadata": {},
   "outputs": [
    {
     "data": {
      "text/plain": [
       "AAA    6.0\n",
       "BBB    7.0\n",
       "CCC    8.0\n",
       "dtype: float64"
      ]
     },
     "execution_count": 83,
     "metadata": {},
     "output_type": "execute_result"
    }
   ],
   "source": [
    "df.mean()"
   ]
  },
  {
   "cell_type": "code",
   "execution_count": 84,
   "id": "ce1d519c",
   "metadata": {},
   "outputs": [
    {
     "data": {
      "text/plain": [
       "AAA    4.743416\n",
       "BBB    4.743416\n",
       "CCC    4.743416\n",
       "dtype: float64"
      ]
     },
     "execution_count": 84,
     "metadata": {},
     "output_type": "execute_result"
    }
   ],
   "source": [
    "df.std()"
   ]
  },
  {
   "cell_type": "code",
   "execution_count": 85,
   "id": "3b8aea6e",
   "metadata": {},
   "outputs": [
    {
     "data": {
      "text/html": [
       "<div>\n",
       "<style scoped>\n",
       "    .dataframe tbody tr th:only-of-type {\n",
       "        vertical-align: middle;\n",
       "    }\n",
       "\n",
       "    .dataframe tbody tr th {\n",
       "        vertical-align: top;\n",
       "    }\n",
       "\n",
       "    .dataframe thead th {\n",
       "        text-align: right;\n",
       "    }\n",
       "</style>\n",
       "<table border=\"1\" class=\"dataframe\">\n",
       "  <thead>\n",
       "    <tr style=\"text-align: right;\">\n",
       "      <th></th>\n",
       "      <th>AAA</th>\n",
       "      <th>BBB</th>\n",
       "      <th>CCC</th>\n",
       "    </tr>\n",
       "  </thead>\n",
       "  <tbody>\n",
       "    <tr>\n",
       "      <th>0</th>\n",
       "      <td>-1.264911</td>\n",
       "      <td>-1.264911</td>\n",
       "      <td>-1.264911</td>\n",
       "    </tr>\n",
       "    <tr>\n",
       "      <th>1</th>\n",
       "      <td>-0.632456</td>\n",
       "      <td>-0.632456</td>\n",
       "      <td>-0.632456</td>\n",
       "    </tr>\n",
       "    <tr>\n",
       "      <th>2</th>\n",
       "      <td>0.000000</td>\n",
       "      <td>0.000000</td>\n",
       "      <td>0.000000</td>\n",
       "    </tr>\n",
       "    <tr>\n",
       "      <th>3</th>\n",
       "      <td>0.632456</td>\n",
       "      <td>0.632456</td>\n",
       "      <td>0.632456</td>\n",
       "    </tr>\n",
       "    <tr>\n",
       "      <th>4</th>\n",
       "      <td>1.264911</td>\n",
       "      <td>1.264911</td>\n",
       "      <td>1.264911</td>\n",
       "    </tr>\n",
       "  </tbody>\n",
       "</table>\n",
       "</div>"
      ],
      "text/plain": [
       "        AAA       BBB       CCC\n",
       "0 -1.264911 -1.264911 -1.264911\n",
       "1 -0.632456 -0.632456 -0.632456\n",
       "2  0.000000  0.000000  0.000000\n",
       "3  0.632456  0.632456  0.632456\n",
       "4  1.264911  1.264911  1.264911"
      ]
     },
     "execution_count": 85,
     "metadata": {},
     "output_type": "execute_result"
    }
   ],
   "source": [
    "# This is known as standardizatic\n",
    "(df - df.mean())/df.std()"
   ]
  },
  {
   "cell_type": "code",
   "execution_count": 86,
   "id": "f65427c1",
   "metadata": {},
   "outputs": [
    {
     "data": {
      "text/html": [
       "<div>\n",
       "<style scoped>\n",
       "    .dataframe tbody tr th:only-of-type {\n",
       "        vertical-align: middle;\n",
       "    }\n",
       "\n",
       "    .dataframe tbody tr th {\n",
       "        vertical-align: top;\n",
       "    }\n",
       "\n",
       "    .dataframe thead th {\n",
       "        text-align: right;\n",
       "    }\n",
       "</style>\n",
       "<table border=\"1\" class=\"dataframe\">\n",
       "  <thead>\n",
       "    <tr style=\"text-align: right;\">\n",
       "      <th></th>\n",
       "      <th>AAA</th>\n",
       "      <th>BBB</th>\n",
       "      <th>CCC</th>\n",
       "    </tr>\n",
       "  </thead>\n",
       "  <tbody>\n",
       "    <tr>\n",
       "      <th>0</th>\n",
       "      <td>0.000000</td>\n",
       "      <td>1.000000</td>\n",
       "      <td>1.414214</td>\n",
       "    </tr>\n",
       "    <tr>\n",
       "      <th>1</th>\n",
       "      <td>1.732051</td>\n",
       "      <td>2.000000</td>\n",
       "      <td>2.236068</td>\n",
       "    </tr>\n",
       "    <tr>\n",
       "      <th>2</th>\n",
       "      <td>2.449490</td>\n",
       "      <td>2.645751</td>\n",
       "      <td>2.828427</td>\n",
       "    </tr>\n",
       "    <tr>\n",
       "      <th>3</th>\n",
       "      <td>3.000000</td>\n",
       "      <td>3.162278</td>\n",
       "      <td>3.316625</td>\n",
       "    </tr>\n",
       "    <tr>\n",
       "      <th>4</th>\n",
       "      <td>3.464102</td>\n",
       "      <td>3.605551</td>\n",
       "      <td>3.741657</td>\n",
       "    </tr>\n",
       "  </tbody>\n",
       "</table>\n",
       "</div>"
      ],
      "text/plain": [
       "        AAA       BBB       CCC\n",
       "0  0.000000  1.000000  1.414214\n",
       "1  1.732051  2.000000  2.236068\n",
       "2  2.449490  2.645751  2.828427\n",
       "3  3.000000  3.162278  3.316625\n",
       "4  3.464102  3.605551  3.741657"
      ]
     },
     "execution_count": 86,
     "metadata": {},
     "output_type": "execute_result"
    }
   ],
   "source": [
    "np.sqrt(df)"
   ]
  },
  {
   "cell_type": "code",
   "execution_count": 87,
   "id": "7b4cf7bf",
   "metadata": {},
   "outputs": [
    {
     "data": {
      "text/plain": [
       "array([[ 0,  1,  2],\n",
       "       [ 3,  4,  5],\n",
       "       [ 6,  7,  8],\n",
       "       [ 9, 10, 11],\n",
       "       [12, 13, 14]])"
      ]
     },
     "execution_count": 87,
     "metadata": {},
     "output_type": "execute_result"
    }
   ],
   "source": [
    "trunc(df)"
   ]
  },
  {
   "cell_type": "code",
   "execution_count": 88,
   "id": "6b1fed6b",
   "metadata": {},
   "outputs": [
    {
     "name": "stdout",
     "output_type": "stream",
     "text": [
      "   AAA  BBB    CCC\n",
      "0    1    0    Bob\n",
      "1    2   -9  Terry\n",
      "2    3    9   Matt\n",
      "3    4    3  Simon\n"
     ]
    }
   ],
   "source": [
    "df2 = DataFrame({'AAA':[1,2,3,4],'BBB':[0,-9,9,3],'CCC':[\"Bob\",\"Terry\",\"Matt\",\"Simon\"]})\n",
    "print(df2)"
   ]
  },
  {
   "cell_type": "code",
   "execution_count": 89,
   "id": "ad3f4894",
   "metadata": {},
   "outputs": [
    {
     "data": {
      "text/html": [
       "<div>\n",
       "<style scoped>\n",
       "    .dataframe tbody tr th:only-of-type {\n",
       "        vertical-align: middle;\n",
       "    }\n",
       "\n",
       "    .dataframe tbody tr th {\n",
       "        vertical-align: top;\n",
       "    }\n",
       "\n",
       "    .dataframe thead th {\n",
       "        text-align: right;\n",
       "    }\n",
       "</style>\n",
       "<table border=\"1\" class=\"dataframe\">\n",
       "  <thead>\n",
       "    <tr style=\"text-align: right;\">\n",
       "      <th></th>\n",
       "      <th>AAA</th>\n",
       "      <th>BBB</th>\n",
       "    </tr>\n",
       "  </thead>\n",
       "  <tbody>\n",
       "    <tr>\n",
       "      <th>0</th>\n",
       "      <td>1</td>\n",
       "      <td>0</td>\n",
       "    </tr>\n",
       "    <tr>\n",
       "      <th>1</th>\n",
       "      <td>2</td>\n",
       "      <td>-9</td>\n",
       "    </tr>\n",
       "    <tr>\n",
       "      <th>2</th>\n",
       "      <td>3</td>\n",
       "      <td>9</td>\n",
       "    </tr>\n",
       "    <tr>\n",
       "      <th>3</th>\n",
       "      <td>4</td>\n",
       "      <td>3</td>\n",
       "    </tr>\n",
       "  </tbody>\n",
       "</table>\n",
       "</div>"
      ],
      "text/plain": [
       "   AAA  BBB\n",
       "0    1    0\n",
       "1    2   -9\n",
       "2    3    9\n",
       "3    4    3"
      ]
     },
     "execution_count": 89,
     "metadata": {},
     "output_type": "execute_result"
    }
   ],
   "source": [
    "df2.select_dtypes([np.number])"
   ]
  },
  {
   "cell_type": "code",
   "execution_count": 90,
   "id": "03ffca73",
   "metadata": {},
   "outputs": [
    {
     "name": "stderr",
     "output_type": "stream",
     "text": [
      "C:\\Users\\digiCAP - LT1 01.35\\anaconda-3\\lib\\site-packages\\pandas\\core\\internals\\blocks.py:351: RuntimeWarning: invalid value encountered in sqrt\n",
      "  result = func(self.values, **kwargs)\n"
     ]
    },
    {
     "data": {
      "text/html": [
       "<div>\n",
       "<style scoped>\n",
       "    .dataframe tbody tr th:only-of-type {\n",
       "        vertical-align: middle;\n",
       "    }\n",
       "\n",
       "    .dataframe tbody tr th {\n",
       "        vertical-align: top;\n",
       "    }\n",
       "\n",
       "    .dataframe thead th {\n",
       "        text-align: right;\n",
       "    }\n",
       "</style>\n",
       "<table border=\"1\" class=\"dataframe\">\n",
       "  <thead>\n",
       "    <tr style=\"text-align: right;\">\n",
       "      <th></th>\n",
       "      <th>AAA</th>\n",
       "      <th>BBB</th>\n",
       "    </tr>\n",
       "  </thead>\n",
       "  <tbody>\n",
       "    <tr>\n",
       "      <th>0</th>\n",
       "      <td>1.000000</td>\n",
       "      <td>0.000000</td>\n",
       "    </tr>\n",
       "    <tr>\n",
       "      <th>1</th>\n",
       "      <td>1.414214</td>\n",
       "      <td>NaN</td>\n",
       "    </tr>\n",
       "    <tr>\n",
       "      <th>2</th>\n",
       "      <td>1.732051</td>\n",
       "      <td>3.000000</td>\n",
       "    </tr>\n",
       "    <tr>\n",
       "      <th>3</th>\n",
       "      <td>2.000000</td>\n",
       "      <td>1.732051</td>\n",
       "    </tr>\n",
       "  </tbody>\n",
       "</table>\n",
       "</div>"
      ],
      "text/plain": [
       "        AAA       BBB\n",
       "0  1.000000  0.000000\n",
       "1  1.414214       NaN\n",
       "2  1.732051  3.000000\n",
       "3  2.000000  1.732051"
      ]
     },
     "execution_count": 90,
     "metadata": {},
     "output_type": "execute_result"
    }
   ],
   "source": [
    "np.sqrt(df2.select_dtypes([np.number]))"
   ]
  },
  {
   "cell_type": "code",
   "execution_count": 91,
   "id": "bda9fb15",
   "metadata": {},
   "outputs": [
    {
     "data": {
      "text/plain": [
       "2.8844991406148166"
      ]
     },
     "execution_count": 91,
     "metadata": {},
     "output_type": "execute_result"
    }
   ],
   "source": [
    "def geomean(srs):\n",
    "    return srs.prod()**(1/len(srs))\n",
    "\n",
    "geomean(Series([2,3,4]))"
   ]
  },
  {
   "cell_type": "code",
   "execution_count": 92,
   "id": "0777ea00",
   "metadata": {},
   "outputs": [
    {
     "data": {
      "text/plain": [
       "AAA    0.000000\n",
       "BBB    5.154900\n",
       "CCC    6.578428\n",
       "dtype: float64"
      ]
     },
     "execution_count": 92,
     "metadata": {},
     "output_type": "execute_result"
    }
   ],
   "source": [
    "df.apply(geomean)"
   ]
  },
  {
   "cell_type": "code",
   "execution_count": 93,
   "id": "490591b4",
   "metadata": {},
   "outputs": [
    {
     "data": {
      "text/plain": [
       "0     0.000000\n",
       "1     3.914868\n",
       "2     6.952053\n",
       "3     9.966555\n",
       "4    12.974308\n",
       "dtype: float64"
      ]
     },
     "execution_count": 93,
     "metadata": {},
     "output_type": "execute_result"
    }
   ],
   "source": [
    "df.apply(geomean, axis = 'columns')"
   ]
  },
  {
   "cell_type": "code",
   "execution_count": 94,
   "id": "38bba408",
   "metadata": {
    "scrolled": true
   },
   "outputs": [
    {
     "data": {
      "text/html": [
       "<div>\n",
       "<style scoped>\n",
       "    .dataframe tbody tr th:only-of-type {\n",
       "        vertical-align: middle;\n",
       "    }\n",
       "\n",
       "    .dataframe tbody tr th {\n",
       "        vertical-align: top;\n",
       "    }\n",
       "\n",
       "    .dataframe thead th {\n",
       "        text-align: right;\n",
       "    }\n",
       "</style>\n",
       "<table border=\"1\" class=\"dataframe\">\n",
       "  <thead>\n",
       "    <tr style=\"text-align: right;\">\n",
       "      <th></th>\n",
       "      <th>AAA</th>\n",
       "      <th>BBB</th>\n",
       "      <th>CCC</th>\n",
       "    </tr>\n",
       "  </thead>\n",
       "  <tbody>\n",
       "    <tr>\n",
       "      <th>0</th>\n",
       "      <td>3</td>\n",
       "      <td>3</td>\n",
       "      <td>3</td>\n",
       "    </tr>\n",
       "    <tr>\n",
       "      <th>1</th>\n",
       "      <td>3</td>\n",
       "      <td>4</td>\n",
       "      <td>5</td>\n",
       "    </tr>\n",
       "    <tr>\n",
       "      <th>2</th>\n",
       "      <td>6</td>\n",
       "      <td>7</td>\n",
       "      <td>8</td>\n",
       "    </tr>\n",
       "    <tr>\n",
       "      <th>3</th>\n",
       "      <td>9</td>\n",
       "      <td>10</td>\n",
       "      <td>11</td>\n",
       "    </tr>\n",
       "    <tr>\n",
       "      <th>4</th>\n",
       "      <td>12</td>\n",
       "      <td>13</td>\n",
       "      <td>14</td>\n",
       "    </tr>\n",
       "  </tbody>\n",
       "</table>\n",
       "</div>"
      ],
      "text/plain": [
       "   AAA  BBB  CCC\n",
       "0    3    3    3\n",
       "1    3    4    5\n",
       "2    6    7    8\n",
       "3    9   10   11\n",
       "4   12   13   14"
      ]
     },
     "execution_count": 94,
     "metadata": {},
     "output_type": "execute_result"
    }
   ],
   "source": [
    "df.applymap(lambda x: x if x > 3 else 3)"
   ]
  },
  {
   "cell_type": "code",
   "execution_count": 95,
   "id": "16675a30",
   "metadata": {},
   "outputs": [
    {
     "data": {
      "text/html": [
       "<div>\n",
       "<style scoped>\n",
       "    .dataframe tbody tr th:only-of-type {\n",
       "        vertical-align: middle;\n",
       "    }\n",
       "\n",
       "    .dataframe tbody tr th {\n",
       "        vertical-align: top;\n",
       "    }\n",
       "\n",
       "    .dataframe thead th {\n",
       "        text-align: right;\n",
       "    }\n",
       "</style>\n",
       "<table border=\"1\" class=\"dataframe\">\n",
       "  <thead>\n",
       "    <tr style=\"text-align: right;\">\n",
       "      <th></th>\n",
       "      <th>AAA</th>\n",
       "      <th>BBB</th>\n",
       "      <th>CCC</th>\n",
       "    </tr>\n",
       "  </thead>\n",
       "  <tbody>\n",
       "    <tr>\n",
       "      <th>0</th>\n",
       "      <td>0.304804</td>\n",
       "      <td>0.178511</td>\n",
       "      <td>NaN</td>\n",
       "    </tr>\n",
       "    <tr>\n",
       "      <th>1</th>\n",
       "      <td>-1.484025</td>\n",
       "      <td>1.392566</td>\n",
       "      <td>NaN</td>\n",
       "    </tr>\n",
       "    <tr>\n",
       "      <th>2</th>\n",
       "      <td>-0.671615</td>\n",
       "      <td>NaN</td>\n",
       "      <td>-0.771352</td>\n",
       "    </tr>\n",
       "    <tr>\n",
       "      <th>3</th>\n",
       "      <td>-0.833110</td>\n",
       "      <td>-0.345178</td>\n",
       "      <td>-0.965174</td>\n",
       "    </tr>\n",
       "    <tr>\n",
       "      <th>4</th>\n",
       "      <td>0.529332</td>\n",
       "      <td>0.938578</td>\n",
       "      <td>-0.192022</td>\n",
       "    </tr>\n",
       "    <tr>\n",
       "      <th>5</th>\n",
       "      <td>-0.254229</td>\n",
       "      <td>NaN</td>\n",
       "      <td>-0.774641</td>\n",
       "    </tr>\n",
       "    <tr>\n",
       "      <th>6</th>\n",
       "      <td>NaN</td>\n",
       "      <td>-0.281788</td>\n",
       "      <td>0.183904</td>\n",
       "    </tr>\n",
       "  </tbody>\n",
       "</table>\n",
       "</div>"
      ],
      "text/plain": [
       "        AAA       BBB       CCC\n",
       "0  0.304804  0.178511       NaN\n",
       "1 -1.484025  1.392566       NaN\n",
       "2 -0.671615       NaN -0.771352\n",
       "3 -0.833110 -0.345178 -0.965174\n",
       "4  0.529332  0.938578 -0.192022\n",
       "5 -0.254229       NaN -0.774641\n",
       "6       NaN -0.281788  0.183904"
      ]
     },
     "execution_count": 95,
     "metadata": {},
     "output_type": "execute_result"
    }
   ],
   "source": [
    "vals = np.random.randn(21)\n",
    "vals[random.sample([i for i in range(21)],5)] = np.nan\n",
    "df = DataFrame(vals.reshape(7,3), columns = ['AAA','BBB','CCC'])\n",
    "df"
   ]
  },
  {
   "cell_type": "code",
   "execution_count": 96,
   "id": "f27773e6",
   "metadata": {},
   "outputs": [
    {
     "name": "stdout",
     "output_type": "stream",
     "text": [
      "0     2.0\n",
      "1     3.0\n",
      "2     3.0\n",
      "3     9.0\n",
      "4     8.0\n",
      "5     NaN\n",
      "6     8.0\n",
      "7     NaN\n",
      "8     4.0\n",
      "9     4.0\n",
      "10    5.0\n",
      "dtype: float64\n"
     ]
    }
   ],
   "source": [
    "srs = Series([2,3,3,9,8,np.nan,8,np.nan,4,4,5])\n",
    "print(srs)"
   ]
  },
  {
   "cell_type": "code",
   "execution_count": 97,
   "id": "cafe433a",
   "metadata": {},
   "outputs": [
    {
     "data": {
      "text/html": [
       "<div>\n",
       "<style scoped>\n",
       "    .dataframe tbody tr th:only-of-type {\n",
       "        vertical-align: middle;\n",
       "    }\n",
       "\n",
       "    .dataframe tbody tr th {\n",
       "        vertical-align: top;\n",
       "    }\n",
       "\n",
       "    .dataframe thead th {\n",
       "        text-align: right;\n",
       "    }\n",
       "</style>\n",
       "<table border=\"1\" class=\"dataframe\">\n",
       "  <thead>\n",
       "    <tr style=\"text-align: right;\">\n",
       "      <th></th>\n",
       "      <th>AAA</th>\n",
       "      <th>BBB</th>\n",
       "      <th>CCC</th>\n",
       "    </tr>\n",
       "  </thead>\n",
       "  <tbody>\n",
       "    <tr>\n",
       "      <th>0</th>\n",
       "      <td>False</td>\n",
       "      <td>False</td>\n",
       "      <td>True</td>\n",
       "    </tr>\n",
       "    <tr>\n",
       "      <th>1</th>\n",
       "      <td>False</td>\n",
       "      <td>False</td>\n",
       "      <td>True</td>\n",
       "    </tr>\n",
       "    <tr>\n",
       "      <th>2</th>\n",
       "      <td>False</td>\n",
       "      <td>True</td>\n",
       "      <td>False</td>\n",
       "    </tr>\n",
       "    <tr>\n",
       "      <th>3</th>\n",
       "      <td>False</td>\n",
       "      <td>False</td>\n",
       "      <td>False</td>\n",
       "    </tr>\n",
       "    <tr>\n",
       "      <th>4</th>\n",
       "      <td>False</td>\n",
       "      <td>False</td>\n",
       "      <td>False</td>\n",
       "    </tr>\n",
       "    <tr>\n",
       "      <th>5</th>\n",
       "      <td>False</td>\n",
       "      <td>True</td>\n",
       "      <td>False</td>\n",
       "    </tr>\n",
       "    <tr>\n",
       "      <th>6</th>\n",
       "      <td>True</td>\n",
       "      <td>False</td>\n",
       "      <td>False</td>\n",
       "    </tr>\n",
       "  </tbody>\n",
       "</table>\n",
       "</div>"
      ],
      "text/plain": [
       "     AAA    BBB    CCC\n",
       "0  False  False   True\n",
       "1  False  False   True\n",
       "2  False   True  False\n",
       "3  False  False  False\n",
       "4  False  False  False\n",
       "5  False   True  False\n",
       "6   True  False  False"
      ]
     },
     "execution_count": 97,
     "metadata": {},
     "output_type": "execute_result"
    }
   ],
   "source": [
    "np.isnan(df)"
   ]
  },
  {
   "cell_type": "code",
   "execution_count": 98,
   "id": "b33439ed",
   "metadata": {},
   "outputs": [
    {
     "data": {
      "text/html": [
       "<div>\n",
       "<style scoped>\n",
       "    .dataframe tbody tr th:only-of-type {\n",
       "        vertical-align: middle;\n",
       "    }\n",
       "\n",
       "    .dataframe tbody tr th {\n",
       "        vertical-align: top;\n",
       "    }\n",
       "\n",
       "    .dataframe thead th {\n",
       "        text-align: right;\n",
       "    }\n",
       "</style>\n",
       "<table border=\"1\" class=\"dataframe\">\n",
       "  <thead>\n",
       "    <tr style=\"text-align: right;\">\n",
       "      <th></th>\n",
       "      <th>AAA</th>\n",
       "      <th>BBB</th>\n",
       "      <th>CCC</th>\n",
       "    </tr>\n",
       "  </thead>\n",
       "  <tbody>\n",
       "    <tr>\n",
       "      <th>0</th>\n",
       "      <td>False</td>\n",
       "      <td>False</td>\n",
       "      <td>True</td>\n",
       "    </tr>\n",
       "    <tr>\n",
       "      <th>1</th>\n",
       "      <td>False</td>\n",
       "      <td>False</td>\n",
       "      <td>True</td>\n",
       "    </tr>\n",
       "    <tr>\n",
       "      <th>2</th>\n",
       "      <td>False</td>\n",
       "      <td>True</td>\n",
       "      <td>False</td>\n",
       "    </tr>\n",
       "    <tr>\n",
       "      <th>3</th>\n",
       "      <td>False</td>\n",
       "      <td>False</td>\n",
       "      <td>False</td>\n",
       "    </tr>\n",
       "    <tr>\n",
       "      <th>4</th>\n",
       "      <td>False</td>\n",
       "      <td>False</td>\n",
       "      <td>False</td>\n",
       "    </tr>\n",
       "    <tr>\n",
       "      <th>5</th>\n",
       "      <td>False</td>\n",
       "      <td>True</td>\n",
       "      <td>False</td>\n",
       "    </tr>\n",
       "    <tr>\n",
       "      <th>6</th>\n",
       "      <td>True</td>\n",
       "      <td>False</td>\n",
       "      <td>False</td>\n",
       "    </tr>\n",
       "  </tbody>\n",
       "</table>\n",
       "</div>"
      ],
      "text/plain": [
       "     AAA    BBB    CCC\n",
       "0  False  False   True\n",
       "1  False  False   True\n",
       "2  False   True  False\n",
       "3  False  False  False\n",
       "4  False  False  False\n",
       "5  False   True  False\n",
       "6   True  False  False"
      ]
     },
     "execution_count": 98,
     "metadata": {},
     "output_type": "execute_result"
    }
   ],
   "source": [
    "df.isnull()"
   ]
  },
  {
   "cell_type": "code",
   "execution_count": 99,
   "id": "e9f1d100",
   "metadata": {},
   "outputs": [
    {
     "data": {
      "text/html": [
       "<div>\n",
       "<style scoped>\n",
       "    .dataframe tbody tr th:only-of-type {\n",
       "        vertical-align: middle;\n",
       "    }\n",
       "\n",
       "    .dataframe tbody tr th {\n",
       "        vertical-align: top;\n",
       "    }\n",
       "\n",
       "    .dataframe thead th {\n",
       "        text-align: right;\n",
       "    }\n",
       "</style>\n",
       "<table border=\"1\" class=\"dataframe\">\n",
       "  <thead>\n",
       "    <tr style=\"text-align: right;\">\n",
       "      <th></th>\n",
       "      <th>AAA</th>\n",
       "      <th>BBB</th>\n",
       "      <th>CCC</th>\n",
       "    </tr>\n",
       "  </thead>\n",
       "  <tbody>\n",
       "    <tr>\n",
       "      <th>0</th>\n",
       "      <td>True</td>\n",
       "      <td>True</td>\n",
       "      <td>False</td>\n",
       "    </tr>\n",
       "    <tr>\n",
       "      <th>1</th>\n",
       "      <td>True</td>\n",
       "      <td>True</td>\n",
       "      <td>False</td>\n",
       "    </tr>\n",
       "    <tr>\n",
       "      <th>2</th>\n",
       "      <td>True</td>\n",
       "      <td>False</td>\n",
       "      <td>True</td>\n",
       "    </tr>\n",
       "    <tr>\n",
       "      <th>3</th>\n",
       "      <td>True</td>\n",
       "      <td>True</td>\n",
       "      <td>True</td>\n",
       "    </tr>\n",
       "    <tr>\n",
       "      <th>4</th>\n",
       "      <td>True</td>\n",
       "      <td>True</td>\n",
       "      <td>True</td>\n",
       "    </tr>\n",
       "    <tr>\n",
       "      <th>5</th>\n",
       "      <td>True</td>\n",
       "      <td>False</td>\n",
       "      <td>True</td>\n",
       "    </tr>\n",
       "    <tr>\n",
       "      <th>6</th>\n",
       "      <td>False</td>\n",
       "      <td>True</td>\n",
       "      <td>True</td>\n",
       "    </tr>\n",
       "  </tbody>\n",
       "</table>\n",
       "</div>"
      ],
      "text/plain": [
       "     AAA    BBB    CCC\n",
       "0   True   True  False\n",
       "1   True   True  False\n",
       "2   True  False   True\n",
       "3   True   True   True\n",
       "4   True   True   True\n",
       "5   True  False   True\n",
       "6  False   True   True"
      ]
     },
     "execution_count": 99,
     "metadata": {},
     "output_type": "execute_result"
    }
   ],
   "source": [
    "df.notnull()"
   ]
  },
  {
   "cell_type": "markdown",
   "id": "c9ca18bc",
   "metadata": {},
   "source": [
    "# Deleting missing information"
   ]
  },
  {
   "cell_type": "code",
   "execution_count": 100,
   "id": "655b1932",
   "metadata": {},
   "outputs": [
    {
     "data": {
      "text/html": [
       "<div>\n",
       "<style scoped>\n",
       "    .dataframe tbody tr th:only-of-type {\n",
       "        vertical-align: middle;\n",
       "    }\n",
       "\n",
       "    .dataframe tbody tr th {\n",
       "        vertical-align: top;\n",
       "    }\n",
       "\n",
       "    .dataframe thead th {\n",
       "        text-align: right;\n",
       "    }\n",
       "</style>\n",
       "<table border=\"1\" class=\"dataframe\">\n",
       "  <thead>\n",
       "    <tr style=\"text-align: right;\">\n",
       "      <th></th>\n",
       "      <th>AAA</th>\n",
       "      <th>BBB</th>\n",
       "      <th>CCC</th>\n",
       "    </tr>\n",
       "  </thead>\n",
       "  <tbody>\n",
       "    <tr>\n",
       "      <th>3</th>\n",
       "      <td>-0.833110</td>\n",
       "      <td>-0.345178</td>\n",
       "      <td>-0.965174</td>\n",
       "    </tr>\n",
       "    <tr>\n",
       "      <th>4</th>\n",
       "      <td>0.529332</td>\n",
       "      <td>0.938578</td>\n",
       "      <td>-0.192022</td>\n",
       "    </tr>\n",
       "  </tbody>\n",
       "</table>\n",
       "</div>"
      ],
      "text/plain": [
       "        AAA       BBB       CCC\n",
       "3 -0.833110 -0.345178 -0.965174\n",
       "4  0.529332  0.938578 -0.192022"
      ]
     },
     "execution_count": 100,
     "metadata": {},
     "output_type": "execute_result"
    }
   ],
   "source": [
    "df.dropna()"
   ]
  },
  {
   "cell_type": "code",
   "execution_count": 101,
   "id": "3472ce48",
   "metadata": {},
   "outputs": [
    {
     "name": "stdout",
     "output_type": "stream",
     "text": [
      "0     2.0\n",
      "1     3.0\n",
      "2     3.0\n",
      "3     9.0\n",
      "4     8.0\n",
      "6     8.0\n",
      "8     4.0\n",
      "9     4.0\n",
      "10    5.0\n",
      "dtype: float64\n"
     ]
    }
   ],
   "source": [
    "print(srs.dropna())"
   ]
  },
  {
   "cell_type": "markdown",
   "id": "9e6f75bf",
   "metadata": {},
   "source": [
    "## Filling missing information"
   ]
  },
  {
   "cell_type": "code",
   "execution_count": 102,
   "id": "97b4c1dc",
   "metadata": {},
   "outputs": [
    {
     "name": "stdout",
     "output_type": "stream",
     "text": [
      "5.111111111111111\n"
     ]
    }
   ],
   "source": [
    "xbar = srs.mean()\n",
    "print(xbar)"
   ]
  },
  {
   "cell_type": "code",
   "execution_count": 103,
   "id": "6d3b37b8",
   "metadata": {},
   "outputs": [
    {
     "name": "stdout",
     "output_type": "stream",
     "text": [
      "0     2.0\n",
      "1     3.0\n",
      "2     3.0\n",
      "3     9.0\n",
      "4     8.0\n",
      "5     0.0\n",
      "6     8.0\n",
      "7     0.0\n",
      "8     4.0\n",
      "9     4.0\n",
      "10    5.0\n",
      "dtype: float64\n"
     ]
    }
   ],
   "source": [
    "print(srs.fillna(0))"
   ]
  },
  {
   "cell_type": "code",
   "execution_count": 104,
   "id": "bdf8126c",
   "metadata": {},
   "outputs": [
    {
     "name": "stdout",
     "output_type": "stream",
     "text": [
      "0     2.000000\n",
      "1     3.000000\n",
      "2     3.000000\n",
      "3     9.000000\n",
      "4     8.000000\n",
      "5     5.111111\n",
      "6     8.000000\n",
      "7     5.111111\n",
      "8     4.000000\n",
      "9     4.000000\n",
      "10    5.000000\n",
      "dtype: float64\n"
     ]
    }
   ],
   "source": [
    "print(srs.fillna(xbar))"
   ]
  },
  {
   "cell_type": "code",
   "execution_count": 105,
   "id": "8de73df2",
   "metadata": {},
   "outputs": [
    {
     "data": {
      "text/plain": [
       "5.111111111111111"
      ]
     },
     "execution_count": 105,
     "metadata": {},
     "output_type": "execute_result"
    }
   ],
   "source": [
    "srs.fillna(xbar).mean()"
   ]
  },
  {
   "cell_type": "code",
   "execution_count": 106,
   "id": "62c47b01",
   "metadata": {},
   "outputs": [
    {
     "data": {
      "text/plain": [
       "2.5712081034235856"
      ]
     },
     "execution_count": 106,
     "metadata": {},
     "output_type": "execute_result"
    }
   ],
   "source": [
    "srs.std()"
   ]
  },
  {
   "cell_type": "code",
   "execution_count": 107,
   "id": "4cf52f86",
   "metadata": {},
   "outputs": [
    {
     "name": "stdout",
     "output_type": "stream",
     "text": [
      "5    4.0\n",
      "7    3.0\n",
      "dtype: float64\n"
     ]
    }
   ],
   "source": [
    "s = srs.std()\n",
    "rep = Series(np.random.choice(srs[srs.notnull()],size=2),index=[5,7])\n",
    "print(rep)"
   ]
  },
  {
   "cell_type": "code",
   "execution_count": 108,
   "id": "edb75def",
   "metadata": {},
   "outputs": [
    {
     "data": {
      "text/plain": [
       "0     2.0\n",
       "1     3.0\n",
       "2     3.0\n",
       "3     9.0\n",
       "4     8.0\n",
       "5     4.0\n",
       "6     8.0\n",
       "7     3.0\n",
       "8     4.0\n",
       "9     4.0\n",
       "10    5.0\n",
       "dtype: float64"
      ]
     },
     "execution_count": 108,
     "metadata": {},
     "output_type": "execute_result"
    }
   ],
   "source": [
    "srs.fillna(rep)"
   ]
  },
  {
   "cell_type": "code",
   "execution_count": 109,
   "id": "65be0368",
   "metadata": {},
   "outputs": [
    {
     "data": {
      "text/plain": [
       "4.818181818181818"
      ]
     },
     "execution_count": 109,
     "metadata": {},
     "output_type": "execute_result"
    }
   ],
   "source": [
    "srs.fillna(rep).mean()"
   ]
  },
  {
   "cell_type": "code",
   "execution_count": 110,
   "id": "274f14e6",
   "metadata": {},
   "outputs": [
    {
     "data": {
      "text/plain": [
       "2.400757456228422"
      ]
     },
     "execution_count": 110,
     "metadata": {},
     "output_type": "execute_result"
    }
   ],
   "source": [
    "srs.fillna(rep).std()"
   ]
  },
  {
   "cell_type": "code",
   "execution_count": 111,
   "id": "cc57d573",
   "metadata": {},
   "outputs": [
    {
     "data": {
      "text/html": [
       "<div>\n",
       "<style scoped>\n",
       "    .dataframe tbody tr th:only-of-type {\n",
       "        vertical-align: middle;\n",
       "    }\n",
       "\n",
       "    .dataframe tbody tr th {\n",
       "        vertical-align: top;\n",
       "    }\n",
       "\n",
       "    .dataframe thead th {\n",
       "        text-align: right;\n",
       "    }\n",
       "</style>\n",
       "<table border=\"1\" class=\"dataframe\">\n",
       "  <thead>\n",
       "    <tr style=\"text-align: right;\">\n",
       "      <th></th>\n",
       "      <th>AAA</th>\n",
       "      <th>BBB</th>\n",
       "      <th>CCC</th>\n",
       "    </tr>\n",
       "  </thead>\n",
       "  <tbody>\n",
       "    <tr>\n",
       "      <th>0</th>\n",
       "      <td>0.304804</td>\n",
       "      <td>0.178511</td>\n",
       "      <td>0.000000</td>\n",
       "    </tr>\n",
       "    <tr>\n",
       "      <th>1</th>\n",
       "      <td>-1.484025</td>\n",
       "      <td>1.392566</td>\n",
       "      <td>0.000000</td>\n",
       "    </tr>\n",
       "    <tr>\n",
       "      <th>2</th>\n",
       "      <td>-0.671615</td>\n",
       "      <td>0.000000</td>\n",
       "      <td>-0.771352</td>\n",
       "    </tr>\n",
       "    <tr>\n",
       "      <th>3</th>\n",
       "      <td>-0.833110</td>\n",
       "      <td>-0.345178</td>\n",
       "      <td>-0.965174</td>\n",
       "    </tr>\n",
       "    <tr>\n",
       "      <th>4</th>\n",
       "      <td>0.529332</td>\n",
       "      <td>0.938578</td>\n",
       "      <td>-0.192022</td>\n",
       "    </tr>\n",
       "    <tr>\n",
       "      <th>5</th>\n",
       "      <td>-0.254229</td>\n",
       "      <td>0.000000</td>\n",
       "      <td>-0.774641</td>\n",
       "    </tr>\n",
       "    <tr>\n",
       "      <th>6</th>\n",
       "      <td>0.000000</td>\n",
       "      <td>-0.281788</td>\n",
       "      <td>0.183904</td>\n",
       "    </tr>\n",
       "  </tbody>\n",
       "</table>\n",
       "</div>"
      ],
      "text/plain": [
       "        AAA       BBB       CCC\n",
       "0  0.304804  0.178511  0.000000\n",
       "1 -1.484025  1.392566  0.000000\n",
       "2 -0.671615  0.000000 -0.771352\n",
       "3 -0.833110 -0.345178 -0.965174\n",
       "4  0.529332  0.938578 -0.192022\n",
       "5 -0.254229  0.000000 -0.774641\n",
       "6  0.000000 -0.281788  0.183904"
      ]
     },
     "execution_count": 111,
     "metadata": {},
     "output_type": "execute_result"
    }
   ],
   "source": [
    "df.fillna(0)"
   ]
  },
  {
   "cell_type": "code",
   "execution_count": 112,
   "id": "a1e0e9c8",
   "metadata": {},
   "outputs": [
    {
     "data": {
      "text/plain": [
       "AAA   -0.401474\n",
       "BBB    0.376538\n",
       "CCC   -0.503857\n",
       "dtype: float64"
      ]
     },
     "execution_count": 112,
     "metadata": {},
     "output_type": "execute_result"
    }
   ],
   "source": [
    "df.mean()"
   ]
  },
  {
   "cell_type": "code",
   "execution_count": 113,
   "id": "9b7e7c67",
   "metadata": {},
   "outputs": [
    {
     "data": {
      "text/html": [
       "<div>\n",
       "<style scoped>\n",
       "    .dataframe tbody tr th:only-of-type {\n",
       "        vertical-align: middle;\n",
       "    }\n",
       "\n",
       "    .dataframe tbody tr th {\n",
       "        vertical-align: top;\n",
       "    }\n",
       "\n",
       "    .dataframe thead th {\n",
       "        text-align: right;\n",
       "    }\n",
       "</style>\n",
       "<table border=\"1\" class=\"dataframe\">\n",
       "  <thead>\n",
       "    <tr style=\"text-align: right;\">\n",
       "      <th></th>\n",
       "      <th>AAA</th>\n",
       "      <th>BBB</th>\n",
       "      <th>CCC</th>\n",
       "    </tr>\n",
       "  </thead>\n",
       "  <tbody>\n",
       "    <tr>\n",
       "      <th>0</th>\n",
       "      <td>0.304804</td>\n",
       "      <td>0.178511</td>\n",
       "      <td>-0.503857</td>\n",
       "    </tr>\n",
       "    <tr>\n",
       "      <th>1</th>\n",
       "      <td>-1.484025</td>\n",
       "      <td>1.392566</td>\n",
       "      <td>-0.503857</td>\n",
       "    </tr>\n",
       "    <tr>\n",
       "      <th>2</th>\n",
       "      <td>-0.671615</td>\n",
       "      <td>0.376538</td>\n",
       "      <td>-0.771352</td>\n",
       "    </tr>\n",
       "    <tr>\n",
       "      <th>3</th>\n",
       "      <td>-0.833110</td>\n",
       "      <td>-0.345178</td>\n",
       "      <td>-0.965174</td>\n",
       "    </tr>\n",
       "    <tr>\n",
       "      <th>4</th>\n",
       "      <td>0.529332</td>\n",
       "      <td>0.938578</td>\n",
       "      <td>-0.192022</td>\n",
       "    </tr>\n",
       "    <tr>\n",
       "      <th>5</th>\n",
       "      <td>-0.254229</td>\n",
       "      <td>0.376538</td>\n",
       "      <td>-0.774641</td>\n",
       "    </tr>\n",
       "    <tr>\n",
       "      <th>6</th>\n",
       "      <td>-0.401474</td>\n",
       "      <td>-0.281788</td>\n",
       "      <td>0.183904</td>\n",
       "    </tr>\n",
       "  </tbody>\n",
       "</table>\n",
       "</div>"
      ],
      "text/plain": [
       "        AAA       BBB       CCC\n",
       "0  0.304804  0.178511 -0.503857\n",
       "1 -1.484025  1.392566 -0.503857\n",
       "2 -0.671615  0.376538 -0.771352\n",
       "3 -0.833110 -0.345178 -0.965174\n",
       "4  0.529332  0.938578 -0.192022\n",
       "5 -0.254229  0.376538 -0.774641\n",
       "6 -0.401474 -0.281788  0.183904"
      ]
     },
     "execution_count": 113,
     "metadata": {},
     "output_type": "execute_result"
    }
   ],
   "source": [
    "df.fillna(df.mean())"
   ]
  },
  {
   "cell_type": "code",
   "execution_count": 114,
   "id": "63ed2276",
   "metadata": {},
   "outputs": [
    {
     "data": {
      "text/plain": [
       "AAA    0.750748\n",
       "BBB    0.765128\n",
       "CCC    0.481650\n",
       "dtype: float64"
      ]
     },
     "execution_count": 114,
     "metadata": {},
     "output_type": "execute_result"
    }
   ],
   "source": [
    "df.std()"
   ]
  },
  {
   "cell_type": "code",
   "execution_count": 115,
   "id": "5bceaf71",
   "metadata": {},
   "outputs": [
    {
     "data": {
      "text/plain": [
       "AAA    0.685336\n",
       "BBB    0.624725\n",
       "CCC    0.393266\n",
       "dtype: float64"
      ]
     },
     "execution_count": 115,
     "metadata": {},
     "output_type": "execute_result"
    }
   ],
   "source": [
    "df.fillna(df.mean()).std()"
   ]
  },
  {
   "cell_type": "code",
   "execution_count": 116,
   "id": "01ca1321",
   "metadata": {},
   "outputs": [
    {
     "data": {
      "text/plain": [
       "0    0.304804\n",
       "1   -1.484025\n",
       "2   -0.671615\n",
       "3   -0.833110\n",
       "4    0.529332\n",
       "5   -0.254229\n",
       "Name: AAA, dtype: float64"
      ]
     },
     "execution_count": 116,
     "metadata": {},
     "output_type": "execute_result"
    }
   ],
   "source": [
    "col=\"AAA\"\n",
    "df[col][df[col].notnull()]"
   ]
  },
  {
   "cell_type": "code",
   "execution_count": 117,
   "id": "19fec275",
   "metadata": {},
   "outputs": [
    {
     "data": {
      "text/plain": [
       "{'AAA': 6   -0.83311\n",
       " dtype: float64,\n",
       " 'BBB': 2    1.392566\n",
       " 5    1.392566\n",
       " dtype: float64,\n",
       " 'CCC': 0   -0.774641\n",
       " 1   -0.771352\n",
       " dtype: float64}"
      ]
     },
     "execution_count": 117,
     "metadata": {},
     "output_type": "execute_result"
    }
   ],
   "source": [
    "rep_df= {col:Series(np.random.choice(df[col][df[col].notnull()],\n",
    "                                    size=df.isnull()[col].value_counts()[True]),\n",
    "                   index=df[col][df[col].isnull()].index)\n",
    "        for col in df}\n",
    "rep_df"
   ]
  },
  {
   "cell_type": "code",
   "execution_count": 118,
   "id": "e8d4dff9",
   "metadata": {},
   "outputs": [
    {
     "data": {
      "text/html": [
       "<div>\n",
       "<style scoped>\n",
       "    .dataframe tbody tr th:only-of-type {\n",
       "        vertical-align: middle;\n",
       "    }\n",
       "\n",
       "    .dataframe tbody tr th {\n",
       "        vertical-align: top;\n",
       "    }\n",
       "\n",
       "    .dataframe thead th {\n",
       "        text-align: right;\n",
       "    }\n",
       "</style>\n",
       "<table border=\"1\" class=\"dataframe\">\n",
       "  <thead>\n",
       "    <tr style=\"text-align: right;\">\n",
       "      <th></th>\n",
       "      <th>AAA</th>\n",
       "      <th>BBB</th>\n",
       "      <th>CCC</th>\n",
       "    </tr>\n",
       "  </thead>\n",
       "  <tbody>\n",
       "    <tr>\n",
       "      <th>0</th>\n",
       "      <td>0.304804</td>\n",
       "      <td>0.178511</td>\n",
       "      <td>-0.774641</td>\n",
       "    </tr>\n",
       "    <tr>\n",
       "      <th>1</th>\n",
       "      <td>-1.484025</td>\n",
       "      <td>1.392566</td>\n",
       "      <td>-0.771352</td>\n",
       "    </tr>\n",
       "    <tr>\n",
       "      <th>2</th>\n",
       "      <td>-0.671615</td>\n",
       "      <td>1.392566</td>\n",
       "      <td>-0.771352</td>\n",
       "    </tr>\n",
       "    <tr>\n",
       "      <th>3</th>\n",
       "      <td>-0.833110</td>\n",
       "      <td>-0.345178</td>\n",
       "      <td>-0.965174</td>\n",
       "    </tr>\n",
       "    <tr>\n",
       "      <th>4</th>\n",
       "      <td>0.529332</td>\n",
       "      <td>0.938578</td>\n",
       "      <td>-0.192022</td>\n",
       "    </tr>\n",
       "    <tr>\n",
       "      <th>5</th>\n",
       "      <td>-0.254229</td>\n",
       "      <td>1.392566</td>\n",
       "      <td>-0.774641</td>\n",
       "    </tr>\n",
       "    <tr>\n",
       "      <th>6</th>\n",
       "      <td>-0.833110</td>\n",
       "      <td>-0.281788</td>\n",
       "      <td>0.183904</td>\n",
       "    </tr>\n",
       "  </tbody>\n",
       "</table>\n",
       "</div>"
      ],
      "text/plain": [
       "        AAA       BBB       CCC\n",
       "0  0.304804  0.178511 -0.774641\n",
       "1 -1.484025  1.392566 -0.771352\n",
       "2 -0.671615  1.392566 -0.771352\n",
       "3 -0.833110 -0.345178 -0.965174\n",
       "4  0.529332  0.938578 -0.192022\n",
       "5 -0.254229  1.392566 -0.774641\n",
       "6 -0.833110 -0.281788  0.183904"
      ]
     },
     "execution_count": 118,
     "metadata": {},
     "output_type": "execute_result"
    }
   ],
   "source": [
    "df.fillna(rep_df)"
   ]
  },
  {
   "cell_type": "code",
   "execution_count": 119,
   "id": "c3791855",
   "metadata": {},
   "outputs": [
    {
     "data": {
      "text/plain": [
       "AAA   -0.463136\n",
       "BBB    0.666831\n",
       "CCC   -0.580754\n",
       "dtype: float64"
      ]
     },
     "execution_count": 119,
     "metadata": {},
     "output_type": "execute_result"
    }
   ],
   "source": [
    "df.fillna(rep_df).mean()"
   ]
  },
  {
   "cell_type": "code",
   "execution_count": 120,
   "id": "adea8b38",
   "metadata": {},
   "outputs": [
    {
     "data": {
      "text/plain": [
       "AAA    0.704486\n",
       "BBB    0.797540\n",
       "CCC    0.414615\n",
       "dtype: float64"
      ]
     },
     "execution_count": 120,
     "metadata": {},
     "output_type": "execute_result"
    }
   ],
   "source": [
    "df.fillna(rep_df).std()"
   ]
  },
  {
   "cell_type": "code",
   "execution_count": 121,
   "id": "3dd254d6",
   "metadata": {},
   "outputs": [
    {
     "data": {
      "text/html": [
       "<div>\n",
       "<style scoped>\n",
       "    .dataframe tbody tr th:only-of-type {\n",
       "        vertical-align: middle;\n",
       "    }\n",
       "\n",
       "    .dataframe tbody tr th {\n",
       "        vertical-align: top;\n",
       "    }\n",
       "\n",
       "    .dataframe thead th {\n",
       "        text-align: right;\n",
       "    }\n",
       "</style>\n",
       "<table border=\"1\" class=\"dataframe\">\n",
       "  <thead>\n",
       "    <tr style=\"text-align: right;\">\n",
       "      <th></th>\n",
       "      <th>AAA</th>\n",
       "      <th>BBB</th>\n",
       "      <th>CCC</th>\n",
       "    </tr>\n",
       "  </thead>\n",
       "  <tbody>\n",
       "    <tr>\n",
       "      <th>d</th>\n",
       "      <td>3.0</td>\n",
       "      <td>10.0</td>\n",
       "      <td>8.0</td>\n",
       "    </tr>\n",
       "    <tr>\n",
       "      <th>e</th>\n",
       "      <td>5.0</td>\n",
       "      <td>4.0</td>\n",
       "      <td>-4.0</td>\n",
       "    </tr>\n",
       "    <tr>\n",
       "      <th>f</th>\n",
       "      <td>13.0</td>\n",
       "      <td>-18.0</td>\n",
       "      <td>-6.0</td>\n",
       "    </tr>\n",
       "    <tr>\n",
       "      <th>c</th>\n",
       "      <td>-5.0</td>\n",
       "      <td>3.0</td>\n",
       "      <td>6.0</td>\n",
       "    </tr>\n",
       "    <tr>\n",
       "      <th>a</th>\n",
       "      <td>20.0</td>\n",
       "      <td>15.0</td>\n",
       "      <td>5.0</td>\n",
       "    </tr>\n",
       "    <tr>\n",
       "      <th>b</th>\n",
       "      <td>9.0</td>\n",
       "      <td>-10.0</td>\n",
       "      <td>-12.0</td>\n",
       "    </tr>\n",
       "    <tr>\n",
       "      <th>g</th>\n",
       "      <td>22.0</td>\n",
       "      <td>14.0</td>\n",
       "      <td>2.0</td>\n",
       "    </tr>\n",
       "  </tbody>\n",
       "</table>\n",
       "</div>"
      ],
      "text/plain": [
       "    AAA   BBB   CCC\n",
       "d   3.0  10.0   8.0\n",
       "e   5.0   4.0  -4.0\n",
       "f  13.0 -18.0  -6.0\n",
       "c  -5.0   3.0   6.0\n",
       "a  20.0  15.0   5.0\n",
       "b   9.0 -10.0 -12.0\n",
       "g  22.0  14.0   2.0"
      ]
     },
     "execution_count": 121,
     "metadata": {},
     "output_type": "execute_result"
    }
   ],
   "source": [
    "df=DataFrame(np.round(np.random.randn(7,3)*10),\n",
    "            columns=[\"AAA\",\"BBB\",\"CCC\"],\n",
    "            index=list(\"defcabg\"))\n",
    "df"
   ]
  },
  {
   "cell_type": "code",
   "execution_count": 122,
   "id": "9375e257",
   "metadata": {},
   "outputs": [
    {
     "data": {
      "text/html": [
       "<div>\n",
       "<style scoped>\n",
       "    .dataframe tbody tr th:only-of-type {\n",
       "        vertical-align: middle;\n",
       "    }\n",
       "\n",
       "    .dataframe tbody tr th {\n",
       "        vertical-align: top;\n",
       "    }\n",
       "\n",
       "    .dataframe thead th {\n",
       "        text-align: right;\n",
       "    }\n",
       "</style>\n",
       "<table border=\"1\" class=\"dataframe\">\n",
       "  <thead>\n",
       "    <tr style=\"text-align: right;\">\n",
       "      <th></th>\n",
       "      <th>AAA</th>\n",
       "      <th>BBB</th>\n",
       "      <th>CCC</th>\n",
       "    </tr>\n",
       "  </thead>\n",
       "  <tbody>\n",
       "    <tr>\n",
       "      <th>a</th>\n",
       "      <td>20.0</td>\n",
       "      <td>15.0</td>\n",
       "      <td>5.0</td>\n",
       "    </tr>\n",
       "    <tr>\n",
       "      <th>b</th>\n",
       "      <td>9.0</td>\n",
       "      <td>-10.0</td>\n",
       "      <td>-12.0</td>\n",
       "    </tr>\n",
       "    <tr>\n",
       "      <th>c</th>\n",
       "      <td>-5.0</td>\n",
       "      <td>3.0</td>\n",
       "      <td>6.0</td>\n",
       "    </tr>\n",
       "    <tr>\n",
       "      <th>d</th>\n",
       "      <td>3.0</td>\n",
       "      <td>10.0</td>\n",
       "      <td>8.0</td>\n",
       "    </tr>\n",
       "    <tr>\n",
       "      <th>e</th>\n",
       "      <td>5.0</td>\n",
       "      <td>4.0</td>\n",
       "      <td>-4.0</td>\n",
       "    </tr>\n",
       "    <tr>\n",
       "      <th>f</th>\n",
       "      <td>13.0</td>\n",
       "      <td>-18.0</td>\n",
       "      <td>-6.0</td>\n",
       "    </tr>\n",
       "    <tr>\n",
       "      <th>g</th>\n",
       "      <td>22.0</td>\n",
       "      <td>14.0</td>\n",
       "      <td>2.0</td>\n",
       "    </tr>\n",
       "  </tbody>\n",
       "</table>\n",
       "</div>"
      ],
      "text/plain": [
       "    AAA   BBB   CCC\n",
       "a  20.0  15.0   5.0\n",
       "b   9.0 -10.0 -12.0\n",
       "c  -5.0   3.0   6.0\n",
       "d   3.0  10.0   8.0\n",
       "e   5.0   4.0  -4.0\n",
       "f  13.0 -18.0  -6.0\n",
       "g  22.0  14.0   2.0"
      ]
     },
     "execution_count": 122,
     "metadata": {},
     "output_type": "execute_result"
    }
   ],
   "source": [
    "df.sort_index()"
   ]
  },
  {
   "cell_type": "code",
   "execution_count": 123,
   "id": "33e7c282",
   "metadata": {},
   "outputs": [
    {
     "data": {
      "text/html": [
       "<div>\n",
       "<style scoped>\n",
       "    .dataframe tbody tr th:only-of-type {\n",
       "        vertical-align: middle;\n",
       "    }\n",
       "\n",
       "    .dataframe tbody tr th {\n",
       "        vertical-align: top;\n",
       "    }\n",
       "\n",
       "    .dataframe thead th {\n",
       "        text-align: right;\n",
       "    }\n",
       "</style>\n",
       "<table border=\"1\" class=\"dataframe\">\n",
       "  <thead>\n",
       "    <tr style=\"text-align: right;\">\n",
       "      <th></th>\n",
       "      <th>CCC</th>\n",
       "      <th>BBB</th>\n",
       "      <th>AAA</th>\n",
       "    </tr>\n",
       "  </thead>\n",
       "  <tbody>\n",
       "    <tr>\n",
       "      <th>d</th>\n",
       "      <td>8.0</td>\n",
       "      <td>10.0</td>\n",
       "      <td>3.0</td>\n",
       "    </tr>\n",
       "    <tr>\n",
       "      <th>e</th>\n",
       "      <td>-4.0</td>\n",
       "      <td>4.0</td>\n",
       "      <td>5.0</td>\n",
       "    </tr>\n",
       "    <tr>\n",
       "      <th>f</th>\n",
       "      <td>-6.0</td>\n",
       "      <td>-18.0</td>\n",
       "      <td>13.0</td>\n",
       "    </tr>\n",
       "    <tr>\n",
       "      <th>c</th>\n",
       "      <td>6.0</td>\n",
       "      <td>3.0</td>\n",
       "      <td>-5.0</td>\n",
       "    </tr>\n",
       "    <tr>\n",
       "      <th>a</th>\n",
       "      <td>5.0</td>\n",
       "      <td>15.0</td>\n",
       "      <td>20.0</td>\n",
       "    </tr>\n",
       "    <tr>\n",
       "      <th>b</th>\n",
       "      <td>-12.0</td>\n",
       "      <td>-10.0</td>\n",
       "      <td>9.0</td>\n",
       "    </tr>\n",
       "    <tr>\n",
       "      <th>g</th>\n",
       "      <td>2.0</td>\n",
       "      <td>14.0</td>\n",
       "      <td>22.0</td>\n",
       "    </tr>\n",
       "  </tbody>\n",
       "</table>\n",
       "</div>"
      ],
      "text/plain": [
       "    CCC   BBB   AAA\n",
       "d   8.0  10.0   3.0\n",
       "e  -4.0   4.0   5.0\n",
       "f  -6.0 -18.0  13.0\n",
       "c   6.0   3.0  -5.0\n",
       "a   5.0  15.0  20.0\n",
       "b -12.0 -10.0   9.0\n",
       "g   2.0  14.0  22.0"
      ]
     },
     "execution_count": 123,
     "metadata": {},
     "output_type": "execute_result"
    }
   ],
   "source": [
    "df.sort_index(axis=1, ascending=False)"
   ]
  },
  {
   "cell_type": "code",
   "execution_count": 124,
   "id": "f919bb66",
   "metadata": {},
   "outputs": [
    {
     "data": {
      "text/html": [
       "<div>\n",
       "<style scoped>\n",
       "    .dataframe tbody tr th:only-of-type {\n",
       "        vertical-align: middle;\n",
       "    }\n",
       "\n",
       "    .dataframe tbody tr th {\n",
       "        vertical-align: top;\n",
       "    }\n",
       "\n",
       "    .dataframe thead th {\n",
       "        text-align: right;\n",
       "    }\n",
       "</style>\n",
       "<table border=\"1\" class=\"dataframe\">\n",
       "  <thead>\n",
       "    <tr style=\"text-align: right;\">\n",
       "      <th></th>\n",
       "      <th>AAA</th>\n",
       "      <th>BBB</th>\n",
       "      <th>CCC</th>\n",
       "    </tr>\n",
       "  </thead>\n",
       "  <tbody>\n",
       "    <tr>\n",
       "      <th>c</th>\n",
       "      <td>-5.0</td>\n",
       "      <td>3.0</td>\n",
       "      <td>6.0</td>\n",
       "    </tr>\n",
       "    <tr>\n",
       "      <th>d</th>\n",
       "      <td>3.0</td>\n",
       "      <td>10.0</td>\n",
       "      <td>8.0</td>\n",
       "    </tr>\n",
       "    <tr>\n",
       "      <th>e</th>\n",
       "      <td>5.0</td>\n",
       "      <td>4.0</td>\n",
       "      <td>-4.0</td>\n",
       "    </tr>\n",
       "    <tr>\n",
       "      <th>b</th>\n",
       "      <td>9.0</td>\n",
       "      <td>-10.0</td>\n",
       "      <td>-12.0</td>\n",
       "    </tr>\n",
       "    <tr>\n",
       "      <th>f</th>\n",
       "      <td>13.0</td>\n",
       "      <td>-18.0</td>\n",
       "      <td>-6.0</td>\n",
       "    </tr>\n",
       "    <tr>\n",
       "      <th>a</th>\n",
       "      <td>20.0</td>\n",
       "      <td>15.0</td>\n",
       "      <td>5.0</td>\n",
       "    </tr>\n",
       "    <tr>\n",
       "      <th>g</th>\n",
       "      <td>22.0</td>\n",
       "      <td>14.0</td>\n",
       "      <td>2.0</td>\n",
       "    </tr>\n",
       "  </tbody>\n",
       "</table>\n",
       "</div>"
      ],
      "text/plain": [
       "    AAA   BBB   CCC\n",
       "c  -5.0   3.0   6.0\n",
       "d   3.0  10.0   8.0\n",
       "e   5.0   4.0  -4.0\n",
       "b   9.0 -10.0 -12.0\n",
       "f  13.0 -18.0  -6.0\n",
       "a  20.0  15.0   5.0\n",
       "g  22.0  14.0   2.0"
      ]
     },
     "execution_count": 124,
     "metadata": {},
     "output_type": "execute_result"
    }
   ],
   "source": [
    "df.sort_values(by='AAA')"
   ]
  },
  {
   "cell_type": "code",
   "execution_count": 125,
   "id": "2a5c5f32",
   "metadata": {},
   "outputs": [
    {
     "data": {
      "text/html": [
       "<div>\n",
       "<style scoped>\n",
       "    .dataframe tbody tr th:only-of-type {\n",
       "        vertical-align: middle;\n",
       "    }\n",
       "\n",
       "    .dataframe tbody tr th {\n",
       "        vertical-align: top;\n",
       "    }\n",
       "\n",
       "    .dataframe thead th {\n",
       "        text-align: right;\n",
       "    }\n",
       "</style>\n",
       "<table border=\"1\" class=\"dataframe\">\n",
       "  <thead>\n",
       "    <tr style=\"text-align: right;\">\n",
       "      <th></th>\n",
       "      <th>AAA</th>\n",
       "      <th>BBB</th>\n",
       "      <th>CCC</th>\n",
       "    </tr>\n",
       "  </thead>\n",
       "  <tbody>\n",
       "    <tr>\n",
       "      <th>f</th>\n",
       "      <td>13.0</td>\n",
       "      <td>-18.0</td>\n",
       "      <td>-6.0</td>\n",
       "    </tr>\n",
       "    <tr>\n",
       "      <th>b</th>\n",
       "      <td>9.0</td>\n",
       "      <td>-10.0</td>\n",
       "      <td>-12.0</td>\n",
       "    </tr>\n",
       "    <tr>\n",
       "      <th>c</th>\n",
       "      <td>-5.0</td>\n",
       "      <td>3.0</td>\n",
       "      <td>6.0</td>\n",
       "    </tr>\n",
       "    <tr>\n",
       "      <th>e</th>\n",
       "      <td>5.0</td>\n",
       "      <td>4.0</td>\n",
       "      <td>-4.0</td>\n",
       "    </tr>\n",
       "    <tr>\n",
       "      <th>d</th>\n",
       "      <td>3.0</td>\n",
       "      <td>10.0</td>\n",
       "      <td>8.0</td>\n",
       "    </tr>\n",
       "    <tr>\n",
       "      <th>g</th>\n",
       "      <td>22.0</td>\n",
       "      <td>14.0</td>\n",
       "      <td>2.0</td>\n",
       "    </tr>\n",
       "    <tr>\n",
       "      <th>a</th>\n",
       "      <td>20.0</td>\n",
       "      <td>15.0</td>\n",
       "      <td>5.0</td>\n",
       "    </tr>\n",
       "  </tbody>\n",
       "</table>\n",
       "</div>"
      ],
      "text/plain": [
       "    AAA   BBB   CCC\n",
       "f  13.0 -18.0  -6.0\n",
       "b   9.0 -10.0 -12.0\n",
       "c  -5.0   3.0   6.0\n",
       "e   5.0   4.0  -4.0\n",
       "d   3.0  10.0   8.0\n",
       "g  22.0  14.0   2.0\n",
       "a  20.0  15.0   5.0"
      ]
     },
     "execution_count": 125,
     "metadata": {},
     "output_type": "execute_result"
    }
   ],
   "source": [
    "df.sort_values(by=['BBB','CCC'])"
   ]
  },
  {
   "cell_type": "code",
   "execution_count": 126,
   "id": "c995056d",
   "metadata": {},
   "outputs": [
    {
     "data": {
      "text/html": [
       "<div>\n",
       "<style scoped>\n",
       "    .dataframe tbody tr th:only-of-type {\n",
       "        vertical-align: middle;\n",
       "    }\n",
       "\n",
       "    .dataframe tbody tr th {\n",
       "        vertical-align: top;\n",
       "    }\n",
       "\n",
       "    .dataframe thead th {\n",
       "        text-align: right;\n",
       "    }\n",
       "</style>\n",
       "<table border=\"1\" class=\"dataframe\">\n",
       "  <thead>\n",
       "    <tr style=\"text-align: right;\">\n",
       "      <th></th>\n",
       "      <th>AAA</th>\n",
       "      <th>BBB</th>\n",
       "      <th>CCC</th>\n",
       "    </tr>\n",
       "  </thead>\n",
       "  <tbody>\n",
       "    <tr>\n",
       "      <th>d</th>\n",
       "      <td>2.0</td>\n",
       "      <td>5.0</td>\n",
       "      <td>7.0</td>\n",
       "    </tr>\n",
       "    <tr>\n",
       "      <th>e</th>\n",
       "      <td>3.0</td>\n",
       "      <td>4.0</td>\n",
       "      <td>3.0</td>\n",
       "    </tr>\n",
       "    <tr>\n",
       "      <th>f</th>\n",
       "      <td>5.0</td>\n",
       "      <td>1.0</td>\n",
       "      <td>2.0</td>\n",
       "    </tr>\n",
       "    <tr>\n",
       "      <th>c</th>\n",
       "      <td>1.0</td>\n",
       "      <td>3.0</td>\n",
       "      <td>6.0</td>\n",
       "    </tr>\n",
       "    <tr>\n",
       "      <th>a</th>\n",
       "      <td>6.0</td>\n",
       "      <td>7.0</td>\n",
       "      <td>5.0</td>\n",
       "    </tr>\n",
       "    <tr>\n",
       "      <th>b</th>\n",
       "      <td>4.0</td>\n",
       "      <td>2.0</td>\n",
       "      <td>1.0</td>\n",
       "    </tr>\n",
       "    <tr>\n",
       "      <th>g</th>\n",
       "      <td>7.0</td>\n",
       "      <td>6.0</td>\n",
       "      <td>4.0</td>\n",
       "    </tr>\n",
       "  </tbody>\n",
       "</table>\n",
       "</div>"
      ],
      "text/plain": [
       "   AAA  BBB  CCC\n",
       "d  2.0  5.0  7.0\n",
       "e  3.0  4.0  3.0\n",
       "f  5.0  1.0  2.0\n",
       "c  1.0  3.0  6.0\n",
       "a  6.0  7.0  5.0\n",
       "b  4.0  2.0  1.0\n",
       "g  7.0  6.0  4.0"
      ]
     },
     "execution_count": 126,
     "metadata": {},
     "output_type": "execute_result"
    }
   ],
   "source": [
    "df.rank()"
   ]
  },
  {
   "cell_type": "code",
   "execution_count": 127,
   "id": "2dddecbf",
   "metadata": {},
   "outputs": [
    {
     "data": {
      "text/html": [
       "<div>\n",
       "<style scoped>\n",
       "    .dataframe tbody tr th:only-of-type {\n",
       "        vertical-align: middle;\n",
       "    }\n",
       "\n",
       "    .dataframe tbody tr th {\n",
       "        vertical-align: top;\n",
       "    }\n",
       "\n",
       "    .dataframe thead th {\n",
       "        text-align: right;\n",
       "    }\n",
       "</style>\n",
       "<table border=\"1\" class=\"dataframe\">\n",
       "  <thead>\n",
       "    <tr style=\"text-align: right;\">\n",
       "      <th></th>\n",
       "      <th>AAA</th>\n",
       "      <th>BBB</th>\n",
       "      <th>CCC</th>\n",
       "    </tr>\n",
       "  </thead>\n",
       "  <tbody>\n",
       "    <tr>\n",
       "      <th>d</th>\n",
       "      <td>2.0</td>\n",
       "      <td>5.0</td>\n",
       "      <td>7.0</td>\n",
       "    </tr>\n",
       "    <tr>\n",
       "      <th>e</th>\n",
       "      <td>3.0</td>\n",
       "      <td>4.0</td>\n",
       "      <td>3.0</td>\n",
       "    </tr>\n",
       "    <tr>\n",
       "      <th>f</th>\n",
       "      <td>5.0</td>\n",
       "      <td>1.0</td>\n",
       "      <td>2.0</td>\n",
       "    </tr>\n",
       "    <tr>\n",
       "      <th>c</th>\n",
       "      <td>1.0</td>\n",
       "      <td>3.0</td>\n",
       "      <td>6.0</td>\n",
       "    </tr>\n",
       "    <tr>\n",
       "      <th>a</th>\n",
       "      <td>6.0</td>\n",
       "      <td>7.0</td>\n",
       "      <td>5.0</td>\n",
       "    </tr>\n",
       "    <tr>\n",
       "      <th>b</th>\n",
       "      <td>4.0</td>\n",
       "      <td>2.0</td>\n",
       "      <td>1.0</td>\n",
       "    </tr>\n",
       "    <tr>\n",
       "      <th>g</th>\n",
       "      <td>7.0</td>\n",
       "      <td>6.0</td>\n",
       "      <td>4.0</td>\n",
       "    </tr>\n",
       "  </tbody>\n",
       "</table>\n",
       "</div>"
      ],
      "text/plain": [
       "   AAA  BBB  CCC\n",
       "d  2.0  5.0  7.0\n",
       "e  3.0  4.0  3.0\n",
       "f  5.0  1.0  2.0\n",
       "c  1.0  3.0  6.0\n",
       "a  6.0  7.0  5.0\n",
       "b  4.0  2.0  1.0\n",
       "g  7.0  6.0  4.0"
      ]
     },
     "execution_count": 127,
     "metadata": {},
     "output_type": "execute_result"
    }
   ],
   "source": [
    "df.rank(method='max')"
   ]
  },
  {
   "cell_type": "code",
   "execution_count": 128,
   "id": "eaffcc1c",
   "metadata": {},
   "outputs": [
    {
     "data": {
      "text/plain": [
       "a  alpha  1    0\n",
       "          2    1\n",
       "   beta   1    2\n",
       "          2    3\n",
       "b  alpha  1    4\n",
       "          2    5\n",
       "   beta   1    6\n",
       "          2    7\n",
       "dtype: int32"
      ]
     },
     "execution_count": 128,
     "metadata": {},
     "output_type": "execute_result"
    }
   ],
   "source": [
    "midx = pd.MultiIndex([['a','b'],['alpha','beta'],[1,2]],\n",
    "                    [[0,0,0,0,1,1,1,1],\n",
    "                    [0,0,1,1,0,0,1,1],\n",
    "                    [0,1,0,1,0,1,0,1]])\n",
    "Series(np.arange(8),index=midx)"
   ]
  },
  {
   "cell_type": "code",
   "execution_count": 129,
   "id": "d803dea9",
   "metadata": {},
   "outputs": [
    {
     "data": {
      "text/plain": [
       "a  alpha  1    0\n",
       "          2    1\n",
       "   beta   1    2\n",
       "          2    3\n",
       "b  alpha  1    4\n",
       "          2    5\n",
       "   beta   1    6\n",
       "          2    7\n",
       "dtype: int32"
      ]
     },
     "execution_count": 129,
     "metadata": {},
     "output_type": "execute_result"
    }
   ],
   "source": [
    "srs = Series(np.arange(8),\n",
    "            index=[['a','a','a','a','b','b','b','b'],\n",
    "                  ['alpha','alpha','beta','beta',\n",
    "                  'alpha','alpha','beta','beta'],\n",
    "                  [1,2,1,2,1,2,1,2]])\n",
    "srs"
   ]
  },
  {
   "cell_type": "code",
   "execution_count": 130,
   "id": "45371e32",
   "metadata": {},
   "outputs": [
    {
     "data": {
      "text/plain": [
       "alpha  1    4\n",
       "       2    5\n",
       "beta   1    6\n",
       "       2    7\n",
       "dtype: int32"
      ]
     },
     "execution_count": 130,
     "metadata": {},
     "output_type": "execute_result"
    }
   ],
   "source": [
    "srs.loc['b']"
   ]
  },
  {
   "cell_type": "code",
   "execution_count": 131,
   "id": "7e01dcee",
   "metadata": {},
   "outputs": [
    {
     "data": {
      "text/plain": [
       "1    4\n",
       "2    5\n",
       "dtype: int32"
      ]
     },
     "execution_count": 131,
     "metadata": {},
     "output_type": "execute_result"
    }
   ],
   "source": [
    "srs.loc['b', 'alpha']"
   ]
  },
  {
   "cell_type": "code",
   "execution_count": 132,
   "id": "5ab6556e",
   "metadata": {},
   "outputs": [
    {
     "data": {
      "text/plain": [
       "4"
      ]
     },
     "execution_count": 132,
     "metadata": {},
     "output_type": "execute_result"
    }
   ],
   "source": [
    "srs.loc['b', 'alpha',1]"
   ]
  },
  {
   "cell_type": "code",
   "execution_count": 133,
   "id": "9a4cc27f",
   "metadata": {},
   "outputs": [
    {
     "data": {
      "text/plain": [
       "alpha    0\n",
       "beta     2\n",
       "dtype: int32"
      ]
     },
     "execution_count": 133,
     "metadata": {},
     "output_type": "execute_result"
    }
   ],
   "source": [
    "srs.loc['a', : ,1]"
   ]
  },
  {
   "cell_type": "code",
   "execution_count": 134,
   "id": "43aee441",
   "metadata": {},
   "outputs": [
    {
     "data": {
      "text/html": [
       "<div>\n",
       "<style scoped>\n",
       "    .dataframe tbody tr th:only-of-type {\n",
       "        vertical-align: middle;\n",
       "    }\n",
       "\n",
       "    .dataframe tbody tr th {\n",
       "        vertical-align: top;\n",
       "    }\n",
       "\n",
       "    .dataframe thead th {\n",
       "        text-align: right;\n",
       "    }\n",
       "</style>\n",
       "<table border=\"1\" class=\"dataframe\">\n",
       "  <thead>\n",
       "    <tr style=\"text-align: right;\">\n",
       "      <th></th>\n",
       "      <th></th>\n",
       "      <th>AAA</th>\n",
       "      <th>BBB</th>\n",
       "      <th>CCC</th>\n",
       "    </tr>\n",
       "  </thead>\n",
       "  <tbody>\n",
       "    <tr>\n",
       "      <th rowspan=\"2\" valign=\"top\">alpha</th>\n",
       "      <th>1</th>\n",
       "      <td>0.272295</td>\n",
       "      <td>-0.190548</td>\n",
       "      <td>0.435159</td>\n",
       "    </tr>\n",
       "    <tr>\n",
       "      <th>2</th>\n",
       "      <td>0.583782</td>\n",
       "      <td>-0.104153</td>\n",
       "      <td>-1.098158</td>\n",
       "    </tr>\n",
       "    <tr>\n",
       "      <th rowspan=\"2\" valign=\"top\">beta</th>\n",
       "      <th>1</th>\n",
       "      <td>0.813009</td>\n",
       "      <td>-0.792730</td>\n",
       "      <td>0.470029</td>\n",
       "    </tr>\n",
       "    <tr>\n",
       "      <th>2</th>\n",
       "      <td>0.724621</td>\n",
       "      <td>-0.976183</td>\n",
       "      <td>1.096468</td>\n",
       "    </tr>\n",
       "  </tbody>\n",
       "</table>\n",
       "</div>"
      ],
      "text/plain": [
       "              AAA       BBB       CCC\n",
       "alpha 1  0.272295 -0.190548  0.435159\n",
       "      2  0.583782 -0.104153 -1.098158\n",
       "beta  1  0.813009 -0.792730  0.470029\n",
       "      2  0.724621 -0.976183  1.096468"
      ]
     },
     "execution_count": 134,
     "metadata": {},
     "output_type": "execute_result"
    }
   ],
   "source": [
    "df = DataFrame(np.random.randn(8,3), index=midx,\n",
    "              columns=['AAA','BBB','CCC'])\n",
    "df.loc['b']"
   ]
  },
  {
   "cell_type": "code",
   "execution_count": 135,
   "id": "b552f41f",
   "metadata": {},
   "outputs": [
    {
     "data": {
      "text/html": [
       "<div>\n",
       "<style scoped>\n",
       "    .dataframe tbody tr th:only-of-type {\n",
       "        vertical-align: middle;\n",
       "    }\n",
       "\n",
       "    .dataframe tbody tr th {\n",
       "        vertical-align: top;\n",
       "    }\n",
       "\n",
       "    .dataframe thead th {\n",
       "        text-align: right;\n",
       "    }\n",
       "</style>\n",
       "<table border=\"1\" class=\"dataframe\">\n",
       "  <thead>\n",
       "    <tr style=\"text-align: right;\">\n",
       "      <th></th>\n",
       "      <th>AAA</th>\n",
       "      <th>BBB</th>\n",
       "      <th>CCC</th>\n",
       "    </tr>\n",
       "  </thead>\n",
       "  <tbody>\n",
       "    <tr>\n",
       "      <th>1</th>\n",
       "      <td>0.272295</td>\n",
       "      <td>-0.190548</td>\n",
       "      <td>0.435159</td>\n",
       "    </tr>\n",
       "    <tr>\n",
       "      <th>2</th>\n",
       "      <td>0.583782</td>\n",
       "      <td>-0.104153</td>\n",
       "      <td>-1.098158</td>\n",
       "    </tr>\n",
       "  </tbody>\n",
       "</table>\n",
       "</div>"
      ],
      "text/plain": [
       "        AAA       BBB       CCC\n",
       "1  0.272295 -0.190548  0.435159\n",
       "2  0.583782 -0.104153 -1.098158"
      ]
     },
     "execution_count": 135,
     "metadata": {},
     "output_type": "execute_result"
    }
   ],
   "source": [
    "df.loc[('b','alpha')]"
   ]
  },
  {
   "cell_type": "code",
   "execution_count": 136,
   "id": "461805dc",
   "metadata": {},
   "outputs": [
    {
     "data": {
      "text/plain": [
       "AAA    0.272295\n",
       "BBB   -0.190548\n",
       "CCC    0.435159\n",
       "Name: (b, alpha, 1), dtype: float64"
      ]
     },
     "execution_count": 136,
     "metadata": {},
     "output_type": "execute_result"
    }
   ],
   "source": [
    "df.loc[('b','alpha',1)]"
   ]
  },
  {
   "cell_type": "code",
   "execution_count": 137,
   "id": "e9701fc4",
   "metadata": {},
   "outputs": [
    {
     "data": {
      "text/html": [
       "<div>\n",
       "<style scoped>\n",
       "    .dataframe tbody tr th:only-of-type {\n",
       "        vertical-align: middle;\n",
       "    }\n",
       "\n",
       "    .dataframe tbody tr th {\n",
       "        vertical-align: top;\n",
       "    }\n",
       "\n",
       "    .dataframe thead th {\n",
       "        text-align: right;\n",
       "    }\n",
       "</style>\n",
       "<table border=\"1\" class=\"dataframe\">\n",
       "  <thead>\n",
       "    <tr style=\"text-align: right;\">\n",
       "      <th></th>\n",
       "      <th></th>\n",
       "      <th></th>\n",
       "      <th>AAA</th>\n",
       "      <th>BBB</th>\n",
       "      <th>CCC</th>\n",
       "    </tr>\n",
       "  </thead>\n",
       "  <tbody>\n",
       "    <tr>\n",
       "      <th rowspan=\"2\" valign=\"top\">b</th>\n",
       "      <th>alpha</th>\n",
       "      <th>1</th>\n",
       "      <td>0.272295</td>\n",
       "      <td>-0.190548</td>\n",
       "      <td>0.435159</td>\n",
       "    </tr>\n",
       "    <tr>\n",
       "      <th>beta</th>\n",
       "      <th>1</th>\n",
       "      <td>0.813009</td>\n",
       "      <td>-0.792730</td>\n",
       "      <td>0.470029</td>\n",
       "    </tr>\n",
       "  </tbody>\n",
       "</table>\n",
       "</div>"
      ],
      "text/plain": [
       "                AAA       BBB       CCC\n",
       "b alpha 1  0.272295 -0.190548  0.435159\n",
       "  beta  1  0.813009 -0.792730  0.470029"
      ]
     },
     "execution_count": 137,
     "metadata": {},
     "output_type": "execute_result"
    }
   ],
   "source": [
    "df.loc[('b', slice(None),1),:]"
   ]
  },
  {
   "cell_type": "code",
   "execution_count": 138,
   "id": "9f6fde67",
   "metadata": {},
   "outputs": [
    {
     "data": {
      "text/html": [
       "<div>\n",
       "<style scoped>\n",
       "    .dataframe tbody tr th:only-of-type {\n",
       "        vertical-align: middle;\n",
       "    }\n",
       "\n",
       "    .dataframe tbody tr th {\n",
       "        vertical-align: top;\n",
       "    }\n",
       "\n",
       "    .dataframe thead th {\n",
       "        text-align: right;\n",
       "    }\n",
       "</style>\n",
       "<table border=\"1\" class=\"dataframe\">\n",
       "  <thead>\n",
       "    <tr style=\"text-align: right;\">\n",
       "      <th></th>\n",
       "      <th></th>\n",
       "      <th></th>\n",
       "      <th>AAA</th>\n",
       "      <th>BBB</th>\n",
       "    </tr>\n",
       "  </thead>\n",
       "  <tbody>\n",
       "    <tr>\n",
       "      <th rowspan=\"2\" valign=\"top\">a</th>\n",
       "      <th>alpha</th>\n",
       "      <th>1</th>\n",
       "      <td>-1.032275</td>\n",
       "      <td>0.935229</td>\n",
       "    </tr>\n",
       "    <tr>\n",
       "      <th>beta</th>\n",
       "      <th>1</th>\n",
       "      <td>-1.760426</td>\n",
       "      <td>-0.644016</td>\n",
       "    </tr>\n",
       "    <tr>\n",
       "      <th rowspan=\"2\" valign=\"top\">b</th>\n",
       "      <th>alpha</th>\n",
       "      <th>1</th>\n",
       "      <td>0.272295</td>\n",
       "      <td>-0.190548</td>\n",
       "    </tr>\n",
       "    <tr>\n",
       "      <th>beta</th>\n",
       "      <th>1</th>\n",
       "      <td>0.813009</td>\n",
       "      <td>-0.792730</td>\n",
       "    </tr>\n",
       "  </tbody>\n",
       "</table>\n",
       "</div>"
      ],
      "text/plain": [
       "                AAA       BBB\n",
       "a alpha 1 -1.032275  0.935229\n",
       "  beta  1 -1.760426 -0.644016\n",
       "b alpha 1  0.272295 -0.190548\n",
       "  beta  1  0.813009 -0.792730"
      ]
     },
     "execution_count": 138,
     "metadata": {},
     "output_type": "execute_result"
    }
   ],
   "source": [
    "df.loc[(slice(None,'b'),slice(None),1),['AAA','BBB']]"
   ]
  },
  {
   "cell_type": "code",
   "execution_count": 139,
   "id": "4ea1e311",
   "metadata": {},
   "outputs": [
    {
     "data": {
      "text/plain": [
       "a  alpha  1    0.127439\n",
       "   beta   1   -0.919365\n",
       "b  alpha  1    0.435159\n",
       "   beta   1    0.470029\n",
       "Name: CCC, dtype: float64"
      ]
     },
     "execution_count": 139,
     "metadata": {},
     "output_type": "execute_result"
    }
   ],
   "source": [
    "df.loc[(slice(None),slice(None),1),'CCC']"
   ]
  },
  {
   "cell_type": "code",
   "execution_count": 140,
   "id": "a72fb8fe",
   "metadata": {},
   "outputs": [
    {
     "name": "stdout",
     "output_type": "stream",
     "text": [
      "Using matplotlib backend: <object object at 0x00000215BC52FCC0>\n",
      "%pylab is deprecated, use %matplotlib inline and import the required libraries.\n",
      "Populating the interactive namespace from numpy and matplotlib\n"
     ]
    },
    {
     "name": "stderr",
     "output_type": "stream",
     "text": [
      "C:\\Users\\digiCAP - LT1 01.35\\anaconda-3\\lib\\site-packages\\IPython\\core\\magics\\pylab.py:162: UserWarning: pylab import has clobbered these variables: ['trunc', 'random', 'mat']\n",
      "`%matplotlib` prevents importing * from pylab and numpy\n",
      "  warn(\"pylab import has clobbered these variables: %s\"  % clobbered +\n"
     ]
    }
   ],
   "source": [
    "%pylab\n",
    "%matplotlib inline"
   ]
  },
  {
   "cell_type": "code",
   "execution_count": 141,
   "id": "0251474e",
   "metadata": {},
   "outputs": [
    {
     "data": {
      "text/html": [
       "<div>\n",
       "<style scoped>\n",
       "    .dataframe tbody tr th:only-of-type {\n",
       "        vertical-align: middle;\n",
       "    }\n",
       "\n",
       "    .dataframe tbody tr th {\n",
       "        vertical-align: top;\n",
       "    }\n",
       "\n",
       "    .dataframe thead th {\n",
       "        text-align: right;\n",
       "    }\n",
       "</style>\n",
       "<table border=\"1\" class=\"dataframe\">\n",
       "  <thead>\n",
       "    <tr style=\"text-align: right;\">\n",
       "      <th></th>\n",
       "      <th>AAA</th>\n",
       "      <th>BBB</th>\n",
       "      <th>CCC</th>\n",
       "    </tr>\n",
       "  </thead>\n",
       "  <tbody>\n",
       "    <tr>\n",
       "      <th>0</th>\n",
       "      <td>0.562713</td>\n",
       "      <td>-0.811071</td>\n",
       "      <td>-0.451371</td>\n",
       "    </tr>\n",
       "    <tr>\n",
       "      <th>1</th>\n",
       "      <td>-0.403431</td>\n",
       "      <td>0.339819</td>\n",
       "      <td>-1.223899</td>\n",
       "    </tr>\n",
       "    <tr>\n",
       "      <th>2</th>\n",
       "      <td>0.156901</td>\n",
       "      <td>-0.381155</td>\n",
       "      <td>-1.212363</td>\n",
       "    </tr>\n",
       "    <tr>\n",
       "      <th>3</th>\n",
       "      <td>-0.332094</td>\n",
       "      <td>-0.905309</td>\n",
       "      <td>-1.671550</td>\n",
       "    </tr>\n",
       "    <tr>\n",
       "      <th>4</th>\n",
       "      <td>1.205124</td>\n",
       "      <td>-0.664723</td>\n",
       "      <td>-3.591930</td>\n",
       "    </tr>\n",
       "  </tbody>\n",
       "</table>\n",
       "</div>"
      ],
      "text/plain": [
       "        AAA       BBB       CCC\n",
       "0  0.562713 -0.811071 -0.451371\n",
       "1 -0.403431  0.339819 -1.223899\n",
       "2  0.156901 -0.381155 -1.212363\n",
       "3 -0.332094 -0.905309 -1.671550\n",
       "4  1.205124 -0.664723 -3.591930"
      ]
     },
     "execution_count": 141,
     "metadata": {},
     "output_type": "execute_result"
    }
   ],
   "source": [
    "rw = DataFrame(randn(1000,3).cumsum(axis=0),columns=['AAA','BBB','CCC'])\n",
    "rw.head()"
   ]
  },
  {
   "cell_type": "code",
   "execution_count": 142,
   "id": "c0e501b9",
   "metadata": {},
   "outputs": [
    {
     "data": {
      "text/plain": [
       "(1000, 3)"
      ]
     },
     "execution_count": 142,
     "metadata": {},
     "output_type": "execute_result"
    }
   ],
   "source": [
    "rw.shape"
   ]
  },
  {
   "cell_type": "code",
   "execution_count": 146,
   "id": "850de7e2",
   "metadata": {},
   "outputs": [
    {
     "data": {
      "image/png": "[encoded data removed]",
      "text/plain": [
       "<Figure size 1600x700 with 1 Axes>"
      ]
     },
     "metadata": {},
     "output_type": "display_data"
    }
   ],
   "source": [
    "fig, ax = plt.subplots(figsize=(16,7))\n",
    "rw.plot(kind='line', ax=ax);"
   ]
  },
  {
   "cell_type": "code",
   "execution_count": 147,
   "id": "446e2e78",
   "metadata": {},
   "outputs": [
    {
     "data": {
      "text/plain": [
       "pandas.core.series.Series"
      ]
     },
     "execution_count": 147,
     "metadata": {},
     "output_type": "execute_result"
    }
   ],
   "source": [
    "srs = rw.AAA\n",
    "type(srs)"
   ]
  },
  {
   "cell_type": "code",
   "execution_count": 150,
   "id": "505aaed7",
   "metadata": {},
   "outputs": [
    {
     "data": {
      "image/png": "[encoded data removed]",
      "text/plain": [
       "<Figure size 1600x600 with 1 Axes>"
      ]
     },
     "metadata": {},
     "output_type": "display_data"
    }
   ],
   "source": [
    "fig, ax = plt.subplots(figsize=(16,6))\n",
    "srs.plot(kind='line',ax=ax);"
   ]
  },
  {
   "cell_type": "code",
   "execution_count": 151,
   "id": "ed90bc15",
   "metadata": {},
   "outputs": [
    {
     "data": {
      "text/plain": [
       "<Axes: >"
      ]
     },
     "execution_count": 151,
     "metadata": {},
     "output_type": "execute_result"
    },
    {
     "data": {
      "image/png": "[encoded data removed]",
      "text/plain": [
       "<Figure size 1600x600 with 1 Axes>"
      ]
     },
     "metadata": {},
     "output_type": "display_data"
    }
   ],
   "source": [
    "fig, ax = plt.subplots(figsize=(16,6))\n",
    "srs.plot(kind='line', ylim=(-30,30))"
   ]
  },
  {
   "cell_type": "code",
   "execution_count": 152,
   "id": "c3bad5ca",
   "metadata": {},
   "outputs": [
    {
     "data": {
      "text/plain": [
       "<Axes: >"
      ]
     },
     "execution_count": 152,
     "metadata": {},
     "output_type": "execute_result"
    },
    {
     "data": {
      "image/png": "[encoded data removed]",
      "text/plain": [
       "<Figure size 1600x600 with 1 Axes>"
      ]
     },
     "metadata": {},
     "output_type": "display_data"
    }
   ],
   "source": [
    "fig, ax = plt.subplots(figsize=(16,6))\n",
    "srs.hist()"
   ]
  },
  {
   "cell_type": "code",
   "execution_count": 153,
   "id": "bc5cc9d9",
   "metadata": {},
   "outputs": [
    {
     "data": {
      "text/plain": [
       "<Axes: ylabel='Frequency'>"
      ]
     },
     "execution_count": 153,
     "metadata": {},
     "output_type": "execute_result"
    },
    {
     "data": {
      "image/png": "[encoded data removed]",
      "text/plain": [
       "<Figure size 1600x600 with 1 Axes>"
      ]
     },
     "metadata": {},
     "output_type": "display_data"
    }
   ],
   "source": [
    "fig, ax = plt.subplots(figsize=(16,6))\n",
    "srs.plot(kind='hist')"
   ]
  },
  {
   "cell_type": "code",
   "execution_count": 155,
   "id": "3f304073",
   "metadata": {},
   "outputs": [
    {
     "data": {
      "text/plain": [
       "<Axes: ylabel='Density'>"
      ]
     },
     "execution_count": 155,
     "metadata": {},
     "output_type": "execute_result"
    },
    {
     "data": {
      "image/png": "[encoded data removed]",
      "text/plain": [
       "<Figure size 640x480 with 1 Axes>"
      ]
     },
     "metadata": {},
     "output_type": "display_data"
    }
   ],
   "source": [
    "srs.plot(kind='kde')"
   ]
  },
  {
   "cell_type": "code",
   "execution_count": 156,
   "id": "d059a8f6",
   "metadata": {},
   "outputs": [
    {
     "data": {
      "text/plain": [
       "<Axes: >"
      ]
     },
     "execution_count": 156,
     "metadata": {},
     "output_type": "execute_result"
    },
    {
     "data": {
      "image/png": "[encoded data removed]",
      "text/plain": [
       "<Figure size 640x480 with 1 Axes>"
      ]
     },
     "metadata": {},
     "output_type": "display_data"
    }
   ],
   "source": [
    "rw.plot(kind='box')"
   ]
  },
  {
   "cell_type": "code",
   "execution_count": 159,
   "id": "d4edd1e9",
   "metadata": {},
   "outputs": [
    {
     "data": {
      "text/plain": [
       "<Axes: xlabel='AAA', ylabel='BBB'>"
      ]
     },
     "execution_count": 159,
     "metadata": {},
     "output_type": "execute_result"
    },
    {
     "data": {
      "image/png": "[encoded data removed]",
      "text/plain": [
       "<Figure size 1600x600 with 1 Axes>"
      ]
     },
     "metadata": {},
     "output_type": "display_data"
    }
   ],
   "source": [
    "fig, ax = plt.subplots(figsize=(16,6))\n",
    "rw.plot(kind='scatter',x='AAA',y='BBB',ax=ax)  "
   ]
  },
  {
   "cell_type": "code",
   "execution_count": 191,
   "id": "1b3ac659",
   "metadata": {},
   "outputs": [
    {
     "data": {
      "text/plain": [
       "<AxesSubplot:xlabel='AAA', ylabel='BBB'>"
      ]
     },
     "execution_count": 191,
     "metadata": {},
     "output_type": "execute_result"
    },
    {
     "data": {
      "image/png": "[encoded data removed]",
      "text/plain": [
       "<Figure size 432x288 with 2 Axes>"
      ]
     },
     "metadata": {
      "needs_background": "light"
     },
     "output_type": "display_data"
    }
   ],
   "source": [
    "rw.plot(kind='hexbin',x='AAA',y='BBB')"
   ]
  },
  {
   "cell_type": "code",
   "execution_count": 192,
   "id": "c4645d36",
   "metadata": {},
   "outputs": [
    {
     "data": {
      "text/plain": [
       "<AxesSubplot:xlabel='AAA', ylabel='BBB'>"
      ]
     },
     "execution_count": 192,
     "metadata": {},
     "output_type": "execute_result"
    },
    {
     "data": {
      "image/png": "[encoded data removed]",
      "text/plain": [
       "<Figure size 432x288 with 2 Axes>"
      ]
     },
     "metadata": {
      "needs_background": "light"
     },
     "output_type": "display_data"
    }
   ],
   "source": [
    "rw.plot(kind='hexbin',x='AAA',y='BBB', gridsize=25)"
   ]
  },
  {
   "cell_type": "code",
   "execution_count": 193,
   "id": "c7758880",
   "metadata": {},
   "outputs": [
    {
     "data": {
      "text/plain": [
       "<AxesSubplot:>"
      ]
     },
     "execution_count": 193,
     "metadata": {},
     "output_type": "execute_result"
    },
    {
     "data": {
      "image/png": "[encoded data removed]",
      "text/plain": [
       "<Figure size 432x288 with 1 Axes>"
      ]
     },
     "metadata": {
      "needs_background": "light"
     },
     "output_type": "display_data"
    }
   ],
   "source": [
    "rw.std().plot(kind='bar')"
   ]
  },
  {
   "cell_type": "code",
   "execution_count": null,
   "id": "2b85a7c5",
   "metadata": {},
   "outputs": [],
   "source": []
  },
  {
   "cell_type": "code",
   "execution_count": null,
   "id": "7aea99d7",
   "metadata": {},
   "outputs": [],
   "source": []
  }
 ],
 "metadata": {
  "kernelspec": {
   "display_name": "Python 3 (ipykernel)",
   "language": "python",
   "name": "python3"
  },
  "language_info": {
   "codemirror_mode": {
    "name": "ipython",
    "version": 3
   },
   "file_extension": ".py",
   "mimetype": "text/x-python",
   "name": "python",
   "nbconvert_exporter": "python",
   "pygments_lexer": "ipython3",
   "version": "3.10.9"
  }
 },
 "nbformat": 4,
 "nbformat_minor": 5
}
